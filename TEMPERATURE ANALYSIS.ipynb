{
 "cells": [
  {
   "cell_type": "code",
   "execution_count": 1,
   "metadata": {},
   "outputs": [],
   "source": [
    "import pandas as pd\n",
    "import numpy as np\n",
    "import seaborn as sns\n",
    "from scipy import stats\n",
    "import warnings \n",
    "warnings.filterwarnings('ignore')\n",
    "from scipy.stats import zscore\n",
    "from matplotlib import pyplot as plt"
   ]
  },
  {
   "cell_type": "code",
   "execution_count": 2,
   "metadata": {},
   "outputs": [
    {
     "data": {
      "text/html": [
       "<div>\n",
       "<style scoped>\n",
       "    .dataframe tbody tr th:only-of-type {\n",
       "        vertical-align: middle;\n",
       "    }\n",
       "\n",
       "    .dataframe tbody tr th {\n",
       "        vertical-align: top;\n",
       "    }\n",
       "\n",
       "    .dataframe thead th {\n",
       "        text-align: right;\n",
       "    }\n",
       "</style>\n",
       "<table border=\"1\" class=\"dataframe\">\n",
       "  <thead>\n",
       "    <tr style=\"text-align: right;\">\n",
       "      <th></th>\n",
       "      <th>station</th>\n",
       "      <th>Date</th>\n",
       "      <th>Present_Tmax</th>\n",
       "      <th>Present_Tmin</th>\n",
       "      <th>LDAPS_RHmin</th>\n",
       "      <th>LDAPS_RHmax</th>\n",
       "      <th>LDAPS_Tmax_lapse</th>\n",
       "      <th>LDAPS_Tmin_lapse</th>\n",
       "      <th>LDAPS_WS</th>\n",
       "      <th>LDAPS_LH</th>\n",
       "      <th>...</th>\n",
       "      <th>LDAPS_PPT2</th>\n",
       "      <th>LDAPS_PPT3</th>\n",
       "      <th>LDAPS_PPT4</th>\n",
       "      <th>lat</th>\n",
       "      <th>lon</th>\n",
       "      <th>DEM</th>\n",
       "      <th>Slope</th>\n",
       "      <th>Solar radiation</th>\n",
       "      <th>Next_Tmax</th>\n",
       "      <th>Next_Tmin</th>\n",
       "    </tr>\n",
       "  </thead>\n",
       "  <tbody>\n",
       "    <tr>\n",
       "      <th>0</th>\n",
       "      <td>1.0</td>\n",
       "      <td>30-06-2013</td>\n",
       "      <td>28.7</td>\n",
       "      <td>21.4</td>\n",
       "      <td>58.255688</td>\n",
       "      <td>91.116364</td>\n",
       "      <td>28.074101</td>\n",
       "      <td>23.006936</td>\n",
       "      <td>6.818887</td>\n",
       "      <td>69.451805</td>\n",
       "      <td>...</td>\n",
       "      <td>0.0</td>\n",
       "      <td>0.0</td>\n",
       "      <td>0.0</td>\n",
       "      <td>37.6046</td>\n",
       "      <td>126.991</td>\n",
       "      <td>212.3350</td>\n",
       "      <td>2.7850</td>\n",
       "      <td>5992.895996</td>\n",
       "      <td>29.1</td>\n",
       "      <td>21.2</td>\n",
       "    </tr>\n",
       "    <tr>\n",
       "      <th>1</th>\n",
       "      <td>2.0</td>\n",
       "      <td>30-06-2013</td>\n",
       "      <td>31.9</td>\n",
       "      <td>21.6</td>\n",
       "      <td>52.263397</td>\n",
       "      <td>90.604721</td>\n",
       "      <td>29.850689</td>\n",
       "      <td>24.035009</td>\n",
       "      <td>5.691890</td>\n",
       "      <td>51.937448</td>\n",
       "      <td>...</td>\n",
       "      <td>0.0</td>\n",
       "      <td>0.0</td>\n",
       "      <td>0.0</td>\n",
       "      <td>37.6046</td>\n",
       "      <td>127.032</td>\n",
       "      <td>44.7624</td>\n",
       "      <td>0.5141</td>\n",
       "      <td>5869.312500</td>\n",
       "      <td>30.5</td>\n",
       "      <td>22.5</td>\n",
       "    </tr>\n",
       "    <tr>\n",
       "      <th>2</th>\n",
       "      <td>3.0</td>\n",
       "      <td>30-06-2013</td>\n",
       "      <td>31.6</td>\n",
       "      <td>23.3</td>\n",
       "      <td>48.690479</td>\n",
       "      <td>83.973587</td>\n",
       "      <td>30.091292</td>\n",
       "      <td>24.565633</td>\n",
       "      <td>6.138224</td>\n",
       "      <td>20.573050</td>\n",
       "      <td>...</td>\n",
       "      <td>0.0</td>\n",
       "      <td>0.0</td>\n",
       "      <td>0.0</td>\n",
       "      <td>37.5776</td>\n",
       "      <td>127.058</td>\n",
       "      <td>33.3068</td>\n",
       "      <td>0.2661</td>\n",
       "      <td>5863.555664</td>\n",
       "      <td>31.1</td>\n",
       "      <td>23.9</td>\n",
       "    </tr>\n",
       "    <tr>\n",
       "      <th>3</th>\n",
       "      <td>4.0</td>\n",
       "      <td>30-06-2013</td>\n",
       "      <td>32.0</td>\n",
       "      <td>23.4</td>\n",
       "      <td>58.239788</td>\n",
       "      <td>96.483688</td>\n",
       "      <td>29.704629</td>\n",
       "      <td>23.326177</td>\n",
       "      <td>5.650050</td>\n",
       "      <td>65.727144</td>\n",
       "      <td>...</td>\n",
       "      <td>0.0</td>\n",
       "      <td>0.0</td>\n",
       "      <td>0.0</td>\n",
       "      <td>37.6450</td>\n",
       "      <td>127.022</td>\n",
       "      <td>45.7160</td>\n",
       "      <td>2.5348</td>\n",
       "      <td>5856.964844</td>\n",
       "      <td>31.7</td>\n",
       "      <td>24.3</td>\n",
       "    </tr>\n",
       "    <tr>\n",
       "      <th>4</th>\n",
       "      <td>5.0</td>\n",
       "      <td>30-06-2013</td>\n",
       "      <td>31.4</td>\n",
       "      <td>21.9</td>\n",
       "      <td>56.174095</td>\n",
       "      <td>90.155128</td>\n",
       "      <td>29.113934</td>\n",
       "      <td>23.486480</td>\n",
       "      <td>5.735004</td>\n",
       "      <td>107.965535</td>\n",
       "      <td>...</td>\n",
       "      <td>0.0</td>\n",
       "      <td>0.0</td>\n",
       "      <td>0.0</td>\n",
       "      <td>37.5507</td>\n",
       "      <td>127.135</td>\n",
       "      <td>35.0380</td>\n",
       "      <td>0.5055</td>\n",
       "      <td>5859.552246</td>\n",
       "      <td>31.2</td>\n",
       "      <td>22.5</td>\n",
       "    </tr>\n",
       "  </tbody>\n",
       "</table>\n",
       "<p>5 rows × 25 columns</p>\n",
       "</div>"
      ],
      "text/plain": [
       "   station        Date  Present_Tmax  Present_Tmin  LDAPS_RHmin  LDAPS_RHmax  \\\n",
       "0      1.0  30-06-2013          28.7          21.4    58.255688    91.116364   \n",
       "1      2.0  30-06-2013          31.9          21.6    52.263397    90.604721   \n",
       "2      3.0  30-06-2013          31.6          23.3    48.690479    83.973587   \n",
       "3      4.0  30-06-2013          32.0          23.4    58.239788    96.483688   \n",
       "4      5.0  30-06-2013          31.4          21.9    56.174095    90.155128   \n",
       "\n",
       "   LDAPS_Tmax_lapse  LDAPS_Tmin_lapse  LDAPS_WS    LDAPS_LH  ...  LDAPS_PPT2  \\\n",
       "0         28.074101         23.006936  6.818887   69.451805  ...         0.0   \n",
       "1         29.850689         24.035009  5.691890   51.937448  ...         0.0   \n",
       "2         30.091292         24.565633  6.138224   20.573050  ...         0.0   \n",
       "3         29.704629         23.326177  5.650050   65.727144  ...         0.0   \n",
       "4         29.113934         23.486480  5.735004  107.965535  ...         0.0   \n",
       "\n",
       "   LDAPS_PPT3  LDAPS_PPT4      lat      lon       DEM   Slope  \\\n",
       "0         0.0         0.0  37.6046  126.991  212.3350  2.7850   \n",
       "1         0.0         0.0  37.6046  127.032   44.7624  0.5141   \n",
       "2         0.0         0.0  37.5776  127.058   33.3068  0.2661   \n",
       "3         0.0         0.0  37.6450  127.022   45.7160  2.5348   \n",
       "4         0.0         0.0  37.5507  127.135   35.0380  0.5055   \n",
       "\n",
       "   Solar radiation  Next_Tmax  Next_Tmin  \n",
       "0      5992.895996       29.1       21.2  \n",
       "1      5869.312500       30.5       22.5  \n",
       "2      5863.555664       31.1       23.9  \n",
       "3      5856.964844       31.7       24.3  \n",
       "4      5859.552246       31.2       22.5  \n",
       "\n",
       "[5 rows x 25 columns]"
      ]
     },
     "execution_count": 2,
     "metadata": {},
     "output_type": "execute_result"
    }
   ],
   "source": [
    "url='https://raw.githubusercontent.com/dsrscientist/Dataset2/main/temperature.csv'\n",
    "df = pd.read_csv(url, error_bad_lines=False)\n",
    "df.head()"
   ]
  },
  {
   "cell_type": "code",
   "execution_count": 3,
   "metadata": {},
   "outputs": [
    {
     "data": {
      "text/plain": [
       "(7752, 25)"
      ]
     },
     "execution_count": 3,
     "metadata": {},
     "output_type": "execute_result"
    }
   ],
   "source": [
    "df.shape"
   ]
  },
  {
   "cell_type": "markdown",
   "metadata": {},
   "source": [
    "DATATFRAME HAS 7725 ROWS AND 25 COLUMNS"
   ]
  },
  {
   "cell_type": "code",
   "execution_count": 4,
   "metadata": {},
   "outputs": [
    {
     "data": {
      "text/html": [
       "<div>\n",
       "<style scoped>\n",
       "    .dataframe tbody tr th:only-of-type {\n",
       "        vertical-align: middle;\n",
       "    }\n",
       "\n",
       "    .dataframe tbody tr th {\n",
       "        vertical-align: top;\n",
       "    }\n",
       "\n",
       "    .dataframe thead th {\n",
       "        text-align: right;\n",
       "    }\n",
       "</style>\n",
       "<table border=\"1\" class=\"dataframe\">\n",
       "  <thead>\n",
       "    <tr style=\"text-align: right;\">\n",
       "      <th></th>\n",
       "      <th>station</th>\n",
       "      <th>Present_Tmax</th>\n",
       "      <th>Present_Tmin</th>\n",
       "      <th>LDAPS_RHmin</th>\n",
       "      <th>LDAPS_RHmax</th>\n",
       "      <th>LDAPS_Tmax_lapse</th>\n",
       "      <th>LDAPS_Tmin_lapse</th>\n",
       "      <th>LDAPS_WS</th>\n",
       "      <th>LDAPS_LH</th>\n",
       "      <th>LDAPS_CC1</th>\n",
       "      <th>...</th>\n",
       "      <th>LDAPS_PPT2</th>\n",
       "      <th>LDAPS_PPT3</th>\n",
       "      <th>LDAPS_PPT4</th>\n",
       "      <th>lat</th>\n",
       "      <th>lon</th>\n",
       "      <th>DEM</th>\n",
       "      <th>Slope</th>\n",
       "      <th>Solar radiation</th>\n",
       "      <th>Next_Tmax</th>\n",
       "      <th>Next_Tmin</th>\n",
       "    </tr>\n",
       "  </thead>\n",
       "  <tbody>\n",
       "    <tr>\n",
       "      <th>count</th>\n",
       "      <td>7750.000000</td>\n",
       "      <td>7682.000000</td>\n",
       "      <td>7682.000000</td>\n",
       "      <td>7677.000000</td>\n",
       "      <td>7677.000000</td>\n",
       "      <td>7677.000000</td>\n",
       "      <td>7677.000000</td>\n",
       "      <td>7677.000000</td>\n",
       "      <td>7677.000000</td>\n",
       "      <td>7677.000000</td>\n",
       "      <td>...</td>\n",
       "      <td>7677.000000</td>\n",
       "      <td>7677.000000</td>\n",
       "      <td>7677.000000</td>\n",
       "      <td>7752.000000</td>\n",
       "      <td>7752.000000</td>\n",
       "      <td>7752.000000</td>\n",
       "      <td>7752.000000</td>\n",
       "      <td>7752.000000</td>\n",
       "      <td>7725.000000</td>\n",
       "      <td>7725.000000</td>\n",
       "    </tr>\n",
       "    <tr>\n",
       "      <th>mean</th>\n",
       "      <td>13.000000</td>\n",
       "      <td>29.768211</td>\n",
       "      <td>23.225059</td>\n",
       "      <td>56.759372</td>\n",
       "      <td>88.374804</td>\n",
       "      <td>29.613447</td>\n",
       "      <td>23.512589</td>\n",
       "      <td>7.097875</td>\n",
       "      <td>62.505019</td>\n",
       "      <td>0.368774</td>\n",
       "      <td>...</td>\n",
       "      <td>0.485003</td>\n",
       "      <td>0.278200</td>\n",
       "      <td>0.269407</td>\n",
       "      <td>37.544722</td>\n",
       "      <td>126.991397</td>\n",
       "      <td>61.867972</td>\n",
       "      <td>1.257048</td>\n",
       "      <td>5341.502803</td>\n",
       "      <td>30.274887</td>\n",
       "      <td>22.932220</td>\n",
       "    </tr>\n",
       "    <tr>\n",
       "      <th>std</th>\n",
       "      <td>7.211568</td>\n",
       "      <td>2.969999</td>\n",
       "      <td>2.413961</td>\n",
       "      <td>14.668111</td>\n",
       "      <td>7.192004</td>\n",
       "      <td>2.947191</td>\n",
       "      <td>2.345347</td>\n",
       "      <td>2.183836</td>\n",
       "      <td>33.730589</td>\n",
       "      <td>0.262458</td>\n",
       "      <td>...</td>\n",
       "      <td>1.762807</td>\n",
       "      <td>1.161809</td>\n",
       "      <td>1.206214</td>\n",
       "      <td>0.050352</td>\n",
       "      <td>0.079435</td>\n",
       "      <td>54.279780</td>\n",
       "      <td>1.370444</td>\n",
       "      <td>429.158867</td>\n",
       "      <td>3.128010</td>\n",
       "      <td>2.487613</td>\n",
       "    </tr>\n",
       "    <tr>\n",
       "      <th>min</th>\n",
       "      <td>1.000000</td>\n",
       "      <td>20.000000</td>\n",
       "      <td>11.300000</td>\n",
       "      <td>19.794666</td>\n",
       "      <td>58.936283</td>\n",
       "      <td>17.624954</td>\n",
       "      <td>14.272646</td>\n",
       "      <td>2.882580</td>\n",
       "      <td>-13.603212</td>\n",
       "      <td>0.000000</td>\n",
       "      <td>...</td>\n",
       "      <td>0.000000</td>\n",
       "      <td>0.000000</td>\n",
       "      <td>0.000000</td>\n",
       "      <td>37.456200</td>\n",
       "      <td>126.826000</td>\n",
       "      <td>12.370000</td>\n",
       "      <td>0.098475</td>\n",
       "      <td>4329.520508</td>\n",
       "      <td>17.400000</td>\n",
       "      <td>11.300000</td>\n",
       "    </tr>\n",
       "    <tr>\n",
       "      <th>25%</th>\n",
       "      <td>7.000000</td>\n",
       "      <td>27.800000</td>\n",
       "      <td>21.700000</td>\n",
       "      <td>45.963543</td>\n",
       "      <td>84.222862</td>\n",
       "      <td>27.673499</td>\n",
       "      <td>22.089739</td>\n",
       "      <td>5.678705</td>\n",
       "      <td>37.266753</td>\n",
       "      <td>0.146654</td>\n",
       "      <td>...</td>\n",
       "      <td>0.000000</td>\n",
       "      <td>0.000000</td>\n",
       "      <td>0.000000</td>\n",
       "      <td>37.510200</td>\n",
       "      <td>126.937000</td>\n",
       "      <td>28.700000</td>\n",
       "      <td>0.271300</td>\n",
       "      <td>4999.018555</td>\n",
       "      <td>28.200000</td>\n",
       "      <td>21.300000</td>\n",
       "    </tr>\n",
       "    <tr>\n",
       "      <th>50%</th>\n",
       "      <td>13.000000</td>\n",
       "      <td>29.900000</td>\n",
       "      <td>23.400000</td>\n",
       "      <td>55.039024</td>\n",
       "      <td>89.793480</td>\n",
       "      <td>29.703426</td>\n",
       "      <td>23.760199</td>\n",
       "      <td>6.547470</td>\n",
       "      <td>56.865482</td>\n",
       "      <td>0.315697</td>\n",
       "      <td>...</td>\n",
       "      <td>0.000000</td>\n",
       "      <td>0.000000</td>\n",
       "      <td>0.000000</td>\n",
       "      <td>37.550700</td>\n",
       "      <td>126.995000</td>\n",
       "      <td>45.716000</td>\n",
       "      <td>0.618000</td>\n",
       "      <td>5436.345215</td>\n",
       "      <td>30.500000</td>\n",
       "      <td>23.100000</td>\n",
       "    </tr>\n",
       "    <tr>\n",
       "      <th>75%</th>\n",
       "      <td>19.000000</td>\n",
       "      <td>32.000000</td>\n",
       "      <td>24.900000</td>\n",
       "      <td>67.190056</td>\n",
       "      <td>93.743629</td>\n",
       "      <td>31.710450</td>\n",
       "      <td>25.152909</td>\n",
       "      <td>8.032276</td>\n",
       "      <td>84.223616</td>\n",
       "      <td>0.575489</td>\n",
       "      <td>...</td>\n",
       "      <td>0.018364</td>\n",
       "      <td>0.007896</td>\n",
       "      <td>0.000041</td>\n",
       "      <td>37.577600</td>\n",
       "      <td>127.042000</td>\n",
       "      <td>59.832400</td>\n",
       "      <td>1.767800</td>\n",
       "      <td>5728.316406</td>\n",
       "      <td>32.600000</td>\n",
       "      <td>24.600000</td>\n",
       "    </tr>\n",
       "    <tr>\n",
       "      <th>max</th>\n",
       "      <td>25.000000</td>\n",
       "      <td>37.600000</td>\n",
       "      <td>29.900000</td>\n",
       "      <td>98.524734</td>\n",
       "      <td>100.000153</td>\n",
       "      <td>38.542255</td>\n",
       "      <td>29.619342</td>\n",
       "      <td>21.857621</td>\n",
       "      <td>213.414006</td>\n",
       "      <td>0.967277</td>\n",
       "      <td>...</td>\n",
       "      <td>21.621661</td>\n",
       "      <td>15.841235</td>\n",
       "      <td>16.655469</td>\n",
       "      <td>37.645000</td>\n",
       "      <td>127.135000</td>\n",
       "      <td>212.335000</td>\n",
       "      <td>5.178230</td>\n",
       "      <td>5992.895996</td>\n",
       "      <td>38.900000</td>\n",
       "      <td>29.800000</td>\n",
       "    </tr>\n",
       "  </tbody>\n",
       "</table>\n",
       "<p>8 rows × 24 columns</p>\n",
       "</div>"
      ],
      "text/plain": [
       "           station  Present_Tmax  Present_Tmin  LDAPS_RHmin  LDAPS_RHmax  \\\n",
       "count  7750.000000   7682.000000   7682.000000  7677.000000  7677.000000   \n",
       "mean     13.000000     29.768211     23.225059    56.759372    88.374804   \n",
       "std       7.211568      2.969999      2.413961    14.668111     7.192004   \n",
       "min       1.000000     20.000000     11.300000    19.794666    58.936283   \n",
       "25%       7.000000     27.800000     21.700000    45.963543    84.222862   \n",
       "50%      13.000000     29.900000     23.400000    55.039024    89.793480   \n",
       "75%      19.000000     32.000000     24.900000    67.190056    93.743629   \n",
       "max      25.000000     37.600000     29.900000    98.524734   100.000153   \n",
       "\n",
       "       LDAPS_Tmax_lapse  LDAPS_Tmin_lapse     LDAPS_WS     LDAPS_LH  \\\n",
       "count       7677.000000       7677.000000  7677.000000  7677.000000   \n",
       "mean          29.613447         23.512589     7.097875    62.505019   \n",
       "std            2.947191          2.345347     2.183836    33.730589   \n",
       "min           17.624954         14.272646     2.882580   -13.603212   \n",
       "25%           27.673499         22.089739     5.678705    37.266753   \n",
       "50%           29.703426         23.760199     6.547470    56.865482   \n",
       "75%           31.710450         25.152909     8.032276    84.223616   \n",
       "max           38.542255         29.619342    21.857621   213.414006   \n",
       "\n",
       "         LDAPS_CC1  ...   LDAPS_PPT2   LDAPS_PPT3   LDAPS_PPT4          lat  \\\n",
       "count  7677.000000  ...  7677.000000  7677.000000  7677.000000  7752.000000   \n",
       "mean      0.368774  ...     0.485003     0.278200     0.269407    37.544722   \n",
       "std       0.262458  ...     1.762807     1.161809     1.206214     0.050352   \n",
       "min       0.000000  ...     0.000000     0.000000     0.000000    37.456200   \n",
       "25%       0.146654  ...     0.000000     0.000000     0.000000    37.510200   \n",
       "50%       0.315697  ...     0.000000     0.000000     0.000000    37.550700   \n",
       "75%       0.575489  ...     0.018364     0.007896     0.000041    37.577600   \n",
       "max       0.967277  ...    21.621661    15.841235    16.655469    37.645000   \n",
       "\n",
       "               lon          DEM        Slope  Solar radiation    Next_Tmax  \\\n",
       "count  7752.000000  7752.000000  7752.000000      7752.000000  7725.000000   \n",
       "mean    126.991397    61.867972     1.257048      5341.502803    30.274887   \n",
       "std       0.079435    54.279780     1.370444       429.158867     3.128010   \n",
       "min     126.826000    12.370000     0.098475      4329.520508    17.400000   \n",
       "25%     126.937000    28.700000     0.271300      4999.018555    28.200000   \n",
       "50%     126.995000    45.716000     0.618000      5436.345215    30.500000   \n",
       "75%     127.042000    59.832400     1.767800      5728.316406    32.600000   \n",
       "max     127.135000   212.335000     5.178230      5992.895996    38.900000   \n",
       "\n",
       "         Next_Tmin  \n",
       "count  7725.000000  \n",
       "mean     22.932220  \n",
       "std       2.487613  \n",
       "min      11.300000  \n",
       "25%      21.300000  \n",
       "50%      23.100000  \n",
       "75%      24.600000  \n",
       "max      29.800000  \n",
       "\n",
       "[8 rows x 24 columns]"
      ]
     },
     "execution_count": 4,
     "metadata": {},
     "output_type": "execute_result"
    }
   ],
   "source": [
    "df.describe()"
   ]
  },
  {
   "cell_type": "markdown",
   "metadata": {},
   "source": [
    "mean minimum temperature is 22.9 and maximum temperature is 30.2"
   ]
  },
  {
   "cell_type": "code",
   "execution_count": 5,
   "metadata": {},
   "outputs": [
    {
     "data": {
      "text/plain": [
       "Index(['station', 'Date', 'Present_Tmax', 'Present_Tmin', 'LDAPS_RHmin',\n",
       "       'LDAPS_RHmax', 'LDAPS_Tmax_lapse', 'LDAPS_Tmin_lapse', 'LDAPS_WS',\n",
       "       'LDAPS_LH', 'LDAPS_CC1', 'LDAPS_CC2', 'LDAPS_CC3', 'LDAPS_CC4',\n",
       "       'LDAPS_PPT1', 'LDAPS_PPT2', 'LDAPS_PPT3', 'LDAPS_PPT4', 'lat', 'lon',\n",
       "       'DEM', 'Slope', 'Solar radiation', 'Next_Tmax', 'Next_Tmin'],\n",
       "      dtype='object')"
      ]
     },
     "execution_count": 5,
     "metadata": {},
     "output_type": "execute_result"
    }
   ],
   "source": [
    "df.columns"
   ]
  },
  {
   "cell_type": "code",
   "execution_count": 6,
   "metadata": {},
   "outputs": [
    {
     "data": {
      "text/plain": [
       "station             float64\n",
       "Date                 object\n",
       "Present_Tmax        float64\n",
       "Present_Tmin        float64\n",
       "LDAPS_RHmin         float64\n",
       "LDAPS_RHmax         float64\n",
       "LDAPS_Tmax_lapse    float64\n",
       "LDAPS_Tmin_lapse    float64\n",
       "LDAPS_WS            float64\n",
       "LDAPS_LH            float64\n",
       "LDAPS_CC1           float64\n",
       "LDAPS_CC2           float64\n",
       "LDAPS_CC3           float64\n",
       "LDAPS_CC4           float64\n",
       "LDAPS_PPT1          float64\n",
       "LDAPS_PPT2          float64\n",
       "LDAPS_PPT3          float64\n",
       "LDAPS_PPT4          float64\n",
       "lat                 float64\n",
       "lon                 float64\n",
       "DEM                 float64\n",
       "Slope               float64\n",
       "Solar radiation     float64\n",
       "Next_Tmax           float64\n",
       "Next_Tmin           float64\n",
       "dtype: object"
      ]
     },
     "execution_count": 6,
     "metadata": {},
     "output_type": "execute_result"
    }
   ],
   "source": [
    "df.dtypes"
   ]
  },
  {
   "cell_type": "code",
   "execution_count": 7,
   "metadata": {},
   "outputs": [
    {
     "data": {
      "text/plain": [
       "station              2\n",
       "Date                 2\n",
       "Present_Tmax        70\n",
       "Present_Tmin        70\n",
       "LDAPS_RHmin         75\n",
       "LDAPS_RHmax         75\n",
       "LDAPS_Tmax_lapse    75\n",
       "LDAPS_Tmin_lapse    75\n",
       "LDAPS_WS            75\n",
       "LDAPS_LH            75\n",
       "LDAPS_CC1           75\n",
       "LDAPS_CC2           75\n",
       "LDAPS_CC3           75\n",
       "LDAPS_CC4           75\n",
       "LDAPS_PPT1          75\n",
       "LDAPS_PPT2          75\n",
       "LDAPS_PPT3          75\n",
       "LDAPS_PPT4          75\n",
       "lat                  0\n",
       "lon                  0\n",
       "DEM                  0\n",
       "Slope                0\n",
       "Solar radiation      0\n",
       "Next_Tmax           27\n",
       "Next_Tmin           27\n",
       "dtype: int64"
      ]
     },
     "execution_count": 7,
     "metadata": {},
     "output_type": "execute_result"
    }
   ],
   "source": [
    "df.isnull().sum()"
   ]
  },
  {
   "cell_type": "markdown",
   "metadata": {},
   "source": [
    "we see many columns has null values"
   ]
  },
  {
   "cell_type": "markdown",
   "metadata": {},
   "source": [
    "Handling null values"
   ]
  },
  {
   "cell_type": "code",
   "execution_count": 8,
   "metadata": {},
   "outputs": [
    {
     "data": {
      "text/plain": [
       "Text(0.5, 1.0, 'Maximum Temperature Prediction')"
      ]
     },
     "execution_count": 8,
     "metadata": {},
     "output_type": "execute_result"
    },
    {
     "data": {
      "image/png": "[encoded data removed]",
      "text/plain": [
       "<Figure size 432x288 with 1 Axes>"
      ]
     },
     "metadata": {
      "needs_background": "light"
     },
     "output_type": "display_data"
    }
   ],
   "source": [
    "plt.hist(df['Next_Tmax'])\n",
    "plt.xlabel('Next_Tmax')\n",
    "plt.title('Maximum Temperature Prediction')"
   ]
  },
  {
   "cell_type": "code",
   "execution_count": 9,
   "metadata": {},
   "outputs": [
    {
     "data": {
      "text/plain": [
       "<matplotlib.axes._subplots.AxesSubplot at 0x1e8ae5a0808>"
      ]
     },
     "execution_count": 9,
     "metadata": {},
     "output_type": "execute_result"
    },
    {
     "data": {
      "image/png": "[encoded data removed]",
      "text/plain": [
       "<Figure size 432x288 with 1 Axes>"
      ]
     },
     "metadata": {
      "needs_background": "light"
     },
     "output_type": "display_data"
    }
   ],
   "source": [
    "plt.title('Next day maximum Temperature')\n",
    "sns.distplot(df['Next_Tmax'],kde=True)"
   ]
  },
  {
   "cell_type": "markdown",
   "metadata": {},
   "source": [
    "The distplot clears that next day maximum temparature distribution is lies between 22 to 37."
   ]
  },
  {
   "cell_type": "code",
   "execution_count": 10,
   "metadata": {},
   "outputs": [
    {
     "data": {
      "text/plain": [
       "Text(0.5, 1.0, 'Minimum Temperature Prediction')"
      ]
     },
     "execution_count": 10,
     "metadata": {},
     "output_type": "execute_result"
    },
    {
     "data": {
      "image/png": "[encoded data removed]",
      "text/plain": [
       "<Figure size 432x288 with 1 Axes>"
      ]
     },
     "metadata": {
      "needs_background": "light"
     },
     "output_type": "display_data"
    }
   ],
   "source": [
    "plt.hist(df['Next_Tmin'])\n",
    "plt.xlabel('Next_Tmin')\n",
    "plt.title('Minimum Temperature Prediction')"
   ]
  },
  {
   "cell_type": "code",
   "execution_count": 11,
   "metadata": {},
   "outputs": [
    {
     "data": {
      "text/plain": [
       "<matplotlib.axes._subplots.AxesSubplot at 0x1e8ae7394c8>"
      ]
     },
     "execution_count": 11,
     "metadata": {},
     "output_type": "execute_result"
    },
    {
     "data": {
      "image/png": "[encoded data removed]",
      "text/plain": [
       "<Figure size 432x288 with 1 Axes>"
      ]
     },
     "metadata": {
      "needs_background": "light"
     },
     "output_type": "display_data"
    }
   ],
   "source": [
    "plt.title('Next day minimum Temperature')\n",
    "sns.distplot(df['Next_Tmin'],kde=True)"
   ]
  },
  {
   "cell_type": "markdown",
   "metadata": {},
   "source": [
    "The distplot clears that next day minimum temparature distribution is lies between 15 to 28."
   ]
  },
  {
   "cell_type": "code",
   "execution_count": 12,
   "metadata": {},
   "outputs": [],
   "source": [
    "df['station']=df['station'].fillna(df['station'].mean())\n",
    "df['Present_Tmax']=df['Present_Tmax'].fillna(df['Present_Tmax'].mean())\n",
    "df['Present_Tmin']=df['Present_Tmin'].fillna(df['Present_Tmin'].mean())\n",
    "df['LDAPS_RHmin']=df['LDAPS_RHmin'].fillna(df['LDAPS_RHmin'].mean())\n",
    "df['LDAPS_RHmax']=df['LDAPS_RHmax'].fillna(df['LDAPS_RHmax'].mean())\n",
    "df['LDAPS_Tmax_lapse']=df['LDAPS_Tmax_lapse'].fillna(df['LDAPS_Tmax_lapse'].mean())\n",
    "df['LDAPS_Tmin_lapse']=df['LDAPS_Tmin_lapse'].fillna(df['LDAPS_Tmin_lapse'].mean())\n",
    "df['LDAPS_WS']=df['LDAPS_WS'].fillna(df['LDAPS_WS'].mean())\n",
    "df['LDAPS_LH']=df['LDAPS_LH'].fillna(df['LDAPS_LH'].mean())\n",
    "df['LDAPS_CC1']=df['LDAPS_CC1'].fillna(df['LDAPS_CC1'].mean())\n",
    "df['LDAPS_CC2']=df['LDAPS_CC2'].fillna(df['LDAPS_CC2'].mean())\n",
    "df['LDAPS_CC3']=df['LDAPS_CC3'].fillna(df['LDAPS_CC3'].mean())\n",
    "df['LDAPS_CC4']=df['LDAPS_CC4'].fillna(df['LDAPS_CC4'].mean())\n",
    "df['LDAPS_PPT1']=df['LDAPS_PPT1'].fillna(df['LDAPS_PPT1'].mean())\n",
    "df['LDAPS_PPT2']=df['LDAPS_PPT2'].fillna(df['LDAPS_PPT2'].mean())\n",
    "df['LDAPS_PPT3']=df['LDAPS_PPT3'].fillna(df['LDAPS_PPT3'].mean())\n",
    "df['LDAPS_PPT4']=df['LDAPS_PPT4'].fillna(df['LDAPS_PPT4'].mean())\n",
    "df['Next_Tmax']=df['Next_Tmax'].fillna(df['Next_Tmax'].mean())\n",
    "df['Next_Tmin']=df['Next_Tmin'].fillna(df['Next_Tmin'].mean())"
   ]
  },
  {
   "cell_type": "code",
   "execution_count": 13,
   "metadata": {},
   "outputs": [
    {
     "data": {
      "text/plain": [
       "station             0\n",
       "Date                2\n",
       "Present_Tmax        0\n",
       "Present_Tmin        0\n",
       "LDAPS_RHmin         0\n",
       "LDAPS_RHmax         0\n",
       "LDAPS_Tmax_lapse    0\n",
       "LDAPS_Tmin_lapse    0\n",
       "LDAPS_WS            0\n",
       "LDAPS_LH            0\n",
       "LDAPS_CC1           0\n",
       "LDAPS_CC2           0\n",
       "LDAPS_CC3           0\n",
       "LDAPS_CC4           0\n",
       "LDAPS_PPT1          0\n",
       "LDAPS_PPT2          0\n",
       "LDAPS_PPT3          0\n",
       "LDAPS_PPT4          0\n",
       "lat                 0\n",
       "lon                 0\n",
       "DEM                 0\n",
       "Slope               0\n",
       "Solar radiation     0\n",
       "Next_Tmax           0\n",
       "Next_Tmin           0\n",
       "dtype: int64"
      ]
     },
     "execution_count": 13,
     "metadata": {},
     "output_type": "execute_result"
    }
   ],
   "source": [
    "df.isnull().sum() "
   ]
  },
  {
   "cell_type": "code",
   "execution_count": 14,
   "metadata": {},
   "outputs": [],
   "source": [
    "import datetime as ddt\n",
    "df['Date']=pd.to_datetime(df['Date'])\n",
    "df['Date']=df['Date'].map(ddt.datetime.toordinal)"
   ]
  },
  {
   "cell_type": "code",
   "execution_count": 15,
   "metadata": {},
   "outputs": [
    {
     "data": {
      "text/plain": [
       "station             0\n",
       "Date                0\n",
       "Present_Tmax        0\n",
       "Present_Tmin        0\n",
       "LDAPS_RHmin         0\n",
       "LDAPS_RHmax         0\n",
       "LDAPS_Tmax_lapse    0\n",
       "LDAPS_Tmin_lapse    0\n",
       "LDAPS_WS            0\n",
       "LDAPS_LH            0\n",
       "LDAPS_CC1           0\n",
       "LDAPS_CC2           0\n",
       "LDAPS_CC3           0\n",
       "LDAPS_CC4           0\n",
       "LDAPS_PPT1          0\n",
       "LDAPS_PPT2          0\n",
       "LDAPS_PPT3          0\n",
       "LDAPS_PPT4          0\n",
       "lat                 0\n",
       "lon                 0\n",
       "DEM                 0\n",
       "Slope               0\n",
       "Solar radiation     0\n",
       "Next_Tmax           0\n",
       "Next_Tmin           0\n",
       "dtype: int64"
      ]
     },
     "execution_count": 15,
     "metadata": {},
     "output_type": "execute_result"
    }
   ],
   "source": [
    "df.isnull().sum()"
   ]
  },
  {
   "cell_type": "code",
   "execution_count": 16,
   "metadata": {},
   "outputs": [
    {
     "data": {
      "text/html": [
       "<div>\n",
       "<style scoped>\n",
       "    .dataframe tbody tr th:only-of-type {\n",
       "        vertical-align: middle;\n",
       "    }\n",
       "\n",
       "    .dataframe tbody tr th {\n",
       "        vertical-align: top;\n",
       "    }\n",
       "\n",
       "    .dataframe thead th {\n",
       "        text-align: right;\n",
       "    }\n",
       "</style>\n",
       "<table border=\"1\" class=\"dataframe\">\n",
       "  <thead>\n",
       "    <tr style=\"text-align: right;\">\n",
       "      <th></th>\n",
       "      <th>station</th>\n",
       "      <th>Date</th>\n",
       "      <th>Present_Tmax</th>\n",
       "      <th>Present_Tmin</th>\n",
       "      <th>LDAPS_RHmin</th>\n",
       "      <th>LDAPS_RHmax</th>\n",
       "      <th>LDAPS_Tmax_lapse</th>\n",
       "      <th>LDAPS_Tmin_lapse</th>\n",
       "      <th>LDAPS_WS</th>\n",
       "      <th>LDAPS_LH</th>\n",
       "      <th>...</th>\n",
       "      <th>LDAPS_PPT2</th>\n",
       "      <th>LDAPS_PPT3</th>\n",
       "      <th>LDAPS_PPT4</th>\n",
       "      <th>lat</th>\n",
       "      <th>lon</th>\n",
       "      <th>DEM</th>\n",
       "      <th>Slope</th>\n",
       "      <th>Solar radiation</th>\n",
       "      <th>Next_Tmax</th>\n",
       "      <th>Next_Tmin</th>\n",
       "    </tr>\n",
       "  </thead>\n",
       "  <tbody>\n",
       "    <tr>\n",
       "      <th>0</th>\n",
       "      <td>1.0</td>\n",
       "      <td>735049</td>\n",
       "      <td>28.7</td>\n",
       "      <td>21.4</td>\n",
       "      <td>58.255688</td>\n",
       "      <td>91.116364</td>\n",
       "      <td>28.074101</td>\n",
       "      <td>23.006936</td>\n",
       "      <td>6.818887</td>\n",
       "      <td>69.451805</td>\n",
       "      <td>...</td>\n",
       "      <td>0.0</td>\n",
       "      <td>0.0</td>\n",
       "      <td>0.0</td>\n",
       "      <td>37.6046</td>\n",
       "      <td>126.991</td>\n",
       "      <td>212.3350</td>\n",
       "      <td>2.7850</td>\n",
       "      <td>5992.895996</td>\n",
       "      <td>29.1</td>\n",
       "      <td>21.2</td>\n",
       "    </tr>\n",
       "    <tr>\n",
       "      <th>1</th>\n",
       "      <td>2.0</td>\n",
       "      <td>735049</td>\n",
       "      <td>31.9</td>\n",
       "      <td>21.6</td>\n",
       "      <td>52.263397</td>\n",
       "      <td>90.604721</td>\n",
       "      <td>29.850689</td>\n",
       "      <td>24.035009</td>\n",
       "      <td>5.691890</td>\n",
       "      <td>51.937448</td>\n",
       "      <td>...</td>\n",
       "      <td>0.0</td>\n",
       "      <td>0.0</td>\n",
       "      <td>0.0</td>\n",
       "      <td>37.6046</td>\n",
       "      <td>127.032</td>\n",
       "      <td>44.7624</td>\n",
       "      <td>0.5141</td>\n",
       "      <td>5869.312500</td>\n",
       "      <td>30.5</td>\n",
       "      <td>22.5</td>\n",
       "    </tr>\n",
       "    <tr>\n",
       "      <th>2</th>\n",
       "      <td>3.0</td>\n",
       "      <td>735049</td>\n",
       "      <td>31.6</td>\n",
       "      <td>23.3</td>\n",
       "      <td>48.690479</td>\n",
       "      <td>83.973587</td>\n",
       "      <td>30.091292</td>\n",
       "      <td>24.565633</td>\n",
       "      <td>6.138224</td>\n",
       "      <td>20.573050</td>\n",
       "      <td>...</td>\n",
       "      <td>0.0</td>\n",
       "      <td>0.0</td>\n",
       "      <td>0.0</td>\n",
       "      <td>37.5776</td>\n",
       "      <td>127.058</td>\n",
       "      <td>33.3068</td>\n",
       "      <td>0.2661</td>\n",
       "      <td>5863.555664</td>\n",
       "      <td>31.1</td>\n",
       "      <td>23.9</td>\n",
       "    </tr>\n",
       "    <tr>\n",
       "      <th>3</th>\n",
       "      <td>4.0</td>\n",
       "      <td>735049</td>\n",
       "      <td>32.0</td>\n",
       "      <td>23.4</td>\n",
       "      <td>58.239788</td>\n",
       "      <td>96.483688</td>\n",
       "      <td>29.704629</td>\n",
       "      <td>23.326177</td>\n",
       "      <td>5.650050</td>\n",
       "      <td>65.727144</td>\n",
       "      <td>...</td>\n",
       "      <td>0.0</td>\n",
       "      <td>0.0</td>\n",
       "      <td>0.0</td>\n",
       "      <td>37.6450</td>\n",
       "      <td>127.022</td>\n",
       "      <td>45.7160</td>\n",
       "      <td>2.5348</td>\n",
       "      <td>5856.964844</td>\n",
       "      <td>31.7</td>\n",
       "      <td>24.3</td>\n",
       "    </tr>\n",
       "    <tr>\n",
       "      <th>4</th>\n",
       "      <td>5.0</td>\n",
       "      <td>735049</td>\n",
       "      <td>31.4</td>\n",
       "      <td>21.9</td>\n",
       "      <td>56.174095</td>\n",
       "      <td>90.155128</td>\n",
       "      <td>29.113934</td>\n",
       "      <td>23.486480</td>\n",
       "      <td>5.735004</td>\n",
       "      <td>107.965535</td>\n",
       "      <td>...</td>\n",
       "      <td>0.0</td>\n",
       "      <td>0.0</td>\n",
       "      <td>0.0</td>\n",
       "      <td>37.5507</td>\n",
       "      <td>127.135</td>\n",
       "      <td>35.0380</td>\n",
       "      <td>0.5055</td>\n",
       "      <td>5859.552246</td>\n",
       "      <td>31.2</td>\n",
       "      <td>22.5</td>\n",
       "    </tr>\n",
       "  </tbody>\n",
       "</table>\n",
       "<p>5 rows × 25 columns</p>\n",
       "</div>"
      ],
      "text/plain": [
       "   station    Date  Present_Tmax  Present_Tmin  LDAPS_RHmin  LDAPS_RHmax  \\\n",
       "0      1.0  735049          28.7          21.4    58.255688    91.116364   \n",
       "1      2.0  735049          31.9          21.6    52.263397    90.604721   \n",
       "2      3.0  735049          31.6          23.3    48.690479    83.973587   \n",
       "3      4.0  735049          32.0          23.4    58.239788    96.483688   \n",
       "4      5.0  735049          31.4          21.9    56.174095    90.155128   \n",
       "\n",
       "   LDAPS_Tmax_lapse  LDAPS_Tmin_lapse  LDAPS_WS    LDAPS_LH  ...  LDAPS_PPT2  \\\n",
       "0         28.074101         23.006936  6.818887   69.451805  ...         0.0   \n",
       "1         29.850689         24.035009  5.691890   51.937448  ...         0.0   \n",
       "2         30.091292         24.565633  6.138224   20.573050  ...         0.0   \n",
       "3         29.704629         23.326177  5.650050   65.727144  ...         0.0   \n",
       "4         29.113934         23.486480  5.735004  107.965535  ...         0.0   \n",
       "\n",
       "   LDAPS_PPT3  LDAPS_PPT4      lat      lon       DEM   Slope  \\\n",
       "0         0.0         0.0  37.6046  126.991  212.3350  2.7850   \n",
       "1         0.0         0.0  37.6046  127.032   44.7624  0.5141   \n",
       "2         0.0         0.0  37.5776  127.058   33.3068  0.2661   \n",
       "3         0.0         0.0  37.6450  127.022   45.7160  2.5348   \n",
       "4         0.0         0.0  37.5507  127.135   35.0380  0.5055   \n",
       "\n",
       "   Solar radiation  Next_Tmax  Next_Tmin  \n",
       "0      5992.895996       29.1       21.2  \n",
       "1      5869.312500       30.5       22.5  \n",
       "2      5863.555664       31.1       23.9  \n",
       "3      5856.964844       31.7       24.3  \n",
       "4      5859.552246       31.2       22.5  \n",
       "\n",
       "[5 rows x 25 columns]"
      ]
     },
     "execution_count": 16,
     "metadata": {},
     "output_type": "execute_result"
    }
   ],
   "source": [
    "df.head()"
   ]
  },
  {
   "cell_type": "markdown",
   "metadata": {},
   "source": [
    "Converting all Object attributes into Numerical attributes by using LabelEncoder"
   ]
  },
  {
   "cell_type": "code",
   "execution_count": 17,
   "metadata": {},
   "outputs": [],
   "source": [
    "from sklearn.preprocessing import LabelEncoder\n",
    "l=LabelEncoder()\n",
    "for i in df.columns:\n",
    "    if df[i].dtypes=='object':\n",
    "        df[i]=l.fit_transform(df[i].values)"
   ]
  },
  {
   "cell_type": "code",
   "execution_count": 18,
   "metadata": {},
   "outputs": [
    {
     "data": {
      "text/plain": [
       "<matplotlib.axes._subplots.AxesSubplot at 0x1e8ae9916c8>"
      ]
     },
     "execution_count": 18,
     "metadata": {},
     "output_type": "execute_result"
    },
    {
     "data": {
      "image/png": "[encoded data removed]",
      "text/plain": [
       "<Figure size 1440x1440 with 2 Axes>"
      ]
     },
     "metadata": {
      "needs_background": "light"
     },
     "output_type": "display_data"
    }
   ],
   "source": [
    "correlation=df.corr(method='pearson')\n",
    "plt.figure(figsize=(20,20))\n",
    "sns.heatmap(correlation,annot=True)"
   ]
  },
  {
   "cell_type": "markdown",
   "metadata": {},
   "source": [
    "The features LDAPS_Tmin_lapse,present_min,LDAPS_Tmax_lapse,present_max are positively correlated with next min and next max"
   ]
  },
  {
   "cell_type": "code",
   "execution_count": 19,
   "metadata": {},
   "outputs": [
    {
     "data": {
      "text/plain": [
       "array([[1.66431530e+00, 4.73283412e-02, 3.61325771e-01, ...,\n",
       "        1.51793488e+00, 3.76282142e-01, 6.97599301e-01],\n",
       "       [1.52562236e+00, 4.73283412e-02, 7.21084007e-01, ...,\n",
       "        1.22994952e+00, 7.20972505e-02, 1.74063574e-01],\n",
       "       [1.38692941e+00, 4.73283412e-02, 6.19608090e-01, ...,\n",
       "        1.21653443e+00, 2.64259847e-01, 3.89744132e-01],\n",
       "       ...,\n",
       "       [1.66431530e+00, 8.13430765e-02, 2.22171758e+00, ...,\n",
       "        2.07432510e+00, 7.92634435e-01, 2.22793450e+00],\n",
       "       [0.00000000e+00, 6.21890289e+01, 3.30412736e+00, ...,\n",
       "        2.35821196e+00, 4.12345278e+00, 4.68452522e+00],\n",
       "       [0.00000000e+00, 6.21890289e+01, 2.64912642e+00, ...,\n",
       "        1.51793488e+00, 2.76237361e+00, 2.76579089e+00]])"
      ]
     },
     "execution_count": 19,
     "metadata": {},
     "output_type": "execute_result"
    }
   ],
   "source": [
    "from scipy.stats import zscore\n",
    "z=np.abs(zscore(df))\n",
    "z"
   ]
  },
  {
   "cell_type": "code",
   "execution_count": 20,
   "metadata": {},
   "outputs": [
    {
     "data": {
      "text/html": [
       "<div>\n",
       "<style scoped>\n",
       "    .dataframe tbody tr th:only-of-type {\n",
       "        vertical-align: middle;\n",
       "    }\n",
       "\n",
       "    .dataframe tbody tr th {\n",
       "        vertical-align: top;\n",
       "    }\n",
       "\n",
       "    .dataframe thead th {\n",
       "        text-align: right;\n",
       "    }\n",
       "</style>\n",
       "<table border=\"1\" class=\"dataframe\">\n",
       "  <thead>\n",
       "    <tr style=\"text-align: right;\">\n",
       "      <th></th>\n",
       "      <th>station</th>\n",
       "      <th>Date</th>\n",
       "      <th>Present_Tmax</th>\n",
       "      <th>Present_Tmin</th>\n",
       "      <th>LDAPS_RHmin</th>\n",
       "      <th>LDAPS_RHmax</th>\n",
       "      <th>LDAPS_Tmax_lapse</th>\n",
       "      <th>LDAPS_Tmin_lapse</th>\n",
       "      <th>LDAPS_WS</th>\n",
       "      <th>LDAPS_LH</th>\n",
       "      <th>...</th>\n",
       "      <th>LDAPS_PPT2</th>\n",
       "      <th>LDAPS_PPT3</th>\n",
       "      <th>LDAPS_PPT4</th>\n",
       "      <th>lat</th>\n",
       "      <th>lon</th>\n",
       "      <th>DEM</th>\n",
       "      <th>Slope</th>\n",
       "      <th>Solar radiation</th>\n",
       "      <th>Next_Tmax</th>\n",
       "      <th>Next_Tmin</th>\n",
       "    </tr>\n",
       "  </thead>\n",
       "  <tbody>\n",
       "    <tr>\n",
       "      <th>0</th>\n",
       "      <td>1.0</td>\n",
       "      <td>735049</td>\n",
       "      <td>28.7</td>\n",
       "      <td>21.4</td>\n",
       "      <td>58.255688</td>\n",
       "      <td>91.116364</td>\n",
       "      <td>28.074101</td>\n",
       "      <td>23.006936</td>\n",
       "      <td>6.818887</td>\n",
       "      <td>69.451805</td>\n",
       "      <td>...</td>\n",
       "      <td>0.0</td>\n",
       "      <td>0.0</td>\n",
       "      <td>0.0</td>\n",
       "      <td>37.6046</td>\n",
       "      <td>126.991</td>\n",
       "      <td>212.3350</td>\n",
       "      <td>2.7850</td>\n",
       "      <td>5992.895996</td>\n",
       "      <td>29.1</td>\n",
       "      <td>21.2</td>\n",
       "    </tr>\n",
       "    <tr>\n",
       "      <th>1</th>\n",
       "      <td>2.0</td>\n",
       "      <td>735049</td>\n",
       "      <td>31.9</td>\n",
       "      <td>21.6</td>\n",
       "      <td>52.263397</td>\n",
       "      <td>90.604721</td>\n",
       "      <td>29.850689</td>\n",
       "      <td>24.035009</td>\n",
       "      <td>5.691890</td>\n",
       "      <td>51.937448</td>\n",
       "      <td>...</td>\n",
       "      <td>0.0</td>\n",
       "      <td>0.0</td>\n",
       "      <td>0.0</td>\n",
       "      <td>37.6046</td>\n",
       "      <td>127.032</td>\n",
       "      <td>44.7624</td>\n",
       "      <td>0.5141</td>\n",
       "      <td>5869.312500</td>\n",
       "      <td>30.5</td>\n",
       "      <td>22.5</td>\n",
       "    </tr>\n",
       "    <tr>\n",
       "      <th>2</th>\n",
       "      <td>3.0</td>\n",
       "      <td>735049</td>\n",
       "      <td>31.6</td>\n",
       "      <td>23.3</td>\n",
       "      <td>48.690479</td>\n",
       "      <td>83.973587</td>\n",
       "      <td>30.091292</td>\n",
       "      <td>24.565633</td>\n",
       "      <td>6.138224</td>\n",
       "      <td>20.573050</td>\n",
       "      <td>...</td>\n",
       "      <td>0.0</td>\n",
       "      <td>0.0</td>\n",
       "      <td>0.0</td>\n",
       "      <td>37.5776</td>\n",
       "      <td>127.058</td>\n",
       "      <td>33.3068</td>\n",
       "      <td>0.2661</td>\n",
       "      <td>5863.555664</td>\n",
       "      <td>31.1</td>\n",
       "      <td>23.9</td>\n",
       "    </tr>\n",
       "    <tr>\n",
       "      <th>3</th>\n",
       "      <td>4.0</td>\n",
       "      <td>735049</td>\n",
       "      <td>32.0</td>\n",
       "      <td>23.4</td>\n",
       "      <td>58.239788</td>\n",
       "      <td>96.483688</td>\n",
       "      <td>29.704629</td>\n",
       "      <td>23.326177</td>\n",
       "      <td>5.650050</td>\n",
       "      <td>65.727144</td>\n",
       "      <td>...</td>\n",
       "      <td>0.0</td>\n",
       "      <td>0.0</td>\n",
       "      <td>0.0</td>\n",
       "      <td>37.6450</td>\n",
       "      <td>127.022</td>\n",
       "      <td>45.7160</td>\n",
       "      <td>2.5348</td>\n",
       "      <td>5856.964844</td>\n",
       "      <td>31.7</td>\n",
       "      <td>24.3</td>\n",
       "    </tr>\n",
       "    <tr>\n",
       "      <th>4</th>\n",
       "      <td>5.0</td>\n",
       "      <td>735049</td>\n",
       "      <td>31.4</td>\n",
       "      <td>21.9</td>\n",
       "      <td>56.174095</td>\n",
       "      <td>90.155128</td>\n",
       "      <td>29.113934</td>\n",
       "      <td>23.486480</td>\n",
       "      <td>5.735004</td>\n",
       "      <td>107.965535</td>\n",
       "      <td>...</td>\n",
       "      <td>0.0</td>\n",
       "      <td>0.0</td>\n",
       "      <td>0.0</td>\n",
       "      <td>37.5507</td>\n",
       "      <td>127.135</td>\n",
       "      <td>35.0380</td>\n",
       "      <td>0.5055</td>\n",
       "      <td>5859.552246</td>\n",
       "      <td>31.2</td>\n",
       "      <td>22.5</td>\n",
       "    </tr>\n",
       "  </tbody>\n",
       "</table>\n",
       "<p>5 rows × 25 columns</p>\n",
       "</div>"
      ],
      "text/plain": [
       "   station    Date  Present_Tmax  Present_Tmin  LDAPS_RHmin  LDAPS_RHmax  \\\n",
       "0      1.0  735049          28.7          21.4    58.255688    91.116364   \n",
       "1      2.0  735049          31.9          21.6    52.263397    90.604721   \n",
       "2      3.0  735049          31.6          23.3    48.690479    83.973587   \n",
       "3      4.0  735049          32.0          23.4    58.239788    96.483688   \n",
       "4      5.0  735049          31.4          21.9    56.174095    90.155128   \n",
       "\n",
       "   LDAPS_Tmax_lapse  LDAPS_Tmin_lapse  LDAPS_WS    LDAPS_LH  ...  LDAPS_PPT2  \\\n",
       "0         28.074101         23.006936  6.818887   69.451805  ...         0.0   \n",
       "1         29.850689         24.035009  5.691890   51.937448  ...         0.0   \n",
       "2         30.091292         24.565633  6.138224   20.573050  ...         0.0   \n",
       "3         29.704629         23.326177  5.650050   65.727144  ...         0.0   \n",
       "4         29.113934         23.486480  5.735004  107.965535  ...         0.0   \n",
       "\n",
       "   LDAPS_PPT3  LDAPS_PPT4      lat      lon       DEM   Slope  \\\n",
       "0         0.0         0.0  37.6046  126.991  212.3350  2.7850   \n",
       "1         0.0         0.0  37.6046  127.032   44.7624  0.5141   \n",
       "2         0.0         0.0  37.5776  127.058   33.3068  0.2661   \n",
       "3         0.0         0.0  37.6450  127.022   45.7160  2.5348   \n",
       "4         0.0         0.0  37.5507  127.135   35.0380  0.5055   \n",
       "\n",
       "   Solar radiation  Next_Tmax  Next_Tmin  \n",
       "0      5992.895996       29.1       21.2  \n",
       "1      5869.312500       30.5       22.5  \n",
       "2      5863.555664       31.1       23.9  \n",
       "3      5856.964844       31.7       24.3  \n",
       "4      5859.552246       31.2       22.5  \n",
       "\n",
       "[5 rows x 25 columns]"
      ]
     },
     "execution_count": 20,
     "metadata": {},
     "output_type": "execute_result"
    }
   ],
   "source": [
    "df_new=df[(z<3).all(axis=1)]\n",
    "df_new.head()"
   ]
  },
  {
   "cell_type": "code",
   "execution_count": 21,
   "metadata": {},
   "outputs": [
    {
     "data": {
      "text/plain": [
       "(7752, 25)"
      ]
     },
     "execution_count": 21,
     "metadata": {},
     "output_type": "execute_result"
    }
   ],
   "source": [
    "df.shape"
   ]
  },
  {
   "cell_type": "code",
   "execution_count": 22,
   "metadata": {},
   "outputs": [
    {
     "data": {
      "text/plain": [
       "(6894, 25)"
      ]
     },
     "execution_count": 22,
     "metadata": {},
     "output_type": "execute_result"
    }
   ],
   "source": [
    "df_new.shape"
   ]
  },
  {
   "cell_type": "code",
   "execution_count": 23,
   "metadata": {},
   "outputs": [
    {
     "data": {
      "text/plain": [
       "station              0.000000\n",
       "Date               -62.064166\n",
       "Present_Tmax        -0.264137\n",
       "Present_Tmin        -0.367538\n",
       "LDAPS_RHmin          0.300220\n",
       "LDAPS_RHmax         -0.855015\n",
       "LDAPS_Tmax_lapse    -0.227880\n",
       "LDAPS_Tmin_lapse    -0.581763\n",
       "LDAPS_WS             1.579236\n",
       "LDAPS_LH             0.673757\n",
       "LDAPS_CC1            0.459458\n",
       "LDAPS_CC2            0.472350\n",
       "LDAPS_CC3            0.640735\n",
       "LDAPS_CC4            0.666482\n",
       "LDAPS_PPT1           5.393821\n",
       "LDAPS_PPT2           5.775355\n",
       "LDAPS_PPT3           6.457129\n",
       "LDAPS_PPT4           6.825464\n",
       "lat                  0.087062\n",
       "lon                 -0.285213\n",
       "DEM                  1.723257\n",
       "Slope                1.563020\n",
       "Solar radiation     -0.511210\n",
       "Next_Tmax           -0.340200\n",
       "Next_Tmin           -0.404447\n",
       "dtype: float64"
      ]
     },
     "execution_count": 23,
     "metadata": {},
     "output_type": "execute_result"
    }
   ],
   "source": [
    "df.skew()"
   ]
  },
  {
   "cell_type": "code",
   "execution_count": 24,
   "metadata": {},
   "outputs": [],
   "source": [
    "x= df.drop('Next_Tmax',axis=1)\n",
    "y= df['Next_Tmax']"
   ]
  },
  {
   "cell_type": "markdown",
   "metadata": {},
   "source": [
    "To handle Skewness using Power transform function."
   ]
  },
  {
   "cell_type": "code",
   "execution_count": 25,
   "metadata": {},
   "outputs": [],
   "source": [
    "from sklearn.preprocessing import power_transform\n",
    "df_max=power_transform(x)\n",
    "\n",
    "df_max=pd.DataFrame(df_max,columns=x.columns)"
   ]
  },
  {
   "cell_type": "code",
   "execution_count": 26,
   "metadata": {},
   "outputs": [
    {
     "data": {
      "text/plain": [
       "station             -0.204565\n",
       "Date               -17.124736\n",
       "Present_Tmax        -0.035006\n",
       "Present_Tmin        -0.012048\n",
       "LDAPS_RHmin         -0.017469\n",
       "LDAPS_RHmax         -0.115143\n",
       "LDAPS_Tmax_lapse    -0.009351\n",
       "LDAPS_Tmin_lapse    -0.017827\n",
       "LDAPS_WS             0.002408\n",
       "LDAPS_LH             0.057403\n",
       "LDAPS_CC1            0.046757\n",
       "LDAPS_CC2            0.045326\n",
       "LDAPS_CC3            0.087933\n",
       "LDAPS_CC4            0.126895\n",
       "LDAPS_PPT1           1.404189\n",
       "LDAPS_PPT2           1.577808\n",
       "LDAPS_PPT3           1.747820\n",
       "LDAPS_PPT4           1.963848\n",
       "lat                  0.000000\n",
       "lon                 -0.198429\n",
       "DEM                  0.039456\n",
       "Slope                0.233968\n",
       "Solar radiation     -0.176636\n",
       "Next_Tmin           -0.013745\n",
       "dtype: float64"
      ]
     },
     "execution_count": 26,
     "metadata": {},
     "output_type": "execute_result"
    }
   ],
   "source": [
    "df_max.skew()"
   ]
  },
  {
   "cell_type": "code",
   "execution_count": 27,
   "metadata": {},
   "outputs": [
    {
     "data": {
      "text/html": [
       "<div>\n",
       "<style scoped>\n",
       "    .dataframe tbody tr th:only-of-type {\n",
       "        vertical-align: middle;\n",
       "    }\n",
       "\n",
       "    .dataframe tbody tr th {\n",
       "        vertical-align: top;\n",
       "    }\n",
       "\n",
       "    .dataframe thead th {\n",
       "        text-align: right;\n",
       "    }\n",
       "</style>\n",
       "<table border=\"1\" class=\"dataframe\">\n",
       "  <thead>\n",
       "    <tr style=\"text-align: right;\">\n",
       "      <th></th>\n",
       "      <th>station</th>\n",
       "      <th>Date</th>\n",
       "      <th>Present_Tmax</th>\n",
       "      <th>Present_Tmin</th>\n",
       "      <th>LDAPS_RHmin</th>\n",
       "      <th>LDAPS_RHmax</th>\n",
       "      <th>LDAPS_Tmax_lapse</th>\n",
       "      <th>LDAPS_Tmin_lapse</th>\n",
       "      <th>LDAPS_WS</th>\n",
       "      <th>LDAPS_LH</th>\n",
       "      <th>...</th>\n",
       "      <th>LDAPS_PPT1</th>\n",
       "      <th>LDAPS_PPT2</th>\n",
       "      <th>LDAPS_PPT3</th>\n",
       "      <th>LDAPS_PPT4</th>\n",
       "      <th>lat</th>\n",
       "      <th>lon</th>\n",
       "      <th>DEM</th>\n",
       "      <th>Slope</th>\n",
       "      <th>Solar radiation</th>\n",
       "      <th>Next_Tmin</th>\n",
       "    </tr>\n",
       "  </thead>\n",
       "  <tbody>\n",
       "    <tr>\n",
       "      <th>0</th>\n",
       "      <td>-1.860356</td>\n",
       "      <td>-1.0743</td>\n",
       "      <td>-0.408897</td>\n",
       "      <td>-0.797707</td>\n",
       "      <td>0.172680</td>\n",
       "      <td>0.272915</td>\n",
       "      <td>-0.556645</td>\n",
       "      <td>-0.312411</td>\n",
       "      <td>0.093387</td>\n",
       "      <td>0.310382</td>\n",
       "      <td>...</td>\n",
       "      <td>-0.570471</td>\n",
       "      <td>-0.532418</td>\n",
       "      <td>-0.505596</td>\n",
       "      <td>-0.458389</td>\n",
       "      <td>0.0</td>\n",
       "      <td>-0.027632</td>\n",
       "      <td>1.834978</td>\n",
       "      <td>1.314153</td>\n",
       "      <td>1.849430</td>\n",
       "      <td>-0.745293</td>\n",
       "    </tr>\n",
       "    <tr>\n",
       "      <th>1</th>\n",
       "      <td>-1.648385</td>\n",
       "      <td>-1.0743</td>\n",
       "      <td>0.705123</td>\n",
       "      <td>-0.720130</td>\n",
       "      <td>-0.241770</td>\n",
       "      <td>0.185831</td>\n",
       "      <td>0.043756</td>\n",
       "      <td>0.144368</td>\n",
       "      <td>-0.625565</td>\n",
       "      <td>-0.211695</td>\n",
       "      <td>...</td>\n",
       "      <td>-0.570471</td>\n",
       "      <td>-0.532418</td>\n",
       "      <td>-0.505596</td>\n",
       "      <td>-0.458389</td>\n",
       "      <td>0.0</td>\n",
       "      <td>0.497283</td>\n",
       "      <td>0.055979</td>\n",
       "      <td>-0.385336</td>\n",
       "      <td>1.400702</td>\n",
       "      <td>-0.240855</td>\n",
       "    </tr>\n",
       "    <tr>\n",
       "      <th>2</th>\n",
       "      <td>-1.454848</td>\n",
       "      <td>-1.0743</td>\n",
       "      <td>0.595692</td>\n",
       "      <td>-0.027674</td>\n",
       "      <td>-0.501459</td>\n",
       "      <td>-0.773454</td>\n",
       "      <td>0.127214</td>\n",
       "      <td>0.394571</td>\n",
       "      <td>-0.314874</td>\n",
       "      <td>-1.375126</td>\n",
       "      <td>...</td>\n",
       "      <td>-0.570471</td>\n",
       "      <td>-0.532418</td>\n",
       "      <td>-0.505596</td>\n",
       "      <td>-0.458389</td>\n",
       "      <td>0.0</td>\n",
       "      <td>0.836548</td>\n",
       "      <td>-0.364575</td>\n",
       "      <td>-0.949164</td>\n",
       "      <td>1.380650</td>\n",
       "      <td>0.342379</td>\n",
       "    </tr>\n",
       "    <tr>\n",
       "      <th>3</th>\n",
       "      <td>-1.273958</td>\n",
       "      <td>-1.0743</td>\n",
       "      <td>0.741829</td>\n",
       "      <td>0.014910</td>\n",
       "      <td>0.171612</td>\n",
       "      <td>1.316777</td>\n",
       "      <td>-0.006660</td>\n",
       "      <td>-0.174463</td>\n",
       "      <td>-0.656732</td>\n",
       "      <td>0.204179</td>\n",
       "      <td>...</td>\n",
       "      <td>-0.570471</td>\n",
       "      <td>-0.532418</td>\n",
       "      <td>-0.505596</td>\n",
       "      <td>-0.458389</td>\n",
       "      <td>0.0</td>\n",
       "      <td>0.368125</td>\n",
       "      <td>0.084879</td>\n",
       "      <td>1.235263</td>\n",
       "      <td>1.357783</td>\n",
       "      <td>0.516713</td>\n",
       "    </tr>\n",
       "    <tr>\n",
       "      <th>4</th>\n",
       "      <td>-1.102545</td>\n",
       "      <td>-1.0743</td>\n",
       "      <td>0.523313</td>\n",
       "      <td>-0.602237</td>\n",
       "      <td>0.031496</td>\n",
       "      <td>0.110968</td>\n",
       "      <td>-0.208627</td>\n",
       "      <td>-0.103881</td>\n",
       "      <td>-0.593836</td>\n",
       "      <td>1.300503</td>\n",
       "      <td>...</td>\n",
       "      <td>-0.570471</td>\n",
       "      <td>-0.532418</td>\n",
       "      <td>-0.505596</td>\n",
       "      <td>-0.458389</td>\n",
       "      <td>0.0</td>\n",
       "      <td>1.871193</td>\n",
       "      <td>-0.290442</td>\n",
       "      <td>-0.401730</td>\n",
       "      <td>1.366748</td>\n",
       "      <td>-0.240855</td>\n",
       "    </tr>\n",
       "  </tbody>\n",
       "</table>\n",
       "<p>5 rows × 24 columns</p>\n",
       "</div>"
      ],
      "text/plain": [
       "    station    Date  Present_Tmax  Present_Tmin  LDAPS_RHmin  LDAPS_RHmax  \\\n",
       "0 -1.860356 -1.0743     -0.408897     -0.797707     0.172680     0.272915   \n",
       "1 -1.648385 -1.0743      0.705123     -0.720130    -0.241770     0.185831   \n",
       "2 -1.454848 -1.0743      0.595692     -0.027674    -0.501459    -0.773454   \n",
       "3 -1.273958 -1.0743      0.741829      0.014910     0.171612     1.316777   \n",
       "4 -1.102545 -1.0743      0.523313     -0.602237     0.031496     0.110968   \n",
       "\n",
       "   LDAPS_Tmax_lapse  LDAPS_Tmin_lapse  LDAPS_WS  LDAPS_LH  ...  LDAPS_PPT1  \\\n",
       "0         -0.556645         -0.312411  0.093387  0.310382  ...   -0.570471   \n",
       "1          0.043756          0.144368 -0.625565 -0.211695  ...   -0.570471   \n",
       "2          0.127214          0.394571 -0.314874 -1.375126  ...   -0.570471   \n",
       "3         -0.006660         -0.174463 -0.656732  0.204179  ...   -0.570471   \n",
       "4         -0.208627         -0.103881 -0.593836  1.300503  ...   -0.570471   \n",
       "\n",
       "   LDAPS_PPT2  LDAPS_PPT3  LDAPS_PPT4  lat       lon       DEM     Slope  \\\n",
       "0   -0.532418   -0.505596   -0.458389  0.0 -0.027632  1.834978  1.314153   \n",
       "1   -0.532418   -0.505596   -0.458389  0.0  0.497283  0.055979 -0.385336   \n",
       "2   -0.532418   -0.505596   -0.458389  0.0  0.836548 -0.364575 -0.949164   \n",
       "3   -0.532418   -0.505596   -0.458389  0.0  0.368125  0.084879  1.235263   \n",
       "4   -0.532418   -0.505596   -0.458389  0.0  1.871193 -0.290442 -0.401730   \n",
       "\n",
       "   Solar radiation  Next_Tmin  \n",
       "0         1.849430  -0.745293  \n",
       "1         1.400702  -0.240855  \n",
       "2         1.380650   0.342379  \n",
       "3         1.357783   0.516713  \n",
       "4         1.366748  -0.240855  \n",
       "\n",
       "[5 rows x 24 columns]"
      ]
     },
     "execution_count": 27,
     "metadata": {},
     "output_type": "execute_result"
    }
   ],
   "source": [
    "x=df_max\n",
    "x.head()"
   ]
  },
  {
   "cell_type": "code",
   "execution_count": 28,
   "metadata": {},
   "outputs": [],
   "source": [
    "col_r=['Date','station','Next_Tmin']\n",
    "p= df.drop('Next_Tmin',axis=1)\n",
    "q= df['Next_Tmin']"
   ]
  },
  {
   "cell_type": "code",
   "execution_count": 29,
   "metadata": {},
   "outputs": [],
   "source": [
    "from sklearn.preprocessing import power_transform\n",
    "df_min=power_transform(p)\n",
    "\n",
    "df_min=pd.DataFrame(df_min,columns=p.columns)"
   ]
  },
  {
   "cell_type": "code",
   "execution_count": 31,
   "metadata": {},
   "outputs": [],
   "source": [
    "from sklearn.neighbors import KNeighborsRegressor\n",
    "from sklearn.svm import SVR\n",
    "from sklearn.tree import DecisionTreeRegressor\n",
    "from sklearn.linear_model import LinearRegression\n",
    "from sklearn.linear_model import Lasso\n",
    "from sklearn.ensemble import RandomForestRegressor\n",
    "from sklearn.ensemble import GradientBoostingRegressor\n",
    "from sklearn.model_selection import train_test_split\n"
   ]
  },
  {
   "cell_type": "code",
   "execution_count": 32,
   "metadata": {},
   "outputs": [],
   "source": [
    "xtrain,xtest,ytrain,ytest=train_test_split(x,y,test_size=0.25,random_state=7)\n",
    "from sklearn.metrics import mean_absolute_error,mean_squared_error,r2_score\n",
    "models=[KNeighborsRegressor(),SVR(),DecisionTreeRegressor(),LinearRegression(),Lasso(),\n",
    "        RandomForestRegressor(),GradientBoostingRegressor()]\n",
    "maelist=[]\n",
    "mselist=[]\n",
    "rmselist=[]\n",
    "r2list=[]"
   ]
  },
  {
   "cell_type": "code",
   "execution_count": 33,
   "metadata": {},
   "outputs": [
    {
     "name": "stdout",
     "output_type": "stream",
     "text": [
      "KNeighborsRegressor()\n",
      "Mean absolute error 0.8058849913666711\n",
      "Mean squared error 1.1537066614972507\n",
      "Root Mean squared error 1.0741073789418125\n",
      "R2 Score 0.8827218005903944\n",
      "---------------------------------------------------------------------------------------------------------\n",
      "SVR()\n",
      "Mean absolute error 0.7530453344852853\n",
      "Mean squared error 1.0491619094611224\n",
      "Root Mean squared error 1.0242860486510212\n",
      "R2 Score 0.8933491296036542\n",
      "---------------------------------------------------------------------------------------------------------\n",
      "DecisionTreeRegressor()\n",
      "Mean absolute error 0.9618806296151572\n",
      "Mean squared error 1.7494402754424996\n",
      "Root Mean squared error 1.3226640826160283\n",
      "R2 Score 0.8221634559929861\n",
      "---------------------------------------------------------------------------------------------------------\n",
      "LinearRegression()\n",
      "Mean absolute error 1.1092931053497042\n",
      "Mean squared error 2.0657865920222442\n",
      "Root Mean squared error 1.4372844506298132\n",
      "R2 Score 0.7900057787978269\n",
      "---------------------------------------------------------------------------------------------------------\n",
      "Lasso()\n",
      "Mean absolute error 1.6252601952076455\n",
      "Mean squared error 4.1028559289727164\n",
      "Root Mean squared error 2.0255507717588115\n",
      "R2 Score 0.5829307640795904\n",
      "---------------------------------------------------------------------------------------------------------\n",
      "RandomForestRegressor()\n",
      "Mean absolute error 0.6897089793301073\n",
      "Mean squared error 0.841139207606495\n",
      "Root Mean squared error 0.9171364171193372\n",
      "R2 Score 0.9144953435625567\n",
      "---------------------------------------------------------------------------------------------------------\n",
      "GradientBoostingRegressor()\n",
      "Mean absolute error 0.8904113273981702\n",
      "Mean squared error 1.308063814370171\n",
      "Root Mean squared error 1.143706174841323\n",
      "R2 Score 0.8670308719002228\n",
      "---------------------------------------------------------------------------------------------------------\n",
      "Minimum Mean Absolute error is shown by  RandomForestRegressor() 0.6897089793301073\n",
      "Minimum Mean squared error is shown by  RandomForestRegressor() 0.841139207606495\n",
      "Minimum Root Mean squared error is shown by  RandomForestRegressor() 0.9171364171193372\n",
      "Maximun R2 Score is shown by  RandomForestRegressor() 0.9144953435625567\n"
     ]
    }
   ],
   "source": [
    "def create_model(model):\n",
    "    m=model\n",
    "    m.fit(xtrain,ytrain)\n",
    "    p=m.predict(xtest)\n",
    "    \n",
    "    mae=mean_absolute_error(p,ytest)\n",
    "    mse=mean_squared_error(p,ytest)\n",
    "    rmse=np.sqrt(mean_squared_error(p,ytest))\n",
    "    r2=r2_score(ytest,p)\n",
    "    \n",
    "    maelist.append(mae)\n",
    "    mselist.append(mse)\n",
    "    rmselist.append(rmse)\n",
    "    r2list.append(r2)\n",
    "    \n",
    "    print(m)\n",
    "    \n",
    "    print('Mean absolute error',mae)\n",
    "    print('Mean squared error',mse)\n",
    "    print('Root Mean squared error',rmse)\n",
    "    print('R2 Score',r2)\n",
    "    print('---------------------------------------------------------------------------------------------------------')\n",
    "for i in models:\n",
    "    create_model(i)\n",
    "print('Minimum Mean Absolute error is shown by ',models[maelist.index(min(maelist))],min(maelist))\n",
    "print('Minimum Mean squared error is shown by ',models[mselist.index(min(mselist))],min(mselist))\n",
    "print('Minimum Root Mean squared error is shown by ',models[rmselist.index(min(rmselist))],min(rmselist))\n",
    "print('Maximun R2 Score is shown by ',models[r2list.index(max(r2list))],max(r2list))"
   ]
  },
  {
   "cell_type": "markdown",
   "metadata": {},
   "source": [
    "cross validation"
   ]
  },
  {
   "cell_type": "code",
   "execution_count": 34,
   "metadata": {},
   "outputs": [],
   "source": [
    "scorel=[]"
   ]
  },
  {
   "cell_type": "code",
   "execution_count": 36,
   "metadata": {},
   "outputs": [],
   "source": [
    "from sklearn.utils import shuffle\n",
    "scorel=[]\n",
    "x= df.drop('Next_Tmax',axis=1)\n",
    "y= df['Next_Tmax']\n",
    "x, y = shuffle(x, y, random_state = 7)"
   ]
  },
  {
   "cell_type": "code",
   "execution_count": 37,
   "metadata": {},
   "outputs": [
    {
     "data": {
      "text/plain": [
       "array([0.7711333 , 0.80952352, 0.78285275, 0.74753515, 0.80306827])"
      ]
     },
     "execution_count": 37,
     "metadata": {},
     "output_type": "execute_result"
    }
   ],
   "source": [
    "from sklearn.model_selection import cross_val_score\n",
    "k=KNeighborsRegressor()\n",
    "scores=cross_val_score(k,x,y,scoring='r2',cv=5)\n",
    "scorel.append(scores)\n",
    "scores"
   ]
  },
  {
   "cell_type": "code",
   "execution_count": 38,
   "metadata": {},
   "outputs": [
    {
     "data": {
      "text/plain": [
       "array([-0.0024755 , -0.00804842, -0.00729559, -0.00185264, -0.01237202])"
      ]
     },
     "execution_count": 38,
     "metadata": {},
     "output_type": "execute_result"
    }
   ],
   "source": [
    "from sklearn.model_selection import cross_val_score\n",
    "svr=SVR()\n",
    "scores=cross_val_score(svr,x,y,scoring='r2',cv=5)\n",
    "scorel.append(scores)\n",
    "scores"
   ]
  },
  {
   "cell_type": "code",
   "execution_count": 39,
   "metadata": {},
   "outputs": [
    {
     "data": {
      "text/plain": [
       "array([0.80149181, 0.83713824, 0.80220286, 0.77427179, 0.79123622])"
      ]
     },
     "execution_count": 39,
     "metadata": {},
     "output_type": "execute_result"
    }
   ],
   "source": [
    "from sklearn.model_selection import cross_val_score\n",
    "dt=DecisionTreeRegressor()\n",
    "scores=cross_val_score(dt,x,y,scoring='r2',cv=5)\n",
    "scorel.append(scores)\n",
    "scores"
   ]
  },
  {
   "cell_type": "code",
   "execution_count": 40,
   "metadata": {},
   "outputs": [
    {
     "data": {
      "text/plain": [
       "array([0.78781399, 0.81291624, 0.78847351, 0.78761998, 0.77548773])"
      ]
     },
     "execution_count": 40,
     "metadata": {},
     "output_type": "execute_result"
    }
   ],
   "source": [
    "from sklearn.model_selection import cross_val_score\n",
    "lr=LinearRegression()\n",
    "scores=cross_val_score(lr,x,y,scoring='r2',cv=5)\n",
    "scorel.append(scores)\n",
    "scores"
   ]
  },
  {
   "cell_type": "code",
   "execution_count": 41,
   "metadata": {},
   "outputs": [
    {
     "data": {
      "text/plain": [
       "array([0.72069076, 0.74844583, 0.72721528, 0.71554619, 0.70421273])"
      ]
     },
     "execution_count": 41,
     "metadata": {},
     "output_type": "execute_result"
    }
   ],
   "source": [
    "from sklearn.model_selection import cross_val_score\n",
    "l=Lasso()\n",
    "scores=cross_val_score(l,x,y,scoring='r2',cv=5)\n",
    "scorel.append(scores)\n",
    "scores"
   ]
  },
  {
   "cell_type": "code",
   "execution_count": 42,
   "metadata": {},
   "outputs": [
    {
     "data": {
      "text/plain": [
       "array([0.91340336, 0.93283832, 0.91256918, 0.90811378, 0.90412442])"
      ]
     },
     "execution_count": 42,
     "metadata": {},
     "output_type": "execute_result"
    }
   ],
   "source": [
    "from sklearn.model_selection import cross_val_score\n",
    "rf=RandomForestRegressor()\n",
    "scores=cross_val_score(rf,x,y,scoring='r2',cv=5)\n",
    "scorel.append(scores)\n",
    "scores"
   ]
  },
  {
   "cell_type": "code",
   "execution_count": 43,
   "metadata": {},
   "outputs": [
    {
     "data": {
      "text/plain": [
       "array([0.86106688, 0.88551129, 0.86120317, 0.86169349, 0.85676516])"
      ]
     },
     "execution_count": 43,
     "metadata": {},
     "output_type": "execute_result"
    }
   ],
   "source": [
    "from sklearn.model_selection import cross_val_score\n",
    "gb=GradientBoostingRegressor()\n",
    "scores=cross_val_score(gb,x,y,scoring='r2',cv=5)\n",
    "scorel.append(scores)\n",
    "scores"
   ]
  },
  {
   "cell_type": "markdown",
   "metadata": {},
   "source": [
    "Difference of predicted model and crossvalidation score"
   ]
  },
  {
   "cell_type": "code",
   "execution_count": 44,
   "metadata": {},
   "outputs": [
    {
     "name": "stdout",
     "output_type": "stream",
     "text": [
      "KNeighborsRegressor() difference is [-0.1115885  -0.07319828 -0.09986906 -0.13518666 -0.07965353]\n",
      "SVR() difference is [-0.89582463 -0.90139755 -0.90064472 -0.89520177 -0.90572115]\n",
      "DecisionTreeRegressor() difference is [-0.02067165  0.01497479 -0.01996059 -0.04789167 -0.03092724]\n",
      "LinearRegression() difference is [-0.00219179  0.02291046 -0.00153227 -0.0023858  -0.01451805]\n",
      "Lasso() difference is [0.13776    0.16551507 0.14428452 0.13261542 0.12128197]\n",
      "RandomForestRegressor() difference is [-0.00109198  0.01834298 -0.00192617 -0.00638156 -0.01037092]\n",
      "GradientBoostingRegressor() difference is [-0.00596399  0.01848041 -0.0058277  -0.00533739 -0.01026571]\n"
     ]
    }
   ],
   "source": [
    "models=[KNeighborsRegressor(),SVR(),DecisionTreeRegressor(),LinearRegression(),Lasso(),\n",
    "        RandomForestRegressor(),GradientBoostingRegressor()]\n",
    "for i in range(0,7):\n",
    "    print(models[i],\"difference is\",scorel[i]-r2list[i])"
   ]
  },
  {
   "cell_type": "markdown",
   "metadata": {},
   "source": [
    "DecisionTreeRegressor has least difference"
   ]
  },
  {
   "cell_type": "markdown",
   "metadata": {},
   "source": [
    "HyperTuning"
   ]
  },
  {
   "cell_type": "code",
   "execution_count": 45,
   "metadata": {},
   "outputs": [],
   "source": [
    "from sklearn.model_selection import GridSearchCV\n",
    "parameters = {\"criterion\": [\"mse\", \"mae\"],\n",
    "              \"min_samples_split\": [10, 20, 40],\n",
    "              \"max_depth\": [2, 6, 8],\n",
    "              \"min_samples_leaf\": [20, 40, 100],\n",
    "              \"max_leaf_nodes\": [5, 20, 100],\n",
    "              }\n",
    "grid = GridSearchCV(DecisionTreeRegressor(), param_grid = parameters, cv = 5, scoring = \"r2\")"
   ]
  },
  {
   "cell_type": "code",
   "execution_count": 46,
   "metadata": {},
   "outputs": [
    {
     "name": "stdout",
     "output_type": "stream",
     "text": [
      "Best_parameters {'criterion': 'mse', 'max_depth': 8, 'max_leaf_nodes': 100, 'min_samples_leaf': 20, 'min_samples_split': 10}\n"
     ]
    }
   ],
   "source": [
    "xtrain,xtest,ytrain,ytest=train_test_split(x,y,test_size=0.25,random_state=7)\n",
    "grid.fit(xtrain,ytrain)\n",
    "\n",
    "print(\"Best_parameters\",grid.best_params_)"
   ]
  },
  {
   "cell_type": "code",
   "execution_count": 47,
   "metadata": {},
   "outputs": [
    {
     "name": "stdout",
     "output_type": "stream",
     "text": [
      "Accuracy 80.0\n",
      "Mean absolute error 1.0542108455520198\n",
      "Mean squared error 1.947246050280044\n",
      "Root Mean squared error 1.3954375837994488\n",
      "r2 score 80.0\n"
     ]
    }
   ],
   "source": [
    "xtrain,xtest,ytrain,ytest=train_test_split(x,y,test_size=0.25,random_state=7)\n",
    "from sklearn.metrics import mean_absolute_error,mean_squared_error,r2_score,accuracy_score\n",
    "model=DecisionTreeRegressor(max_leaf_nodes=100,criterion='mse',max_depth=8,min_samples_split=10,min_samples_leaf=20)\n",
    "model.fit(xtrain,ytrain)\n",
    "p=model.predict(xtest)\n",
    "acc=model.score(xtest,ytest)\n",
    "mae=mean_absolute_error(p,ytest)\n",
    "mse=mean_squared_error(p,ytest)\n",
    "rmse=np.sqrt(mean_squared_error(p,ytest))\n",
    "r2=r2_score(ytest,p)\n",
    "print('Accuracy',(round(acc,2))*100)\n",
    "print('Mean absolute error',mae)\n",
    "print('Mean squared error',mse)\n",
    "print('Root Mean squared error',rmse)\n",
    "print('r2 score',(round(r2,2))*100)"
   ]
  },
  {
   "cell_type": "markdown",
   "metadata": {},
   "source": [
    "Modelling and predicting minimum temperature"
   ]
  },
  {
   "cell_type": "code",
   "execution_count": 48,
   "metadata": {},
   "outputs": [],
   "source": [
    "col_r=['Date','station','Next_Tmin']\n",
    "p= df.drop('Next_Tmin',axis=1)\n",
    "q= df['Next_Tmin']"
   ]
  },
  {
   "cell_type": "code",
   "execution_count": 49,
   "metadata": {},
   "outputs": [],
   "source": [
    "from sklearn.neighbors import KNeighborsRegressor\n",
    "from sklearn.svm import SVR\n",
    "from sklearn.tree import DecisionTreeRegressor\n",
    "from sklearn.linear_model import LinearRegression\n",
    "from sklearn.linear_model import Lasso\n",
    "from sklearn.ensemble import RandomForestRegressor\n",
    "from sklearn.ensemble import GradientBoostingRegressor\n",
    "from sklearn.model_selection import train_test_split\n",
    "x=p\n",
    "y=q"
   ]
  },
  {
   "cell_type": "code",
   "execution_count": 50,
   "metadata": {},
   "outputs": [],
   "source": [
    "xtrain,xtest,ytrain,ytest=train_test_split(x,y,test_size=0.25,random_state=7)\n",
    "from sklearn.metrics import mean_absolute_error,mean_squared_error,r2_score\n",
    "models=[KNeighborsRegressor(),SVR(),DecisionTreeRegressor(),LinearRegression(),Lasso(),\n",
    "        RandomForestRegressor(),GradientBoostingRegressor()]\n",
    "maelist=[]\n",
    "mselist=[]\n",
    "rmselist=[]\n",
    "r2list=[]"
   ]
  },
  {
   "cell_type": "code",
   "execution_count": 51,
   "metadata": {},
   "outputs": [
    {
     "name": "stdout",
     "output_type": "stream",
     "text": [
      "KNeighborsRegressor()\n",
      "Mean absolute error 0.852256047505018\n",
      "Mean squared error 1.3790197749842568\n",
      "Root Mean squared error 1.1743167268604568\n",
      "R2 Score 0.7840140923650469\n",
      "---------------------------------------------------------------------------------------------------------\n",
      "SVR()\n",
      "Mean absolute error 1.978692697867222\n",
      "Mean squared error 6.420328848281422\n",
      "Root Mean squared error 2.5338367840651106\n",
      "R2 Score -0.0055697378427852495\n",
      "---------------------------------------------------------------------------------------------------------\n",
      "DecisionTreeRegressor()\n",
      "Mean absolute error 0.838681341656063\n",
      "Mean squared error 1.3228390970029331\n",
      "Root Mean squared error 1.1501474240300384\n",
      "R2 Score 0.7928132662024792\n",
      "---------------------------------------------------------------------------------------------------------\n",
      "LinearRegression()\n",
      "Mean absolute error 0.7519328673926879\n",
      "Mean squared error 0.9146992886699481\n",
      "Root Mean squared error 0.956399126238595\n",
      "R2 Score 0.8567372566657501\n",
      "---------------------------------------------------------------------------------------------------------\n",
      "Lasso()\n",
      "Mean absolute error 0.8759217063230905\n",
      "Mean squared error 1.220418950329961\n",
      "Root Mean squared error 1.104725735343375\n",
      "R2 Score 0.8088545940648875\n",
      "---------------------------------------------------------------------------------------------------------\n",
      "RandomForestRegressor()\n",
      "Mean absolute error 0.5518213569522512\n",
      "Mean squared error 0.5333714379114706\n",
      "Root Mean squared error 0.7303228312954967\n",
      "R2 Score 0.9164618838586386\n",
      "---------------------------------------------------------------------------------------------------------\n",
      "GradientBoostingRegressor()\n",
      "Mean absolute error 0.6147727087960139\n",
      "Mean squared error 0.619043842464505\n",
      "Root Mean squared error 0.7867933924890987\n",
      "R2 Score 0.9030436338869388\n",
      "---------------------------------------------------------------------------------------------------------\n",
      "Minimum Mean Absolute error is shown by  RandomForestRegressor() 0.5518213569522512\n",
      "Minimum Mean squared error is shown by  RandomForestRegressor() 0.5333714379114706\n",
      "Minimum Root Mean squared error is shown by  RandomForestRegressor() 0.7303228312954967\n",
      "Maximun R2 Score is shown by  RandomForestRegressor() 0.9164618838586386\n"
     ]
    }
   ],
   "source": [
    "def create_model(model):\n",
    "    m=model\n",
    "    m.fit(xtrain,ytrain)\n",
    "    p=m.predict(xtest)\n",
    "    \n",
    "    mae=mean_absolute_error(p,ytest)\n",
    "    mse=mean_squared_error(p,ytest)\n",
    "    rmse=np.sqrt(mean_squared_error(p,ytest))\n",
    "    r2=r2_score(ytest,p)\n",
    "    \n",
    "    maelist.append(mae)\n",
    "    mselist.append(mse)\n",
    "    rmselist.append(rmse)\n",
    "    r2list.append(r2)\n",
    "    \n",
    "    print(m)\n",
    "    \n",
    "    print('Mean absolute error',mae)\n",
    "    print('Mean squared error',mse)\n",
    "    print('Root Mean squared error',rmse)\n",
    "    print('R2 Score',r2)\n",
    "    print('---------------------------------------------------------------------------------------------------------')\n",
    "for i in models:\n",
    "    create_model(i)\n",
    "print('Minimum Mean Absolute error is shown by ',models[maelist.index(min(maelist))],min(maelist))\n",
    "print('Minimum Mean squared error is shown by ',models[mselist.index(min(mselist))],min(mselist))\n",
    "print('Minimum Root Mean squared error is shown by ',models[rmselist.index(min(rmselist))],min(rmselist))\n",
    "print('Maximun R2 Score is shown by ',models[r2list.index(max(r2list))],max(r2list))"
   ]
  },
  {
   "cell_type": "markdown",
   "metadata": {},
   "source": [
    "cross validation"
   ]
  },
  {
   "cell_type": "code",
   "execution_count": 52,
   "metadata": {},
   "outputs": [],
   "source": [
    "scorel=[]"
   ]
  },
  {
   "cell_type": "code",
   "execution_count": 53,
   "metadata": {},
   "outputs": [],
   "source": [
    "from sklearn.utils import shuffle\n",
    "scorel=[]\n",
    "x=p\n",
    "y=q\n",
    "x, y = shuffle(x, y, random_state = 7)"
   ]
  },
  {
   "cell_type": "code",
   "execution_count": 54,
   "metadata": {},
   "outputs": [
    {
     "data": {
      "text/plain": [
       "array([0.78966379, 0.80801252, 0.77744901, 0.78259519, 0.80857742])"
      ]
     },
     "execution_count": 54,
     "metadata": {},
     "output_type": "execute_result"
    }
   ],
   "source": [
    "from sklearn.model_selection import cross_val_score\n",
    "k=KNeighborsRegressor()\n",
    "scores=cross_val_score(k,x,y,scoring='r2',cv=5)\n",
    "scorel.append(scores)\n",
    "scores"
   ]
  },
  {
   "cell_type": "code",
   "execution_count": 55,
   "metadata": {},
   "outputs": [
    {
     "data": {
      "text/plain": [
       "array([-0.00413264, -0.01380231, -0.00412615, -0.00269936, -0.00934257])"
      ]
     },
     "execution_count": 55,
     "metadata": {},
     "output_type": "execute_result"
    }
   ],
   "source": [
    "from sklearn.model_selection import cross_val_score\n",
    "svr=SVR()\n",
    "scores=cross_val_score(svr,x,y,scoring='r2',cv=5)\n",
    "scorel.append(scores)\n",
    "scores"
   ]
  },
  {
   "cell_type": "code",
   "execution_count": 56,
   "metadata": {},
   "outputs": [
    {
     "data": {
      "text/plain": [
       "array([0.82761259, 0.82646845, 0.80132487, 0.78717935, 0.79119219])"
      ]
     },
     "execution_count": 56,
     "metadata": {},
     "output_type": "execute_result"
    }
   ],
   "source": [
    "from sklearn.model_selection import cross_val_score\n",
    "dt=DecisionTreeRegressor()\n",
    "scores=cross_val_score(dt,x,y,scoring='r2',cv=5)\n",
    "scorel.append(scores)\n",
    "scores"
   ]
  },
  {
   "cell_type": "code",
   "execution_count": 57,
   "metadata": {},
   "outputs": [
    {
     "data": {
      "text/plain": [
       "array([0.85533417, 0.84933   , 0.84369397, 0.84126882, 0.84419042])"
      ]
     },
     "execution_count": 57,
     "metadata": {},
     "output_type": "execute_result"
    }
   ],
   "source": [
    "from sklearn.model_selection import cross_val_score\n",
    "lr=LinearRegression()\n",
    "scores=cross_val_score(lr,x,y,scoring='r2',cv=5)\n",
    "scorel.append(scores)\n",
    "scores"
   ]
  },
  {
   "cell_type": "code",
   "execution_count": 58,
   "metadata": {},
   "outputs": [
    {
     "data": {
      "text/plain": [
       "array([0.80724591, 0.80359496, 0.80110903, 0.78718397, 0.79930619])"
      ]
     },
     "execution_count": 58,
     "metadata": {},
     "output_type": "execute_result"
    }
   ],
   "source": [
    "from sklearn.model_selection import cross_val_score\n",
    "l=Lasso()\n",
    "scores=cross_val_score(l,x,y,scoring='r2',cv=5)\n",
    "scorel.append(scores)\n",
    "scores"
   ]
  },
  {
   "cell_type": "code",
   "execution_count": 59,
   "metadata": {},
   "outputs": [
    {
     "data": {
      "text/plain": [
       "array([0.91624608, 0.91822517, 0.90693672, 0.90674959, 0.91311988])"
      ]
     },
     "execution_count": 59,
     "metadata": {},
     "output_type": "execute_result"
    }
   ],
   "source": [
    "from sklearn.model_selection import cross_val_score\n",
    "rf=RandomForestRegressor()\n",
    "scores=cross_val_score(rf,x,y,scoring='r2',cv=5)\n",
    "scorel.append(scores)\n",
    "scores"
   ]
  },
  {
   "cell_type": "code",
   "execution_count": 60,
   "metadata": {},
   "outputs": [
    {
     "data": {
      "text/plain": [
       "array([0.90272638, 0.89894651, 0.89487763, 0.88756879, 0.89639196])"
      ]
     },
     "execution_count": 60,
     "metadata": {},
     "output_type": "execute_result"
    }
   ],
   "source": [
    "from sklearn.model_selection import cross_val_score\n",
    "gb=GradientBoostingRegressor()\n",
    "scores=cross_val_score(gb,x,y,scoring='r2',cv=5)\n",
    "scorel.append(scores)\n",
    "scores"
   ]
  },
  {
   "cell_type": "markdown",
   "metadata": {},
   "source": [
    "Difference of predicted model and crossvalidation score"
   ]
  },
  {
   "cell_type": "code",
   "execution_count": 61,
   "metadata": {},
   "outputs": [
    {
     "name": "stdout",
     "output_type": "stream",
     "text": [
      "KNeighborsRegressor() difference is [ 0.0056497   0.02399842 -0.00656508 -0.0014189   0.02456333]\n",
      "SVR() difference is [ 0.00143709 -0.00823258  0.00144359  0.00287038 -0.00377284]\n",
      "DecisionTreeRegressor() difference is [ 0.03479932  0.03365518  0.0085116  -0.00563392 -0.00162108]\n",
      "LinearRegression() difference is [-0.00140309 -0.00740725 -0.01304328 -0.01546843 -0.01254684]\n",
      "Lasso() difference is [-0.00160868 -0.00525963 -0.00774556 -0.02167062 -0.0095484 ]\n",
      "RandomForestRegressor() difference is [-0.00021581  0.00176329 -0.00952516 -0.00971229 -0.00334201]\n",
      "GradientBoostingRegressor() difference is [-0.00031726 -0.00409712 -0.00816601 -0.01547485 -0.00665167]\n"
     ]
    }
   ],
   "source": [
    "models=[KNeighborsRegressor(),SVR(),DecisionTreeRegressor(),LinearRegression(),Lasso(),\n",
    "        RandomForestRegressor(),GradientBoostingRegressor()]\n",
    "for i in range(0,7):\n",
    "    print(models[i],\"difference is\",scorel[i]-r2list[i])"
   ]
  },
  {
   "cell_type": "markdown",
   "metadata": {},
   "source": [
    "Hyper Tuning"
   ]
  },
  {
   "cell_type": "code",
   "execution_count": 62,
   "metadata": {},
   "outputs": [],
   "source": [
    "from sklearn.model_selection import GridSearchCV\n",
    "parameters = { \"normalize\":[True, False], \"copy_X\":[True, False],\n",
    "              \"fit_intercept\": [True, False]\n",
    "              }\n",
    "grid = GridSearchCV(LinearRegression(), param_grid = parameters, cv = 5, scoring = \"r2\")"
   ]
  },
  {
   "cell_type": "code",
   "execution_count": 63,
   "metadata": {},
   "outputs": [
    {
     "name": "stdout",
     "output_type": "stream",
     "text": [
      "Best_parameters {'copy_X': True, 'fit_intercept': True, 'normalize': True}\n"
     ]
    }
   ],
   "source": [
    "xtrain,xtest,ytrain,ytest=train_test_split(x,y,test_size=0.25,random_state=7)\n",
    "grid.fit(xtrain,ytrain)\n",
    "\n",
    "print(\"Best_parameters\",grid.best_params_)"
   ]
  },
  {
   "cell_type": "code",
   "execution_count": 64,
   "metadata": {},
   "outputs": [
    {
     "name": "stdout",
     "output_type": "stream",
     "text": [
      "Accuracy 85.0\n",
      "Mean absolute error 0.7630533051373398\n",
      "Mean squared error 0.9508938680808134\n",
      "Root Mean squared error 0.9751378713191348\n",
      "r2 score 85.0\n"
     ]
    }
   ],
   "source": [
    "xtrain,xtest,ytrain,ytest=train_test_split(x,y,test_size=0.25,random_state=7)\n",
    "from sklearn.metrics import mean_absolute_error,mean_squared_error,r2_score,accuracy_score\n",
    "model1=LinearRegression(copy_X=True,fit_intercept=True,normalize=True)\n",
    "model1.fit(xtrain,ytrain)\n",
    "p=model1.predict(xtest)\n",
    "acc=model1.score(xtest,ytest)\n",
    "mae=mean_absolute_error(p,ytest)\n",
    "mse=mean_squared_error(p,ytest)\n",
    "rmse=np.sqrt(mean_squared_error(p,ytest))\n",
    "r2=r2_score(ytest,p)\n",
    "print('Accuracy',(round(acc,2))*100)\n",
    "print('Mean absolute error',mae)\n",
    "print('Mean squared error',mse)\n",
    "print('Root Mean squared error',rmse)\n",
    "print('r2 score',(round(r2,2))*100)"
   ]
  },
  {
   "cell_type": "markdown",
   "metadata": {},
   "source": [
    "Saving the file"
   ]
  },
  {
   "cell_type": "code",
   "execution_count": 65,
   "metadata": {},
   "outputs": [
    {
     "data": {
      "text/plain": [
       "['model_maxtemp.joblib']"
      ]
     },
     "execution_count": 65,
     "metadata": {},
     "output_type": "execute_result"
    }
   ],
   "source": [
    "from joblib import dump\n",
    "dump(model, 'model_maxtemp.joblib')"
   ]
  },
  {
   "cell_type": "code",
   "execution_count": 66,
   "metadata": {},
   "outputs": [
    {
     "data": {
      "text/plain": [
       "['model_mintemp.joblib']"
      ]
     },
     "execution_count": 66,
     "metadata": {},
     "output_type": "execute_result"
    }
   ],
   "source": [
    "from joblib import dump\n",
    "dump(model1, 'model_mintemp.joblib')"
   ]
  },
  {
   "cell_type": "code",
   "execution_count": 67,
   "metadata": {},
   "outputs": [],
   "source": [
    "from joblib import load\n",
    "loaded = load('model_maxtemp.joblib')"
   ]
  },
  {
   "cell_type": "code",
   "execution_count": 68,
   "metadata": {},
   "outputs": [],
   "source": [
    "from joblib import load\n",
    "loaded = load('model_mintemp.joblib')"
   ]
  },
  {
   "cell_type": "code",
   "execution_count": null,
   "metadata": {},
   "outputs": [],
   "source": []
  },
  {
   "cell_type": "code",
   "execution_count": null,
   "metadata": {},
   "outputs": [],
   "source": []
  }
 ],
 "metadata": {
  "kernelspec": {
   "display_name": "Python 3",
   "language": "python",
   "name": "python3"
  },
  "language_info": {
   "codemirror_mode": {
    "name": "ipython",
    "version": 3
   },
   "file_extension": ".py",
   "mimetype": "text/x-python",
   "name": "python",
   "nbconvert_exporter": "python",
   "pygments_lexer": "ipython3",
   "version": "3.7.6"
  }
 },
 "nbformat": 4,
 "nbformat_minor": 4
}

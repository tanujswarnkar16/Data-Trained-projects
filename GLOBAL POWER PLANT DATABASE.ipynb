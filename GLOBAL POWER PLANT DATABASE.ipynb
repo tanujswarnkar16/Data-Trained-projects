{
 "cells": [
  {
   "cell_type": "code",
   "execution_count": 1,
   "metadata": {},
   "outputs": [],
   "source": [
    "import pandas as pd\n",
    "import numpy as np\n",
    "import seaborn as sns\n",
    "from scipy import stats\n",
    "import warnings \n",
    "warnings.filterwarnings('ignore')\n",
    "from matplotlib import pyplot as plt"
   ]
  },
  {
   "cell_type": "code",
   "execution_count": 2,
   "metadata": {},
   "outputs": [
    {
     "data": {
      "text/html": [
       "<div>\n",
       "<style scoped>\n",
       "    .dataframe tbody tr th:only-of-type {\n",
       "        vertical-align: middle;\n",
       "    }\n",
       "\n",
       "    .dataframe tbody tr th {\n",
       "        vertical-align: top;\n",
       "    }\n",
       "\n",
       "    .dataframe thead th {\n",
       "        text-align: right;\n",
       "    }\n",
       "</style>\n",
       "<table border=\"1\" class=\"dataframe\">\n",
       "  <thead>\n",
       "    <tr style=\"text-align: right;\">\n",
       "      <th></th>\n",
       "      <th>country</th>\n",
       "      <th>country_long</th>\n",
       "      <th>name</th>\n",
       "      <th>gppd_idnr</th>\n",
       "      <th>capacity_mw</th>\n",
       "      <th>latitude</th>\n",
       "      <th>longitude</th>\n",
       "      <th>primary_fuel</th>\n",
       "      <th>other_fuel1</th>\n",
       "      <th>other_fuel2</th>\n",
       "      <th>...</th>\n",
       "      <th>geolocation_source</th>\n",
       "      <th>wepp_id</th>\n",
       "      <th>year_of_capacity_data</th>\n",
       "      <th>generation_gwh_2013</th>\n",
       "      <th>generation_gwh_2014</th>\n",
       "      <th>generation_gwh_2015</th>\n",
       "      <th>generation_gwh_2016</th>\n",
       "      <th>generation_gwh_2017</th>\n",
       "      <th>generation_data_source</th>\n",
       "      <th>estimated_generation_gwh</th>\n",
       "    </tr>\n",
       "  </thead>\n",
       "  <tbody>\n",
       "    <tr>\n",
       "      <th>0</th>\n",
       "      <td>IND</td>\n",
       "      <td>India</td>\n",
       "      <td>ACME Solar Tower</td>\n",
       "      <td>WRI1020239</td>\n",
       "      <td>2.5</td>\n",
       "      <td>28.1839</td>\n",
       "      <td>73.2407</td>\n",
       "      <td>Solar</td>\n",
       "      <td>NaN</td>\n",
       "      <td>NaN</td>\n",
       "      <td>...</td>\n",
       "      <td>National Renewable Energy Laboratory</td>\n",
       "      <td>NaN</td>\n",
       "      <td>NaN</td>\n",
       "      <td>NaN</td>\n",
       "      <td>NaN</td>\n",
       "      <td>NaN</td>\n",
       "      <td>NaN</td>\n",
       "      <td>NaN</td>\n",
       "      <td>NaN</td>\n",
       "      <td>NaN</td>\n",
       "    </tr>\n",
       "    <tr>\n",
       "      <th>1</th>\n",
       "      <td>IND</td>\n",
       "      <td>India</td>\n",
       "      <td>ADITYA CEMENT WORKS</td>\n",
       "      <td>WRI1019881</td>\n",
       "      <td>98.0</td>\n",
       "      <td>24.7663</td>\n",
       "      <td>74.6090</td>\n",
       "      <td>Coal</td>\n",
       "      <td>NaN</td>\n",
       "      <td>NaN</td>\n",
       "      <td>...</td>\n",
       "      <td>WRI</td>\n",
       "      <td>NaN</td>\n",
       "      <td>NaN</td>\n",
       "      <td>NaN</td>\n",
       "      <td>NaN</td>\n",
       "      <td>NaN</td>\n",
       "      <td>NaN</td>\n",
       "      <td>NaN</td>\n",
       "      <td>NaN</td>\n",
       "      <td>NaN</td>\n",
       "    </tr>\n",
       "    <tr>\n",
       "      <th>2</th>\n",
       "      <td>IND</td>\n",
       "      <td>India</td>\n",
       "      <td>AES Saurashtra Windfarms</td>\n",
       "      <td>WRI1026669</td>\n",
       "      <td>39.2</td>\n",
       "      <td>21.9038</td>\n",
       "      <td>69.3732</td>\n",
       "      <td>Wind</td>\n",
       "      <td>NaN</td>\n",
       "      <td>NaN</td>\n",
       "      <td>...</td>\n",
       "      <td>WRI</td>\n",
       "      <td>NaN</td>\n",
       "      <td>NaN</td>\n",
       "      <td>NaN</td>\n",
       "      <td>NaN</td>\n",
       "      <td>NaN</td>\n",
       "      <td>NaN</td>\n",
       "      <td>NaN</td>\n",
       "      <td>NaN</td>\n",
       "      <td>NaN</td>\n",
       "    </tr>\n",
       "    <tr>\n",
       "      <th>3</th>\n",
       "      <td>IND</td>\n",
       "      <td>India</td>\n",
       "      <td>AGARTALA GT</td>\n",
       "      <td>IND0000001</td>\n",
       "      <td>135.0</td>\n",
       "      <td>23.8712</td>\n",
       "      <td>91.3602</td>\n",
       "      <td>Gas</td>\n",
       "      <td>NaN</td>\n",
       "      <td>NaN</td>\n",
       "      <td>...</td>\n",
       "      <td>WRI</td>\n",
       "      <td>NaN</td>\n",
       "      <td>2018.0</td>\n",
       "      <td>631.777928</td>\n",
       "      <td>617.789264</td>\n",
       "      <td>843.747</td>\n",
       "      <td>886.004428</td>\n",
       "      <td>663.774500</td>\n",
       "      <td>Central Electricity Authority</td>\n",
       "      <td>NaN</td>\n",
       "    </tr>\n",
       "    <tr>\n",
       "      <th>4</th>\n",
       "      <td>IND</td>\n",
       "      <td>India</td>\n",
       "      <td>AKALTARA TPP</td>\n",
       "      <td>IND0000002</td>\n",
       "      <td>1800.0</td>\n",
       "      <td>21.9603</td>\n",
       "      <td>82.4091</td>\n",
       "      <td>Coal</td>\n",
       "      <td>Oil</td>\n",
       "      <td>NaN</td>\n",
       "      <td>...</td>\n",
       "      <td>WRI</td>\n",
       "      <td>NaN</td>\n",
       "      <td>2018.0</td>\n",
       "      <td>1668.290000</td>\n",
       "      <td>3035.550000</td>\n",
       "      <td>5916.370</td>\n",
       "      <td>6243.000000</td>\n",
       "      <td>5385.579736</td>\n",
       "      <td>Central Electricity Authority</td>\n",
       "      <td>NaN</td>\n",
       "    </tr>\n",
       "  </tbody>\n",
       "</table>\n",
       "<p>5 rows × 25 columns</p>\n",
       "</div>"
      ],
      "text/plain": [
       "  country country_long                      name   gppd_idnr  capacity_mw  \\\n",
       "0     IND        India          ACME Solar Tower  WRI1020239          2.5   \n",
       "1     IND        India       ADITYA CEMENT WORKS  WRI1019881         98.0   \n",
       "2     IND        India  AES Saurashtra Windfarms  WRI1026669         39.2   \n",
       "3     IND        India               AGARTALA GT  IND0000001        135.0   \n",
       "4     IND        India              AKALTARA TPP  IND0000002       1800.0   \n",
       "\n",
       "   latitude  longitude primary_fuel other_fuel1 other_fuel2  ...  \\\n",
       "0   28.1839    73.2407        Solar         NaN         NaN  ...   \n",
       "1   24.7663    74.6090         Coal         NaN         NaN  ...   \n",
       "2   21.9038    69.3732         Wind         NaN         NaN  ...   \n",
       "3   23.8712    91.3602          Gas         NaN         NaN  ...   \n",
       "4   21.9603    82.4091         Coal         Oil         NaN  ...   \n",
       "\n",
       "                     geolocation_source  wepp_id year_of_capacity_data  \\\n",
       "0  National Renewable Energy Laboratory      NaN                   NaN   \n",
       "1                                   WRI      NaN                   NaN   \n",
       "2                                   WRI      NaN                   NaN   \n",
       "3                                   WRI      NaN                2018.0   \n",
       "4                                   WRI      NaN                2018.0   \n",
       "\n",
       "  generation_gwh_2013 generation_gwh_2014 generation_gwh_2015  \\\n",
       "0                 NaN                 NaN                 NaN   \n",
       "1                 NaN                 NaN                 NaN   \n",
       "2                 NaN                 NaN                 NaN   \n",
       "3          631.777928          617.789264             843.747   \n",
       "4         1668.290000         3035.550000            5916.370   \n",
       "\n",
       "   generation_gwh_2016  generation_gwh_2017         generation_data_source  \\\n",
       "0                  NaN                  NaN                            NaN   \n",
       "1                  NaN                  NaN                            NaN   \n",
       "2                  NaN                  NaN                            NaN   \n",
       "3           886.004428           663.774500  Central Electricity Authority   \n",
       "4          6243.000000          5385.579736  Central Electricity Authority   \n",
       "\n",
       "   estimated_generation_gwh  \n",
       "0                       NaN  \n",
       "1                       NaN  \n",
       "2                       NaN  \n",
       "3                       NaN  \n",
       "4                       NaN  \n",
       "\n",
       "[5 rows x 25 columns]"
      ]
     },
     "execution_count": 2,
     "metadata": {},
     "output_type": "execute_result"
    }
   ],
   "source": [
    "url='https://raw.githubusercontent.com/wri/global-power-plant-database/master/source_databases_csv/database_IND.csv'\n",
    "df = pd.read_csv(url, error_bad_lines=False)\n",
    "df.head()"
   ]
  },
  {
   "cell_type": "markdown",
   "metadata": {},
   "source": [
    "loading dataset"
   ]
  },
  {
   "cell_type": "code",
   "execution_count": 3,
   "metadata": {},
   "outputs": [
    {
     "data": {
      "text/plain": [
       "(908, 25)"
      ]
     },
     "execution_count": 3,
     "metadata": {},
     "output_type": "execute_result"
    }
   ],
   "source": [
    "df.shape"
   ]
  },
  {
   "cell_type": "markdown",
   "metadata": {},
   "source": [
    "dataset has 908 rows and 25 columns"
   ]
  },
  {
   "cell_type": "code",
   "execution_count": 4,
   "metadata": {},
   "outputs": [
    {
     "data": {
      "text/plain": [
       "country                      object\n",
       "country_long                 object\n",
       "name                         object\n",
       "gppd_idnr                    object\n",
       "capacity_mw                 float64\n",
       "latitude                    float64\n",
       "longitude                   float64\n",
       "primary_fuel                 object\n",
       "other_fuel1                  object\n",
       "other_fuel2                  object\n",
       "other_fuel3                 float64\n",
       "commissioning_year          float64\n",
       "owner                        object\n",
       "source                       object\n",
       "url                          object\n",
       "geolocation_source           object\n",
       "wepp_id                     float64\n",
       "year_of_capacity_data       float64\n",
       "generation_gwh_2013         float64\n",
       "generation_gwh_2014         float64\n",
       "generation_gwh_2015         float64\n",
       "generation_gwh_2016         float64\n",
       "generation_gwh_2017         float64\n",
       "generation_data_source       object\n",
       "estimated_generation_gwh    float64\n",
       "dtype: object"
      ]
     },
     "execution_count": 4,
     "metadata": {},
     "output_type": "execute_result"
    }
   ],
   "source": [
    "df.dtypes"
   ]
  },
  {
   "cell_type": "markdown",
   "metadata": {},
   "source": [
    "The features 'capacity_mw', 'latitude', 'longitude', 'other_fuel3', 'commissioning_year', 'wepp_id', 'year_of_capacity_data', 'generation_gwh_2013', 'generation_gwh_2014', 'generation_gwh_2015', 'generation_gwh_2016', 'estimated_generation_gwh' are float type remaing all are object type"
   ]
  },
  {
   "cell_type": "code",
   "execution_count": 5,
   "metadata": {},
   "outputs": [
    {
     "data": {
      "text/plain": [
       "Index(['country', 'country_long', 'name', 'gppd_idnr', 'capacity_mw',\n",
       "       'latitude', 'longitude', 'primary_fuel', 'other_fuel1', 'other_fuel2',\n",
       "       'other_fuel3', 'commissioning_year', 'owner', 'source', 'url',\n",
       "       'geolocation_source', 'wepp_id', 'year_of_capacity_data',\n",
       "       'generation_gwh_2013', 'generation_gwh_2014', 'generation_gwh_2015',\n",
       "       'generation_gwh_2016', 'generation_gwh_2017', 'generation_data_source',\n",
       "       'estimated_generation_gwh'],\n",
       "      dtype='object')"
      ]
     },
     "execution_count": 5,
     "metadata": {},
     "output_type": "execute_result"
    }
   ],
   "source": [
    "df.columns"
   ]
  },
  {
   "cell_type": "code",
   "execution_count": 6,
   "metadata": {},
   "outputs": [
    {
     "data": {
      "text/plain": [
       "array(['IND'], dtype=object)"
      ]
     },
     "execution_count": 6,
     "metadata": {},
     "output_type": "execute_result"
    }
   ],
   "source": [
    "df['country'].unique()"
   ]
  },
  {
   "cell_type": "code",
   "execution_count": 7,
   "metadata": {},
   "outputs": [
    {
     "data": {
      "text/plain": [
       "array(['India'], dtype=object)"
      ]
     },
     "execution_count": 7,
     "metadata": {},
     "output_type": "execute_result"
    }
   ],
   "source": [
    "df['country_long'].unique()"
   ]
  },
  {
   "cell_type": "markdown",
   "metadata": {},
   "source": [
    "both the features country and country long has single value so I'm going to drop it."
   ]
  },
  {
   "cell_type": "code",
   "execution_count": 8,
   "metadata": {},
   "outputs": [
    {
     "data": {
      "text/plain": [
       "country                       0\n",
       "country_long                  0\n",
       "name                          0\n",
       "gppd_idnr                     0\n",
       "capacity_mw                   0\n",
       "latitude                     46\n",
       "longitude                    46\n",
       "primary_fuel                  0\n",
       "other_fuel1                 709\n",
       "other_fuel2                 907\n",
       "other_fuel3                 908\n",
       "commissioning_year          380\n",
       "owner                       566\n",
       "source                        0\n",
       "url                           0\n",
       "geolocation_source           19\n",
       "wepp_id                     908\n",
       "year_of_capacity_data       388\n",
       "generation_gwh_2013         524\n",
       "generation_gwh_2014         507\n",
       "generation_gwh_2015         483\n",
       "generation_gwh_2016         471\n",
       "generation_gwh_2017         465\n",
       "generation_data_source      458\n",
       "estimated_generation_gwh    908\n",
       "dtype: int64"
      ]
     },
     "execution_count": 8,
     "metadata": {},
     "output_type": "execute_result"
    }
   ],
   "source": [
    "df.isnull().sum()"
   ]
  },
  {
   "cell_type": "markdown",
   "metadata": {},
   "source": [
    "the features latitude, longitude, other_fuel1, other_fuel2, other_fuel3, commissioning_year, owner, geolocation_source, wepp_id,'year_of_capacity_data','generation_gwh_2013', 'generation_gwh_2014',  'generation_gwh_2015', 'generation_gwh_2016','generation_gwh_2017', 'generation_data_source', 'estimated_generation_gwh'  has null values"
   ]
  },
  {
   "cell_type": "code",
   "execution_count": 9,
   "metadata": {},
   "outputs": [
    {
     "data": {
      "text/plain": [
       "<matplotlib.axes._subplots.AxesSubplot at 0x1ff5a204708>"
      ]
     },
     "execution_count": 9,
     "metadata": {},
     "output_type": "execute_result"
    },
    {
     "data": {
      "image/png": "[encoded data removed]",
      "text/plain": [
       "<Figure size 1080x1080 with 1 Axes>"
      ]
     },
     "metadata": {
      "needs_background": "light"
     },
     "output_type": "display_data"
    }
   ],
   "source": [
    "plt.figure(figsize=(15,15))\n",
    "rows = 3\n",
    "cols = 1\n",
    "i=0\n",
    "i += 1\n",
    "plt.subplot(rows,cols,i)\n",
    "sns.countplot(df.primary_fuel,palette=\"Set1\")"
   ]
  },
  {
   "cell_type": "markdown",
   "metadata": {},
   "source": [
    "the above plot shows the primary fuel for power plant as coal and hydro were used the most while nuclear is used as least"
   ]
  },
  {
   "cell_type": "markdown",
   "metadata": {},
   "source": [
    "Handling missing values in float data type"
   ]
  },
  {
   "cell_type": "code",
   "execution_count": 10,
   "metadata": {},
   "outputs": [],
   "source": [
    "df_new=df"
   ]
  },
  {
   "cell_type": "code",
   "execution_count": 11,
   "metadata": {},
   "outputs": [
    {
     "data": {
      "text/plain": [
       "<matplotlib.axes._subplots.AxesSubplot at 0x1ff5ae6be48>"
      ]
     },
     "execution_count": 11,
     "metadata": {},
     "output_type": "execute_result"
    },
    {
     "data": {
      "image/png": "[encoded data removed]",
      "text/plain": [
       "<Figure size 360x360 with 1 Axes>"
      ]
     },
     "metadata": {
      "needs_background": "light"
     },
     "output_type": "display_data"
    }
   ],
   "source": [
    "plt.figure(figsize=(5,5))\n",
    "sns.distplot(df.latitude,color=\"red\",kde=True)"
   ]
  },
  {
   "cell_type": "markdown",
   "metadata": {},
   "source": [
    "latitude feature has no normal curve so I'm applying median to fill the values"
   ]
  },
  {
   "cell_type": "code",
   "execution_count": 12,
   "metadata": {},
   "outputs": [],
   "source": [
    "df_new['latitude'].fillna((df_new['latitude'].median()), inplace=True)"
   ]
  },
  {
   "cell_type": "code",
   "execution_count": 13,
   "metadata": {},
   "outputs": [
    {
     "data": {
      "text/plain": [
       "<matplotlib.axes._subplots.AxesSubplot at 0x1ff5aa43b08>"
      ]
     },
     "execution_count": 13,
     "metadata": {},
     "output_type": "execute_result"
    },
    {
     "data": {
      "image/png": "[encoded data removed]",
      "text/plain": [
       "<Figure size 360x360 with 1 Axes>"
      ]
     },
     "metadata": {
      "needs_background": "light"
     },
     "output_type": "display_data"
    }
   ],
   "source": [
    "plt.figure(figsize=(5,5))\n",
    "sns.distplot(df.longitude,color=\"red\",kde=True)"
   ]
  },
  {
   "cell_type": "markdown",
   "metadata": {},
   "source": [
    "longitude feature has normal curve so I'm applying mean to fill the values"
   ]
  },
  {
   "cell_type": "code",
   "execution_count": 14,
   "metadata": {},
   "outputs": [],
   "source": [
    "df_new['longitude'].fillna((df_new['latitude'].mean()), inplace=True)"
   ]
  },
  {
   "cell_type": "code",
   "execution_count": 15,
   "metadata": {},
   "outputs": [
    {
     "data": {
      "text/plain": [
       "array([nan])"
      ]
     },
     "execution_count": 15,
     "metadata": {},
     "output_type": "execute_result"
    }
   ],
   "source": [
    "df['other_fuel3'].unique()"
   ]
  },
  {
   "cell_type": "markdown",
   "metadata": {},
   "source": [
    "the feature other fuel 3 has only nan values so I'm going to drop this"
   ]
  },
  {
   "cell_type": "code",
   "execution_count": 16,
   "metadata": {},
   "outputs": [
    {
     "data": {
      "text/plain": [
       "<matplotlib.axes._subplots.AxesSubplot at 0x1ff5ab26688>"
      ]
     },
     "execution_count": 16,
     "metadata": {},
     "output_type": "execute_result"
    },
    {
     "data": {
      "image/png": "[encoded data removed]",
      "text/plain": [
       "<Figure size 360x360 with 1 Axes>"
      ]
     },
     "metadata": {
      "needs_background": "light"
     },
     "output_type": "display_data"
    }
   ],
   "source": [
    "plt.figure(figsize=(5,5))\n",
    "sns.distplot(df.commissioning_year,color=\"red\",kde=True)"
   ]
  },
  {
   "cell_type": "markdown",
   "metadata": {},
   "source": [
    "commissioning_year is not distributed normally so I'm using median"
   ]
  },
  {
   "cell_type": "code",
   "execution_count": 17,
   "metadata": {},
   "outputs": [],
   "source": [
    "df_new['commissioning_year'].fillna((df_new['commissioning_year'].median()), inplace=True)"
   ]
  },
  {
   "cell_type": "code",
   "execution_count": 18,
   "metadata": {},
   "outputs": [
    {
     "data": {
      "text/plain": [
       "array([nan])"
      ]
     },
     "execution_count": 18,
     "metadata": {},
     "output_type": "execute_result"
    }
   ],
   "source": [
    "df['wepp_id'].unique()"
   ]
  },
  {
   "cell_type": "markdown",
   "metadata": {},
   "source": [
    "the feature wepp_id has only nan values so I'm going to drop this"
   ]
  },
  {
   "cell_type": "code",
   "execution_count": 19,
   "metadata": {},
   "outputs": [
    {
     "data": {
      "text/plain": [
       "<matplotlib.axes._subplots.AxesSubplot at 0x1ff5abc0a48>"
      ]
     },
     "execution_count": 19,
     "metadata": {},
     "output_type": "execute_result"
    },
    {
     "data": {
      "image/png": "[encoded data removed]",
      "text/plain": [
       "<Figure size 360x360 with 1 Axes>"
      ]
     },
     "metadata": {
      "needs_background": "light"
     },
     "output_type": "display_data"
    }
   ],
   "source": [
    "plt.figure(figsize=(5,5))\n",
    "sns.distplot(df.year_of_capacity_data,color=\"red\",kde=True)"
   ]
  },
  {
   "cell_type": "code",
   "execution_count": 20,
   "metadata": {},
   "outputs": [
    {
     "data": {
      "text/plain": [
       "array([  nan, 2018.])"
      ]
     },
     "execution_count": 20,
     "metadata": {},
     "output_type": "execute_result"
    }
   ],
   "source": [
    "df['year_of_capacity_data'].unique()"
   ]
  },
  {
   "cell_type": "markdown",
   "metadata": {},
   "source": [
    "the year_of_capacity_data feature has only one value so we are not able to predict the target value by this feature so I,m going to drop it"
   ]
  },
  {
   "cell_type": "code",
   "execution_count": 21,
   "metadata": {},
   "outputs": [
    {
     "data": {
      "text/plain": [
       "<matplotlib.axes._subplots.AxesSubplot at 0x1ff5ac5f8c8>"
      ]
     },
     "execution_count": 21,
     "metadata": {},
     "output_type": "execute_result"
    },
    {
     "data": {
      "image/png": "[encoded data removed]",
      "text/plain": [
       "<Figure size 360x360 with 1 Axes>"
      ]
     },
     "metadata": {
      "needs_background": "light"
     },
     "output_type": "display_data"
    }
   ],
   "source": [
    "plt.figure(figsize=(5,5))\n",
    "sns.distplot(df.generation_gwh_2013,color=\"red\",kde=True)"
   ]
  },
  {
   "cell_type": "markdown",
   "metadata": {},
   "source": [
    "the feature generation_gwh_2013 is not forming normal curve so I'm using median"
   ]
  },
  {
   "cell_type": "code",
   "execution_count": 22,
   "metadata": {},
   "outputs": [],
   "source": [
    "df_new['generation_gwh_2013'].fillna((df_new['generation_gwh_2013'].median()), inplace=True)"
   ]
  },
  {
   "cell_type": "code",
   "execution_count": 23,
   "metadata": {},
   "outputs": [
    {
     "data": {
      "text/plain": [
       "<matplotlib.axes._subplots.AxesSubplot at 0x1ff5ad1ef48>"
      ]
     },
     "execution_count": 23,
     "metadata": {},
     "output_type": "execute_result"
    },
    {
     "data": {
      "image/png": "[encoded data removed]",
      "text/plain": [
       "<Figure size 360x360 with 1 Axes>"
      ]
     },
     "metadata": {
      "needs_background": "light"
     },
     "output_type": "display_data"
    }
   ],
   "source": [
    "plt.figure(figsize=(5,5))\n",
    "sns.distplot(df.generation_gwh_2014,color=\"red\",kde=True)"
   ]
  },
  {
   "cell_type": "markdown",
   "metadata": {},
   "source": [
    "the feature generation_gwh_2014 is not forming normal curve and it has negative values so I'm using median"
   ]
  },
  {
   "cell_type": "code",
   "execution_count": 24,
   "metadata": {},
   "outputs": [],
   "source": [
    "df_new['generation_gwh_2014'].fillna((df_new['generation_gwh_2014'].median()), inplace=True)"
   ]
  },
  {
   "cell_type": "code",
   "execution_count": 25,
   "metadata": {},
   "outputs": [
    {
     "data": {
      "text/plain": [
       "<matplotlib.axes._subplots.AxesSubplot at 0x1ff5ae22148>"
      ]
     },
     "execution_count": 25,
     "metadata": {},
     "output_type": "execute_result"
    },
    {
     "data": {
      "image/png": "[encoded data removed]",
      "text/plain": [
       "<Figure size 360x360 with 1 Axes>"
      ]
     },
     "metadata": {
      "needs_background": "light"
     },
     "output_type": "display_data"
    }
   ],
   "source": [
    "plt.figure(figsize=(5,5))\n",
    "sns.distplot(df.generation_gwh_2015,color=\"red\",kde=True)"
   ]
  },
  {
   "cell_type": "markdown",
   "metadata": {},
   "source": [
    "the feature generation_gwh_2015 is not forming normal curve and it has negative values so I'm using median"
   ]
  },
  {
   "cell_type": "code",
   "execution_count": 26,
   "metadata": {},
   "outputs": [],
   "source": [
    "df_new['generation_gwh_2015'].fillna((df_new['generation_gwh_2015'].median()), inplace=True)"
   ]
  },
  {
   "cell_type": "code",
   "execution_count": 27,
   "metadata": {},
   "outputs": [
    {
     "data": {
      "text/plain": [
       "<matplotlib.axes._subplots.AxesSubplot at 0x1ff5af10208>"
      ]
     },
     "execution_count": 27,
     "metadata": {},
     "output_type": "execute_result"
    },
    {
     "data": {
      "image/png": "[encoded data removed]",
      "text/plain": [
       "<Figure size 360x360 with 1 Axes>"
      ]
     },
     "metadata": {
      "needs_background": "light"
     },
     "output_type": "display_data"
    }
   ],
   "source": [
    "plt.figure(figsize=(5,5))\n",
    "sns.distplot(df.generation_gwh_2016,color=\"red\",kde=True)"
   ]
  },
  {
   "cell_type": "markdown",
   "metadata": {},
   "source": [
    "the feature generation_gwh_2016 is not forming normal curve and it has negative values so I'm using median"
   ]
  },
  {
   "cell_type": "code",
   "execution_count": 28,
   "metadata": {},
   "outputs": [],
   "source": [
    "df_new['generation_gwh_2016'].fillna((df_new['generation_gwh_2016'].median()), inplace=True)"
   ]
  },
  {
   "cell_type": "code",
   "execution_count": 29,
   "metadata": {},
   "outputs": [
    {
     "data": {
      "text/plain": [
       "<matplotlib.axes._subplots.AxesSubplot at 0x1ff5affe048>"
      ]
     },
     "execution_count": 29,
     "metadata": {},
     "output_type": "execute_result"
    },
    {
     "data": {
      "image/png": "[encoded data removed]",
      "text/plain": [
       "<Figure size 360x360 with 1 Axes>"
      ]
     },
     "metadata": {
      "needs_background": "light"
     },
     "output_type": "display_data"
    }
   ],
   "source": [
    "plt.figure(figsize=(5,5))\n",
    "sns.distplot(df.generation_gwh_2017,color=\"red\",kde=True)"
   ]
  },
  {
   "cell_type": "markdown",
   "metadata": {},
   "source": [
    "the feature generation_gwh_2017 is not forming normal curve and it has negative values so I'm using median"
   ]
  },
  {
   "cell_type": "code",
   "execution_count": 30,
   "metadata": {},
   "outputs": [],
   "source": [
    "df_new['generation_gwh_2017'].fillna((df_new['generation_gwh_2017'].median()), inplace=True)"
   ]
  },
  {
   "cell_type": "code",
   "execution_count": 31,
   "metadata": {},
   "outputs": [
    {
     "data": {
      "text/plain": [
       "array([nan])"
      ]
     },
     "execution_count": 31,
     "metadata": {},
     "output_type": "execute_result"
    }
   ],
   "source": [
    "df['estimated_generation_gwh'].unique()"
   ]
  },
  {
   "cell_type": "markdown",
   "metadata": {},
   "source": [
    "estimated_generation_gwh has only nan values so I'm going to drop it"
   ]
  },
  {
   "cell_type": "markdown",
   "metadata": {},
   "source": [
    "Handling missing values in string data"
   ]
  },
  {
   "cell_type": "code",
   "execution_count": 32,
   "metadata": {},
   "outputs": [
    {
     "data": {
      "text/plain": [
       "array([nan, 'Oil'], dtype=object)"
      ]
     },
     "execution_count": 32,
     "metadata": {},
     "output_type": "execute_result"
    }
   ],
   "source": [
    "df['other_fuel2'].unique()"
   ]
  },
  {
   "cell_type": "markdown",
   "metadata": {},
   "source": [
    "the other fuel 2 has only one value so I'm going to drop this feature"
   ]
  },
  {
   "cell_type": "code",
   "execution_count": 33,
   "metadata": {},
   "outputs": [
    {
     "data": {
      "text/plain": [
       "country                       0\n",
       "country_long                  0\n",
       "name                          0\n",
       "gppd_idnr                     0\n",
       "capacity_mw                   0\n",
       "latitude                      0\n",
       "longitude                     0\n",
       "primary_fuel                  0\n",
       "other_fuel1                 709\n",
       "other_fuel2                 907\n",
       "other_fuel3                 908\n",
       "commissioning_year            0\n",
       "owner                       566\n",
       "source                        0\n",
       "url                           0\n",
       "geolocation_source           19\n",
       "wepp_id                     908\n",
       "year_of_capacity_data       388\n",
       "generation_gwh_2013           0\n",
       "generation_gwh_2014           0\n",
       "generation_gwh_2015           0\n",
       "generation_gwh_2016           0\n",
       "generation_gwh_2017           0\n",
       "generation_data_source      458\n",
       "estimated_generation_gwh    908\n",
       "dtype: int64"
      ]
     },
     "execution_count": 33,
     "metadata": {},
     "output_type": "execute_result"
    }
   ],
   "source": [
    "df_new.isnull().sum()"
   ]
  },
  {
   "cell_type": "code",
   "execution_count": 34,
   "metadata": {},
   "outputs": [],
   "source": [
    "data1=['other_fuel1','owner','geolocation_source','generation_data_source']"
   ]
  },
  {
   "cell_type": "code",
   "execution_count": 35,
   "metadata": {},
   "outputs": [
    {
     "data": {
      "text/html": [
       "<div>\n",
       "<style scoped>\n",
       "    .dataframe tbody tr th:only-of-type {\n",
       "        vertical-align: middle;\n",
       "    }\n",
       "\n",
       "    .dataframe tbody tr th {\n",
       "        vertical-align: top;\n",
       "    }\n",
       "\n",
       "    .dataframe thead th {\n",
       "        text-align: right;\n",
       "    }\n",
       "</style>\n",
       "<table border=\"1\" class=\"dataframe\">\n",
       "  <thead>\n",
       "    <tr style=\"text-align: right;\">\n",
       "      <th></th>\n",
       "      <th>other_fuel1</th>\n",
       "      <th>owner</th>\n",
       "      <th>geolocation_source</th>\n",
       "      <th>generation_data_source</th>\n",
       "    </tr>\n",
       "  </thead>\n",
       "  <tbody>\n",
       "    <tr>\n",
       "      <th>0</th>\n",
       "      <td>NaN</td>\n",
       "      <td>Solar Paces</td>\n",
       "      <td>National Renewable Energy Laboratory</td>\n",
       "      <td>NaN</td>\n",
       "    </tr>\n",
       "    <tr>\n",
       "      <th>1</th>\n",
       "      <td>NaN</td>\n",
       "      <td>Ultratech Cement ltd</td>\n",
       "      <td>WRI</td>\n",
       "      <td>NaN</td>\n",
       "    </tr>\n",
       "    <tr>\n",
       "      <th>2</th>\n",
       "      <td>NaN</td>\n",
       "      <td>AES</td>\n",
       "      <td>WRI</td>\n",
       "      <td>NaN</td>\n",
       "    </tr>\n",
       "    <tr>\n",
       "      <th>3</th>\n",
       "      <td>NaN</td>\n",
       "      <td>NaN</td>\n",
       "      <td>WRI</td>\n",
       "      <td>Central Electricity Authority</td>\n",
       "    </tr>\n",
       "    <tr>\n",
       "      <th>4</th>\n",
       "      <td>Oil</td>\n",
       "      <td>NaN</td>\n",
       "      <td>WRI</td>\n",
       "      <td>Central Electricity Authority</td>\n",
       "    </tr>\n",
       "    <tr>\n",
       "      <th>...</th>\n",
       "      <td>...</td>\n",
       "      <td>...</td>\n",
       "      <td>...</td>\n",
       "      <td>...</td>\n",
       "    </tr>\n",
       "    <tr>\n",
       "      <th>903</th>\n",
       "      <td>Oil</td>\n",
       "      <td>NaN</td>\n",
       "      <td>WRI</td>\n",
       "      <td>Central Electricity Authority</td>\n",
       "    </tr>\n",
       "    <tr>\n",
       "      <th>904</th>\n",
       "      <td>NaN</td>\n",
       "      <td>Karnataka Power Corporation Limited</td>\n",
       "      <td>Industry About</td>\n",
       "      <td>NaN</td>\n",
       "    </tr>\n",
       "    <tr>\n",
       "      <th>905</th>\n",
       "      <td>NaN</td>\n",
       "      <td>NaN</td>\n",
       "      <td>WRI</td>\n",
       "      <td>NaN</td>\n",
       "    </tr>\n",
       "    <tr>\n",
       "      <th>906</th>\n",
       "      <td>NaN</td>\n",
       "      <td>Hindustan Zinc ltd</td>\n",
       "      <td>WRI</td>\n",
       "      <td>NaN</td>\n",
       "    </tr>\n",
       "    <tr>\n",
       "      <th>907</th>\n",
       "      <td>NaN</td>\n",
       "      <td>iEnergy Wind Farms</td>\n",
       "      <td>WRI</td>\n",
       "      <td>NaN</td>\n",
       "    </tr>\n",
       "  </tbody>\n",
       "</table>\n",
       "<p>908 rows × 4 columns</p>\n",
       "</div>"
      ],
      "text/plain": [
       "    other_fuel1                                owner  \\\n",
       "0           NaN                          Solar Paces   \n",
       "1           NaN                 Ultratech Cement ltd   \n",
       "2           NaN                                  AES   \n",
       "3           NaN                                  NaN   \n",
       "4           Oil                                  NaN   \n",
       "..          ...                                  ...   \n",
       "903         Oil                                  NaN   \n",
       "904         NaN  Karnataka Power Corporation Limited   \n",
       "905         NaN                                  NaN   \n",
       "906         NaN                   Hindustan Zinc ltd   \n",
       "907         NaN                   iEnergy Wind Farms   \n",
       "\n",
       "                       geolocation_source         generation_data_source  \n",
       "0    National Renewable Energy Laboratory                            NaN  \n",
       "1                                     WRI                            NaN  \n",
       "2                                     WRI                            NaN  \n",
       "3                                     WRI  Central Electricity Authority  \n",
       "4                                     WRI  Central Electricity Authority  \n",
       "..                                    ...                            ...  \n",
       "903                                   WRI  Central Electricity Authority  \n",
       "904                        Industry About                            NaN  \n",
       "905                                   WRI                            NaN  \n",
       "906                                   WRI                            NaN  \n",
       "907                                   WRI                            NaN  \n",
       "\n",
       "[908 rows x 4 columns]"
      ]
     },
     "execution_count": 35,
     "metadata": {},
     "output_type": "execute_result"
    }
   ],
   "source": [
    "df[data1]"
   ]
  },
  {
   "cell_type": "code",
   "execution_count": 36,
   "metadata": {},
   "outputs": [],
   "source": [
    "for i in data1:\n",
    "    df_new[i]=df_new[i].fillna(df_new[i].mode().iloc[0])"
   ]
  },
  {
   "cell_type": "code",
   "execution_count": 37,
   "metadata": {},
   "outputs": [
    {
     "data": {
      "text/plain": [
       "country                       0\n",
       "country_long                  0\n",
       "name                          0\n",
       "gppd_idnr                     0\n",
       "capacity_mw                   0\n",
       "latitude                      0\n",
       "longitude                     0\n",
       "primary_fuel                  0\n",
       "other_fuel1                   0\n",
       "other_fuel2                 907\n",
       "other_fuel3                 908\n",
       "commissioning_year            0\n",
       "owner                         0\n",
       "source                        0\n",
       "url                           0\n",
       "geolocation_source            0\n",
       "wepp_id                     908\n",
       "year_of_capacity_data       388\n",
       "generation_gwh_2013           0\n",
       "generation_gwh_2014           0\n",
       "generation_gwh_2015           0\n",
       "generation_gwh_2016           0\n",
       "generation_gwh_2017           0\n",
       "generation_data_source        0\n",
       "estimated_generation_gwh    908\n",
       "dtype: int64"
      ]
     },
     "execution_count": 37,
     "metadata": {},
     "output_type": "execute_result"
    }
   ],
   "source": [
    "df_new.isnull().sum()"
   ]
  },
  {
   "cell_type": "markdown",
   "metadata": {},
   "source": [
    "FEATURE ENGINEERING"
   ]
  },
  {
   "cell_type": "code",
   "execution_count": 38,
   "metadata": {},
   "outputs": [],
   "source": [
    "DATA_DROP=['country','country_long','other_fuel2','other_fuel3','wepp_id','year_of_capacity_data','estimated_generation_gwh']"
   ]
  },
  {
   "cell_type": "code",
   "execution_count": 39,
   "metadata": {},
   "outputs": [],
   "source": [
    "data_mod=df_new"
   ]
  },
  {
   "cell_type": "code",
   "execution_count": 40,
   "metadata": {},
   "outputs": [],
   "source": [
    "data_mod=df_new.drop(DATA_DROP,axis=1)"
   ]
  },
  {
   "cell_type": "code",
   "execution_count": 41,
   "metadata": {},
   "outputs": [
    {
     "data": {
      "text/html": [
       "<div>\n",
       "<style scoped>\n",
       "    .dataframe tbody tr th:only-of-type {\n",
       "        vertical-align: middle;\n",
       "    }\n",
       "\n",
       "    .dataframe tbody tr th {\n",
       "        vertical-align: top;\n",
       "    }\n",
       "\n",
       "    .dataframe thead th {\n",
       "        text-align: right;\n",
       "    }\n",
       "</style>\n",
       "<table border=\"1\" class=\"dataframe\">\n",
       "  <thead>\n",
       "    <tr style=\"text-align: right;\">\n",
       "      <th></th>\n",
       "      <th>name</th>\n",
       "      <th>gppd_idnr</th>\n",
       "      <th>capacity_mw</th>\n",
       "      <th>latitude</th>\n",
       "      <th>longitude</th>\n",
       "      <th>primary_fuel</th>\n",
       "      <th>other_fuel1</th>\n",
       "      <th>commissioning_year</th>\n",
       "      <th>owner</th>\n",
       "      <th>source</th>\n",
       "      <th>url</th>\n",
       "      <th>geolocation_source</th>\n",
       "      <th>generation_gwh_2013</th>\n",
       "      <th>generation_gwh_2014</th>\n",
       "      <th>generation_gwh_2015</th>\n",
       "      <th>generation_gwh_2016</th>\n",
       "      <th>generation_gwh_2017</th>\n",
       "      <th>generation_data_source</th>\n",
       "    </tr>\n",
       "  </thead>\n",
       "  <tbody>\n",
       "    <tr>\n",
       "      <th>0</th>\n",
       "      <td>ACME Solar Tower</td>\n",
       "      <td>WRI1020239</td>\n",
       "      <td>2.5</td>\n",
       "      <td>28.1839</td>\n",
       "      <td>73.2407</td>\n",
       "      <td>Solar</td>\n",
       "      <td>Oil</td>\n",
       "      <td>2011.0</td>\n",
       "      <td>Solar Paces</td>\n",
       "      <td>National Renewable Energy Laboratory</td>\n",
       "      <td>http://www.nrel.gov/csp/solarpaces/project_det...</td>\n",
       "      <td>National Renewable Energy Laboratory</td>\n",
       "      <td>797.063475</td>\n",
       "      <td>805.760000</td>\n",
       "      <td>701.02725</td>\n",
       "      <td>716.728350</td>\n",
       "      <td>807.601700</td>\n",
       "      <td>Central Electricity Authority</td>\n",
       "    </tr>\n",
       "    <tr>\n",
       "      <th>1</th>\n",
       "      <td>ADITYA CEMENT WORKS</td>\n",
       "      <td>WRI1019881</td>\n",
       "      <td>98.0</td>\n",
       "      <td>24.7663</td>\n",
       "      <td>74.6090</td>\n",
       "      <td>Coal</td>\n",
       "      <td>Oil</td>\n",
       "      <td>2000.0</td>\n",
       "      <td>Ultratech Cement ltd</td>\n",
       "      <td>Ultratech Cement ltd</td>\n",
       "      <td>http://www.ultratechcement.com/</td>\n",
       "      <td>WRI</td>\n",
       "      <td>797.063475</td>\n",
       "      <td>805.760000</td>\n",
       "      <td>701.02725</td>\n",
       "      <td>716.728350</td>\n",
       "      <td>807.601700</td>\n",
       "      <td>Central Electricity Authority</td>\n",
       "    </tr>\n",
       "    <tr>\n",
       "      <th>2</th>\n",
       "      <td>AES Saurashtra Windfarms</td>\n",
       "      <td>WRI1026669</td>\n",
       "      <td>39.2</td>\n",
       "      <td>21.9038</td>\n",
       "      <td>69.3732</td>\n",
       "      <td>Wind</td>\n",
       "      <td>Oil</td>\n",
       "      <td>2000.0</td>\n",
       "      <td>AES</td>\n",
       "      <td>CDM</td>\n",
       "      <td>https://cdm.unfccc.int/Projects/DB/DNV-CUK1328...</td>\n",
       "      <td>WRI</td>\n",
       "      <td>797.063475</td>\n",
       "      <td>805.760000</td>\n",
       "      <td>701.02725</td>\n",
       "      <td>716.728350</td>\n",
       "      <td>807.601700</td>\n",
       "      <td>Central Electricity Authority</td>\n",
       "    </tr>\n",
       "    <tr>\n",
       "      <th>3</th>\n",
       "      <td>AGARTALA GT</td>\n",
       "      <td>IND0000001</td>\n",
       "      <td>135.0</td>\n",
       "      <td>23.8712</td>\n",
       "      <td>91.3602</td>\n",
       "      <td>Gas</td>\n",
       "      <td>Oil</td>\n",
       "      <td>2004.0</td>\n",
       "      <td>Acc Acc ltd</td>\n",
       "      <td>Central Electricity Authority</td>\n",
       "      <td>http://www.cea.nic.in/</td>\n",
       "      <td>WRI</td>\n",
       "      <td>631.777928</td>\n",
       "      <td>617.789264</td>\n",
       "      <td>843.74700</td>\n",
       "      <td>886.004428</td>\n",
       "      <td>663.774500</td>\n",
       "      <td>Central Electricity Authority</td>\n",
       "    </tr>\n",
       "    <tr>\n",
       "      <th>4</th>\n",
       "      <td>AKALTARA TPP</td>\n",
       "      <td>IND0000002</td>\n",
       "      <td>1800.0</td>\n",
       "      <td>21.9603</td>\n",
       "      <td>82.4091</td>\n",
       "      <td>Coal</td>\n",
       "      <td>Oil</td>\n",
       "      <td>2015.0</td>\n",
       "      <td>Acc Acc ltd</td>\n",
       "      <td>Central Electricity Authority</td>\n",
       "      <td>http://www.cea.nic.in/</td>\n",
       "      <td>WRI</td>\n",
       "      <td>1668.290000</td>\n",
       "      <td>3035.550000</td>\n",
       "      <td>5916.37000</td>\n",
       "      <td>6243.000000</td>\n",
       "      <td>5385.579736</td>\n",
       "      <td>Central Electricity Authority</td>\n",
       "    </tr>\n",
       "  </tbody>\n",
       "</table>\n",
       "</div>"
      ],
      "text/plain": [
       "                       name   gppd_idnr  capacity_mw  latitude  longitude  \\\n",
       "0          ACME Solar Tower  WRI1020239          2.5   28.1839    73.2407   \n",
       "1       ADITYA CEMENT WORKS  WRI1019881         98.0   24.7663    74.6090   \n",
       "2  AES Saurashtra Windfarms  WRI1026669         39.2   21.9038    69.3732   \n",
       "3               AGARTALA GT  IND0000001        135.0   23.8712    91.3602   \n",
       "4              AKALTARA TPP  IND0000002       1800.0   21.9603    82.4091   \n",
       "\n",
       "  primary_fuel other_fuel1  commissioning_year                 owner  \\\n",
       "0        Solar         Oil              2011.0           Solar Paces   \n",
       "1         Coal         Oil              2000.0  Ultratech Cement ltd   \n",
       "2         Wind         Oil              2000.0                   AES   \n",
       "3          Gas         Oil              2004.0           Acc Acc ltd   \n",
       "4         Coal         Oil              2015.0           Acc Acc ltd   \n",
       "\n",
       "                                 source  \\\n",
       "0  National Renewable Energy Laboratory   \n",
       "1                  Ultratech Cement ltd   \n",
       "2                                   CDM   \n",
       "3         Central Electricity Authority   \n",
       "4         Central Electricity Authority   \n",
       "\n",
       "                                                 url  \\\n",
       "0  http://www.nrel.gov/csp/solarpaces/project_det...   \n",
       "1                    http://www.ultratechcement.com/   \n",
       "2  https://cdm.unfccc.int/Projects/DB/DNV-CUK1328...   \n",
       "3                             http://www.cea.nic.in/   \n",
       "4                             http://www.cea.nic.in/   \n",
       "\n",
       "                     geolocation_source  generation_gwh_2013  \\\n",
       "0  National Renewable Energy Laboratory           797.063475   \n",
       "1                                   WRI           797.063475   \n",
       "2                                   WRI           797.063475   \n",
       "3                                   WRI           631.777928   \n",
       "4                                   WRI          1668.290000   \n",
       "\n",
       "   generation_gwh_2014  generation_gwh_2015  generation_gwh_2016  \\\n",
       "0           805.760000            701.02725           716.728350   \n",
       "1           805.760000            701.02725           716.728350   \n",
       "2           805.760000            701.02725           716.728350   \n",
       "3           617.789264            843.74700           886.004428   \n",
       "4          3035.550000           5916.37000          6243.000000   \n",
       "\n",
       "   generation_gwh_2017         generation_data_source  \n",
       "0           807.601700  Central Electricity Authority  \n",
       "1           807.601700  Central Electricity Authority  \n",
       "2           807.601700  Central Electricity Authority  \n",
       "3           663.774500  Central Electricity Authority  \n",
       "4          5385.579736  Central Electricity Authority  "
      ]
     },
     "execution_count": 41,
     "metadata": {},
     "output_type": "execute_result"
    }
   ],
   "source": [
    "data_mod.head(5)"
   ]
  },
  {
   "cell_type": "code",
   "execution_count": 42,
   "metadata": {},
   "outputs": [
    {
     "data": {
      "text/plain": [
       "YELHANKA (DG)                        1\n",
       "SWPPL Madhavakurichi                 1\n",
       "Bamani Solar Power Plant             1\n",
       "ROSA TPP PH - 1                      1\n",
       "Ram Tirath Jaga Solar Power Plant    1\n",
       "                                    ..\n",
       "KUNDARKI TPP                         1\n",
       "STAKNA                               1\n",
       "Gadag Wind Farm                      1\n",
       "Precious Solar Power Plant           1\n",
       "ARVINDNAGAR SUGAR                    1\n",
       "Name: name, Length: 908, dtype: int64"
      ]
     },
     "execution_count": 42,
     "metadata": {},
     "output_type": "execute_result"
    }
   ],
   "source": [
    "data_mod['name'].value_counts()"
   ]
  },
  {
   "cell_type": "code",
   "execution_count": 43,
   "metadata": {},
   "outputs": [
    {
     "data": {
      "text/plain": [
       "WRI1026204    1\n",
       "WRI1026667    1\n",
       "IND0000173    1\n",
       "WRI1019903    1\n",
       "WRI1026098    1\n",
       "             ..\n",
       "WRI1026123    1\n",
       "IND0000228    1\n",
       "WRI1019909    1\n",
       "WRI1019991    1\n",
       "IND0000499    1\n",
       "Name: gppd_idnr, Length: 908, dtype: int64"
      ]
     },
     "execution_count": 43,
     "metadata": {},
     "output_type": "execute_result"
    }
   ],
   "source": [
    "data_mod['gppd_idnr'].value_counts()"
   ]
  },
  {
   "cell_type": "code",
   "execution_count": 44,
   "metadata": {},
   "outputs": [
    {
     "data": {
      "text/plain": [
       "Coal       259\n",
       "Hydro      250\n",
       "Solar      127\n",
       "Wind       123\n",
       "Gas         69\n",
       "Biomass     50\n",
       "Oil         21\n",
       "Nuclear      9\n",
       "Name: primary_fuel, dtype: int64"
      ]
     },
     "execution_count": 44,
     "metadata": {},
     "output_type": "execute_result"
    }
   ],
   "source": [
    "data_mod['primary_fuel'].value_counts()"
   ]
  },
  {
   "cell_type": "code",
   "execution_count": 45,
   "metadata": {},
   "outputs": [
    {
     "data": {
      "text/plain": [
       "Oil             905\n",
       "Gas               2\n",
       "Cogeneration      1\n",
       "Name: other_fuel1, dtype: int64"
      ]
     },
     "execution_count": 45,
     "metadata": {},
     "output_type": "execute_result"
    }
   ],
   "source": [
    "data_mod['other_fuel1'].value_counts()"
   ]
  },
  {
   "cell_type": "code",
   "execution_count": 46,
   "metadata": {},
   "outputs": [
    {
     "data": {
      "text/plain": [
       "2000.0    396\n",
       "2013.0     28\n",
       "2015.0     26\n",
       "2012.0     23\n",
       "2016.0     21\n",
       "         ... \n",
       "1946.0      1\n",
       "1949.0      1\n",
       "1927.0      1\n",
       "1937.0      1\n",
       "1969.0      1\n",
       "Name: commissioning_year, Length: 73, dtype: int64"
      ]
     },
     "execution_count": 46,
     "metadata": {},
     "output_type": "execute_result"
    }
   ],
   "source": [
    "data_mod['commissioning_year'].value_counts()"
   ]
  },
  {
   "cell_type": "code",
   "execution_count": 47,
   "metadata": {},
   "outputs": [
    {
     "data": {
      "text/plain": [
       "Central Electricity Authority                520\n",
       "CDM                                          124\n",
       "Lancosola                                     10\n",
       "National Renewable Energy Laboratory           8\n",
       "National Thermal Power Corporation (NTPC)      6\n",
       "                                            ... \n",
       "Gmt Pvt ltd                                    1\n",
       "Jawahar Ssk ltd                                1\n",
       "Indian Power ltd                               1\n",
       "Clover Solar Private Limited (CSPL)            1\n",
       "ACME Cleantech Solutions Private Limited       1\n",
       "Name: source, Length: 191, dtype: int64"
      ]
     },
     "execution_count": 47,
     "metadata": {},
     "output_type": "execute_result"
    }
   ],
   "source": [
    "data_mod['source'].value_counts()"
   ]
  },
  {
   "cell_type": "code",
   "execution_count": 48,
   "metadata": {},
   "outputs": [
    {
     "data": {
      "text/plain": [
       "Central Electricity Authority    908\n",
       "Name: generation_data_source, dtype: int64"
      ]
     },
     "execution_count": 48,
     "metadata": {},
     "output_type": "execute_result"
    }
   ],
   "source": [
    "data_mod['generation_data_source'].value_counts()"
   ]
  },
  {
   "cell_type": "code",
   "execution_count": 49,
   "metadata": {},
   "outputs": [],
   "source": [
    "col=['name','gppd_idnr','generation_data_source']"
   ]
  },
  {
   "cell_type": "code",
   "execution_count": 50,
   "metadata": {},
   "outputs": [],
   "source": [
    "data_mod=data_mod.drop(col,axis=1)"
   ]
  },
  {
   "cell_type": "code",
   "execution_count": 51,
   "metadata": {},
   "outputs": [
    {
     "data": {
      "text/plain": [
       "(908, 15)"
      ]
     },
     "execution_count": 51,
     "metadata": {},
     "output_type": "execute_result"
    }
   ],
   "source": [
    "data_mod.shape\n"
   ]
  },
  {
   "cell_type": "markdown",
   "metadata": {},
   "source": [
    "the columns which has unique value are dropped"
   ]
  },
  {
   "cell_type": "code",
   "execution_count": 52,
   "metadata": {},
   "outputs": [
    {
     "data": {
      "text/plain": [
       "Index(['capacity_mw', 'latitude', 'longitude', 'primary_fuel', 'other_fuel1',\n",
       "       'commissioning_year', 'owner', 'source', 'url', 'geolocation_source',\n",
       "       'generation_gwh_2013', 'generation_gwh_2014', 'generation_gwh_2015',\n",
       "       'generation_gwh_2016', 'generation_gwh_2017'],\n",
       "      dtype='object')"
      ]
     },
     "execution_count": 52,
     "metadata": {},
     "output_type": "execute_result"
    }
   ],
   "source": [
    "data_mod.columns"
   ]
  },
  {
   "cell_type": "code",
   "execution_count": 53,
   "metadata": {
    "scrolled": false
   },
   "outputs": [
    {
     "data": {
      "text/plain": [
       "<Figure size 2160x2160 with 0 Axes>"
      ]
     },
     "metadata": {},
     "output_type": "display_data"
    },
    {
     "data": {
      "image/png": "[encoded data removed]",
      "text/plain": [
       "<Figure size 1440x1440 with 1 Axes>"
      ]
     },
     "metadata": {
      "needs_background": "light"
     },
     "output_type": "display_data"
    },
    {
     "data": {
      "image/png": "[encoded data removed]",
      "text/plain": [
       "<Figure size 1440x1440 with 1 Axes>"
      ]
     },
     "metadata": {
      "needs_background": "light"
     },
     "output_type": "display_data"
    },
    {
     "data": {
      "image/png": "[encoded data removed]",
      "text/plain": [
       "<Figure size 1440x1440 with 1 Axes>"
      ]
     },
     "metadata": {
      "needs_background": "light"
     },
     "output_type": "display_data"
    },
    {
     "data": {
      "image/png": "[encoded data removed]",
      "text/plain": [
       "<Figure size 1440x1440 with 1 Axes>"
      ]
     },
     "metadata": {
      "needs_background": "light"
     },
     "output_type": "display_data"
    },
    {
     "data": {
      "image/png": "[encoded data removed]",
      "text/plain": [
       "<Figure size 1440x1440 with 1 Axes>"
      ]
     },
     "metadata": {
      "needs_background": "light"
     },
     "output_type": "display_data"
    },
    {
     "data": {
      "image/png": "[encoded data removed]",
      "text/plain": [
       "<Figure size 1440x1440 with 1 Axes>"
      ]
     },
     "metadata": {
      "needs_background": "light"
     },
     "output_type": "display_data"
    },
    {
     "data": {
      "image/png": "[encoded data removed]",
      "text/plain": [
       "<Figure size 1440x1440 with 1 Axes>"
      ]
     },
     "metadata": {
      "needs_background": "light"
     },
     "output_type": "display_data"
    },
    {
     "data": {
      "image/png": "[encoded data removed]",
      "text/plain": [
       "<Figure size 1440x1440 with 1 Axes>"
      ]
     },
     "metadata": {
      "needs_background": "light"
     },
     "output_type": "display_data"
    },
    {
     "data": {
      "image/png": "[encoded data removed]",
      "text/plain": [
       "<Figure size 1440x1440 with 1 Axes>"
      ]
     },
     "metadata": {
      "needs_background": "light"
     },
     "output_type": "display_data"
    }
   ],
   "source": [
    "cols=['capacity_mw', 'latitude', 'longitude',\n",
    "       'commissioning_year','generation_gwh_2013', 'generation_gwh_2014', 'generation_gwh_2015',\n",
    "       'generation_gwh_2016', 'generation_gwh_2017']\n",
    "ncol=5\n",
    "nrows=5\n",
    "plt.figure(figsize=(30,30))\n",
    "for i in range(0,9):\n",
    "    plt.figure(figsize=(20,20))\n",
    "    plt.subplot(nrows,ncol,i+1)\n",
    "    sns.boxplot(x=cols[i],data=data_mod,palette=\"Set1\")"
   ]
  },
  {
   "cell_type": "markdown",
   "metadata": {},
   "source": [
    "Handling outliers in float data"
   ]
  },
  {
   "cell_type": "code",
   "execution_count": 54,
   "metadata": {},
   "outputs": [],
   "source": [
    "data_clean=data_mod"
   ]
  },
  {
   "cell_type": "code",
   "execution_count": 55,
   "metadata": {},
   "outputs": [
    {
     "name": "stdout",
     "output_type": "stream",
     "text": [
      "(array([ 15, 144, 210, 309, 365, 494, 495, 649, 658, 696, 722, 725, 727,\n",
      "       787, 809, 881], dtype=int64),)\n"
     ]
    }
   ],
   "source": [
    "from scipy.stats import zscore\n",
    "for i in cols:\n",
    "    z = np.abs(zscore(data_mod[i]))\n",
    "print(np.where(z > 3))"
   ]
  },
  {
   "cell_type": "code",
   "execution_count": 56,
   "metadata": {},
   "outputs": [
    {
     "data": {
      "text/plain": [
       "(892, 15)"
      ]
     },
     "execution_count": 56,
     "metadata": {},
     "output_type": "execute_result"
    }
   ],
   "source": [
    "data_clean = data_mod[(z<3)]\n",
    "data_clean.shape"
   ]
  },
  {
   "cell_type": "code",
   "execution_count": 57,
   "metadata": {},
   "outputs": [
    {
     "data": {
      "text/plain": [
       "1.762114537444934"
      ]
     },
     "execution_count": 57,
     "metadata": {},
     "output_type": "execute_result"
    }
   ],
   "source": [
    "((908-892)/908)*100"
   ]
  },
  {
   "cell_type": "markdown",
   "metadata": {},
   "source": [
    "1.76% data loss so removing outliers using zscore"
   ]
  },
  {
   "cell_type": "code",
   "execution_count": 58,
   "metadata": {},
   "outputs": [],
   "source": [
    "Q1=data_mod.quantile(0.25)\n",
    "Q3=data_mod.quantile(0.75)\n",
    "IQR=Q3-Q1\n",
    "data_clean1=data_mod[~((data_mod<(Q1-1.5*IQR))| (data_mod>(Q1+1.5*IQR))).any(axis=1)]"
   ]
  },
  {
   "cell_type": "code",
   "execution_count": 59,
   "metadata": {},
   "outputs": [
    {
     "data": {
      "text/plain": [
       "(370, 15)"
      ]
     },
     "execution_count": 59,
     "metadata": {},
     "output_type": "execute_result"
    }
   ],
   "source": [
    "data_clean1.shape"
   ]
  },
  {
   "cell_type": "markdown",
   "metadata": {},
   "source": [
    "60%data loss"
   ]
  },
  {
   "cell_type": "markdown",
   "metadata": {},
   "source": [
    "Handling_skewness"
   ]
  },
  {
   "cell_type": "code",
   "execution_count": 60,
   "metadata": {},
   "outputs": [
    {
     "name": "stdout",
     "output_type": "stream",
     "text": [
      "capacity_mw = 2.1705076772998484\n",
      "latitude = -0.15102858155345364\n",
      "longitude = -3.1728181672340097\n",
      "commissioning_year = -1.6467697184892278\n",
      "generation_gwh_2013 = 3.3772023891298475\n",
      "generation_gwh_2014 = 3.1552445441044608\n",
      "generation_gwh_2015 = 2.8679476590396322\n",
      "generation_gwh_2016 = 2.7614224831185292\n",
      "generation_gwh_2017 = 2.620822217219757\n"
     ]
    }
   ],
   "source": [
    "cols=['capacity_mw', 'latitude', 'longitude',\n",
    "       'commissioning_year','generation_gwh_2013', 'generation_gwh_2014', 'generation_gwh_2015',\n",
    "       'generation_gwh_2016', 'generation_gwh_2017']\n",
    "df_clean=data_clean\n",
    "for i in range(0,9):\n",
    "    print(cols[i],\"=\",data_clean[cols[i]].skew())"
   ]
  },
  {
   "cell_type": "code",
   "execution_count": 61,
   "metadata": {},
   "outputs": [],
   "source": [
    "from sklearn.preprocessing import power_transform\n",
    "cols=['capacity_mw', 'longitude',\n",
    "       'commissioning_year','generation_gwh_2013', 'generation_gwh_2014', 'generation_gwh_2015','generation_gwh_2016', 'generation_gwh_2017']\n",
    "df_clean[cols]=power_transform (data_clean[cols])"
   ]
  },
  {
   "cell_type": "code",
   "execution_count": 62,
   "metadata": {},
   "outputs": [
    {
     "name": "stdout",
     "output_type": "stream",
     "text": [
      "capacity_mw = 0.015940673989977668\n",
      "latitude = -0.15102858155345364\n",
      "longitude = -0.013544658855035517\n",
      "commissioning_year = -0.4246382746491607\n",
      "generation_gwh_2013 = 0.2818929032396209\n",
      "generation_gwh_2014 = 0.23752116219579597\n",
      "generation_gwh_2015 = 0.17113862184278616\n",
      "generation_gwh_2016 = 0.1521659426692903\n",
      "generation_gwh_2017 = 0.1311434195604396\n"
     ]
    }
   ],
   "source": [
    "cols=['capacity_mw', 'latitude', 'longitude',\n",
    "       'commissioning_year','generation_gwh_2013', 'generation_gwh_2014', 'generation_gwh_2015',\n",
    "       'generation_gwh_2016', 'generation_gwh_2017']\n",
    "for i in range(0,9):\n",
    "    print(cols[i],\"=\",data_clean[cols[i]].skew())"
   ]
  },
  {
   "cell_type": "markdown",
   "metadata": {},
   "source": [
    "skewness is removed using power transformation"
   ]
  },
  {
   "cell_type": "code",
   "execution_count": 63,
   "metadata": {},
   "outputs": [
    {
     "data": {
      "text/plain": [
       "(892, 15)"
      ]
     },
     "execution_count": 63,
     "metadata": {},
     "output_type": "execute_result"
    }
   ],
   "source": [
    "df_clean.shape"
   ]
  },
  {
   "cell_type": "markdown",
   "metadata": {},
   "source": [
    "After removing outliers and skewness the data loss is 1.76%"
   ]
  },
  {
   "cell_type": "code",
   "execution_count": 64,
   "metadata": {},
   "outputs": [
    {
     "data": {
      "text/plain": [
       "capacity_mw            float64\n",
       "latitude               float64\n",
       "longitude              float64\n",
       "primary_fuel            object\n",
       "other_fuel1             object\n",
       "commissioning_year     float64\n",
       "owner                   object\n",
       "source                  object\n",
       "url                     object\n",
       "geolocation_source      object\n",
       "generation_gwh_2013    float64\n",
       "generation_gwh_2014    float64\n",
       "generation_gwh_2015    float64\n",
       "generation_gwh_2016    float64\n",
       "generation_gwh_2017    float64\n",
       "dtype: object"
      ]
     },
     "execution_count": 64,
     "metadata": {},
     "output_type": "execute_result"
    }
   ],
   "source": [
    "df_clean.dtypes"
   ]
  },
  {
   "cell_type": "markdown",
   "metadata": {},
   "source": [
    "LABEL ENCODING: Encoding all categorical coloumn into numerical column using label encoding technique"
   ]
  },
  {
   "cell_type": "code",
   "execution_count": 65,
   "metadata": {},
   "outputs": [],
   "source": [
    "from sklearn import preprocessing \n",
    "data_new=df_clean\n",
    "col_encod=['primary_fuel', 'other_fuel1','owner', 'source', 'url', 'geolocation_source'] \n",
    "for col in col_encod:\n",
    "    label = preprocessing.LabelEncoder()\n",
    "    data_new[col]= label.fit_transform(df_clean[col])"
   ]
  },
  {
   "cell_type": "code",
   "execution_count": 66,
   "metadata": {},
   "outputs": [
    {
     "data": {
      "text/html": [
       "<div>\n",
       "<style scoped>\n",
       "    .dataframe tbody tr th:only-of-type {\n",
       "        vertical-align: middle;\n",
       "    }\n",
       "\n",
       "    .dataframe tbody tr th {\n",
       "        vertical-align: top;\n",
       "    }\n",
       "\n",
       "    .dataframe thead th {\n",
       "        text-align: right;\n",
       "    }\n",
       "</style>\n",
       "<table border=\"1\" class=\"dataframe\">\n",
       "  <thead>\n",
       "    <tr style=\"text-align: right;\">\n",
       "      <th></th>\n",
       "      <th>capacity_mw</th>\n",
       "      <th>latitude</th>\n",
       "      <th>longitude</th>\n",
       "      <th>primary_fuel</th>\n",
       "      <th>other_fuel1</th>\n",
       "      <th>commissioning_year</th>\n",
       "      <th>owner</th>\n",
       "      <th>source</th>\n",
       "      <th>url</th>\n",
       "      <th>geolocation_source</th>\n",
       "      <th>generation_gwh_2013</th>\n",
       "      <th>generation_gwh_2014</th>\n",
       "      <th>generation_gwh_2015</th>\n",
       "      <th>generation_gwh_2016</th>\n",
       "      <th>generation_gwh_2017</th>\n",
       "    </tr>\n",
       "  </thead>\n",
       "  <tbody>\n",
       "    <tr>\n",
       "      <th>0</th>\n",
       "      <td>-1.690094</td>\n",
       "      <td>28.1839</td>\n",
       "      <td>-0.461213</td>\n",
       "      <td>6</td>\n",
       "      <td>2</td>\n",
       "      <td>1.172896</td>\n",
       "      <td>229</td>\n",
       "      <td>109</td>\n",
       "      <td>128</td>\n",
       "      <td>1</td>\n",
       "      <td>-0.027255</td>\n",
       "      <td>-0.027818</td>\n",
       "      <td>-0.039841</td>\n",
       "      <td>-0.040556</td>\n",
       "      <td>-0.022676</td>\n",
       "    </tr>\n",
       "    <tr>\n",
       "      <th>1</th>\n",
       "      <td>0.225468</td>\n",
       "      <td>24.7663</td>\n",
       "      <td>-0.290015</td>\n",
       "      <td>1</td>\n",
       "      <td>2</td>\n",
       "      <td>0.016119</td>\n",
       "      <td>258</td>\n",
       "      <td>174</td>\n",
       "      <td>173</td>\n",
       "      <td>2</td>\n",
       "      <td>-0.027255</td>\n",
       "      <td>-0.027818</td>\n",
       "      <td>-0.039841</td>\n",
       "      <td>-0.040556</td>\n",
       "      <td>-0.022676</td>\n",
       "    </tr>\n",
       "    <tr>\n",
       "      <th>2</th>\n",
       "      <td>-0.273761</td>\n",
       "      <td>21.9038</td>\n",
       "      <td>-0.898028</td>\n",
       "      <td>7</td>\n",
       "      <td>2</td>\n",
       "      <td>0.016119</td>\n",
       "      <td>2</td>\n",
       "      <td>21</td>\n",
       "      <td>205</td>\n",
       "      <td>2</td>\n",
       "      <td>-0.027255</td>\n",
       "      <td>-0.027818</td>\n",
       "      <td>-0.039841</td>\n",
       "      <td>-0.040556</td>\n",
       "      <td>-0.022676</td>\n",
       "    </tr>\n",
       "    <tr>\n",
       "      <th>3</th>\n",
       "      <td>0.398418</td>\n",
       "      <td>23.8712</td>\n",
       "      <td>2.652554</td>\n",
       "      <td>2</td>\n",
       "      <td>2</td>\n",
       "      <td>0.403485</td>\n",
       "      <td>5</td>\n",
       "      <td>22</td>\n",
       "      <td>58</td>\n",
       "      <td>2</td>\n",
       "      <td>-0.239392</td>\n",
       "      <td>-0.255563</td>\n",
       "      <td>0.113476</td>\n",
       "      <td>0.131996</td>\n",
       "      <td>-0.175167</td>\n",
       "    </tr>\n",
       "    <tr>\n",
       "      <th>4</th>\n",
       "      <td>1.750527</td>\n",
       "      <td>21.9603</td>\n",
       "      <td>0.871374</td>\n",
       "      <td>1</td>\n",
       "      <td>2</td>\n",
       "      <td>1.671044</td>\n",
       "      <td>5</td>\n",
       "      <td>22</td>\n",
       "      <td>58</td>\n",
       "      <td>2</td>\n",
       "      <td>0.745658</td>\n",
       "      <td>1.409318</td>\n",
       "      <td>2.260512</td>\n",
       "      <td>2.250551</td>\n",
       "      <td>1.961041</td>\n",
       "    </tr>\n",
       "  </tbody>\n",
       "</table>\n",
       "</div>"
      ],
      "text/plain": [
       "   capacity_mw  latitude  longitude  primary_fuel  other_fuel1  \\\n",
       "0    -1.690094   28.1839  -0.461213             6            2   \n",
       "1     0.225468   24.7663  -0.290015             1            2   \n",
       "2    -0.273761   21.9038  -0.898028             7            2   \n",
       "3     0.398418   23.8712   2.652554             2            2   \n",
       "4     1.750527   21.9603   0.871374             1            2   \n",
       "\n",
       "   commissioning_year  owner  source  url  geolocation_source  \\\n",
       "0            1.172896    229     109  128                   1   \n",
       "1            0.016119    258     174  173                   2   \n",
       "2            0.016119      2      21  205                   2   \n",
       "3            0.403485      5      22   58                   2   \n",
       "4            1.671044      5      22   58                   2   \n",
       "\n",
       "   generation_gwh_2013  generation_gwh_2014  generation_gwh_2015  \\\n",
       "0            -0.027255            -0.027818            -0.039841   \n",
       "1            -0.027255            -0.027818            -0.039841   \n",
       "2            -0.027255            -0.027818            -0.039841   \n",
       "3            -0.239392            -0.255563             0.113476   \n",
       "4             0.745658             1.409318             2.260512   \n",
       "\n",
       "   generation_gwh_2016  generation_gwh_2017  \n",
       "0            -0.040556            -0.022676  \n",
       "1            -0.040556            -0.022676  \n",
       "2            -0.040556            -0.022676  \n",
       "3             0.131996            -0.175167  \n",
       "4             2.250551             1.961041  "
      ]
     },
     "execution_count": 66,
     "metadata": {},
     "output_type": "execute_result"
    }
   ],
   "source": [
    "data_new.head(5)"
   ]
  },
  {
   "cell_type": "code",
   "execution_count": 67,
   "metadata": {},
   "outputs": [
    {
     "data": {
      "text/plain": [
       "<matplotlib.axes._subplots.AxesSubplot at 0x1ff5b4eb588>"
      ]
     },
     "execution_count": 67,
     "metadata": {},
     "output_type": "execute_result"
    },
    {
     "data": {
      "image/png": "[encoded data removed]",
      "text/plain": [
       "<Figure size 720x432 with 2 Axes>"
      ]
     },
     "metadata": {
      "needs_background": "light"
     },
     "output_type": "display_data"
    }
   ],
   "source": [
    "correlation=data_new.corr(method='pearson')\n",
    "plt.figure(figsize=(10,6))\n",
    "sns.heatmap(correlation,annot=True)"
   ]
  },
  {
   "cell_type": "markdown",
   "metadata": {},
   "source": [
    "the target column primary fuel is highly correlated with url"
   ]
  },
  {
   "cell_type": "markdown",
   "metadata": {},
   "source": [
    "MODELLING"
   ]
  },
  {
   "cell_type": "code",
   "execution_count": 68,
   "metadata": {},
   "outputs": [],
   "source": [
    "x1=data_new.drop('primary_fuel',axis=1)\n",
    "y1=data_new['primary_fuel']"
   ]
  },
  {
   "cell_type": "markdown",
   "metadata": {},
   "source": [
    "Handling class imbalance"
   ]
  },
  {
   "cell_type": "code",
   "execution_count": 69,
   "metadata": {},
   "outputs": [],
   "source": [
    "from imblearn.over_sampling import SMOTE\n",
    "os=SMOTE()"
   ]
  },
  {
   "cell_type": "code",
   "execution_count": 70,
   "metadata": {},
   "outputs": [],
   "source": [
    "x1,y1=os.fit_resample(x1,y1)"
   ]
  },
  {
   "cell_type": "code",
   "execution_count": 71,
   "metadata": {},
   "outputs": [
    {
     "data": {
      "text/plain": [
       "<matplotlib.axes._subplots.AxesSubplot at 0x1ff5cd51688>"
      ]
     },
     "execution_count": 71,
     "metadata": {},
     "output_type": "execute_result"
    },
    {
     "data": {
      "image/png": "[encoded data removed]",
      "text/plain": [
       "<Figure size 432x288 with 1 Axes>"
      ]
     },
     "metadata": {
      "needs_background": "light"
     },
     "output_type": "display_data"
    }
   ],
   "source": [
    "sns.countplot(y1,palette=\"Set1\")"
   ]
  },
  {
   "cell_type": "markdown",
   "metadata": {},
   "source": [
    "feature scaling transforming un scaled data into scaled data using min max scalining technique"
   ]
  },
  {
   "cell_type": "code",
   "execution_count": 72,
   "metadata": {},
   "outputs": [],
   "source": [
    "from sklearn.preprocessing import MinMaxScaler\n",
    "scaler=MinMaxScaler()\n",
    "scaled = scaler.fit_transform(x1)"
   ]
  },
  {
   "cell_type": "code",
   "execution_count": 73,
   "metadata": {},
   "outputs": [],
   "source": [
    "from sklearn.metrics import classification_report, confusion_matrix, accuracy_score\n",
    "from sklearn.linear_model import LogisticRegression\n",
    "from sklearn .ensemble import RandomForestClassifier\n",
    "from sklearn.model_selection import train_test_split\n",
    "from sklearn.neighbors import KNeighborsClassifier\n",
    "from sklearn.metrics import roc_curve\n",
    "from sklearn.metrics import roc_auc_score\n",
    "from sklearn.model_selection import cross_val_score\n",
    "from matplotlib import pyplot\n",
    "from sklearn.svm import SVC\n",
    "from sklearn.ensemble import GradientBoostingClassifier\n",
    "from sklearn.tree import DecisionTreeClassifier"
   ]
  },
  {
   "cell_type": "code",
   "execution_count": 74,
   "metadata": {},
   "outputs": [],
   "source": [
    "x=scaled\n",
    "y=y1"
   ]
  },
  {
   "cell_type": "code",
   "execution_count": 75,
   "metadata": {},
   "outputs": [],
   "source": [
    "xtrain,xtest,ytrain,ytest=train_test_split(x,y,test_size=0.25,random_state=1)\n",
    "\n",
    "models=[RandomForestClassifier(),KNeighborsClassifier(),GradientBoostingClassifier(),DecisionTreeClassifier()]\n",
    "scorelist=[]\n",
    "acclist=[]"
   ]
  },
  {
   "cell_type": "code",
   "execution_count": 76,
   "metadata": {
    "scrolled": false
   },
   "outputs": [
    {
     "name": "stdout",
     "output_type": "stream",
     "text": [
      "RandomForestClassifier() \n",
      "\n",
      "Accuracy score: 0.928 \n",
      "\n",
      "\"Confusion Matrix:\n",
      "\" [[71  1  0  0  0  0  0  0]\n",
      " [ 1 46  5  5  3  1  0  0]\n",
      " [ 0  3 51  3  0  3  0  0]\n",
      " [ 0  3  3 57  2  1  0  0]\n",
      " [ 0  0  0  0 56  0  0  0]\n",
      " [ 0  1  0  1  0 64  0  0]\n",
      " [ 0  0  0  0  0  0 60  0]\n",
      " [ 0  0  0  0  0  0  0 59]]\n",
      "classification_report\n",
      "               precision    recall  f1-score   support\n",
      "\n",
      "           0       0.99      0.99      0.99        72\n",
      "           1       0.85      0.75      0.80        61\n",
      "           2       0.86      0.85      0.86        60\n",
      "           3       0.86      0.86      0.86        66\n",
      "           4       0.92      1.00      0.96        56\n",
      "           5       0.93      0.97      0.95        66\n",
      "           6       1.00      1.00      1.00        60\n",
      "           7       1.00      1.00      1.00        59\n",
      "\n",
      "    accuracy                           0.93       500\n",
      "   macro avg       0.93      0.93      0.93       500\n",
      "weighted avg       0.93      0.93      0.93       500\n",
      "\n",
      "Average accuracy_score 0.928\n",
      "---------------------------------------------------------------------------------------------------------\n",
      "KNeighborsClassifier() \n",
      "\n",
      "Accuracy score: 0.884 \n",
      "\n",
      "\"Confusion Matrix:\n",
      "\" [[72  0  0  0  0  0  0  0]\n",
      " [ 2 31  9  3 14  1  0  1]\n",
      " [ 2  1 52  1  1  2  0  1]\n",
      " [ 1  3  7 53  1  1  0  0]\n",
      " [ 0  1  0  0 55  0  0  0]\n",
      " [ 2  0  2  0  0 61  0  1]\n",
      " [ 0  0  0  0  0  1 59  0]\n",
      " [ 0  0  0  0  0  0  0 59]]\n",
      "classification_report\n",
      "               precision    recall  f1-score   support\n",
      "\n",
      "           0       0.91      1.00      0.95        72\n",
      "           1       0.86      0.51      0.64        61\n",
      "           2       0.74      0.87      0.80        60\n",
      "           3       0.93      0.80      0.86        66\n",
      "           4       0.77      0.98      0.87        56\n",
      "           5       0.92      0.92      0.92        66\n",
      "           6       1.00      0.98      0.99        60\n",
      "           7       0.95      1.00      0.98        59\n",
      "\n",
      "    accuracy                           0.88       500\n",
      "   macro avg       0.89      0.88      0.88       500\n",
      "weighted avg       0.89      0.88      0.88       500\n",
      "\n",
      "Average accuracy_score 0.884\n",
      "---------------------------------------------------------------------------------------------------------\n",
      "GradientBoostingClassifier() \n",
      "\n",
      "Accuracy score: 0.922 \n",
      "\n",
      "\"Confusion Matrix:\n",
      "\" [[69  3  0  0  0  0  0  0]\n",
      " [ 1 48  4  5  2  1  0  0]\n",
      " [ 1  4 50  2  0  3  0  0]\n",
      " [ 0  3  5 57  0  1  0  0]\n",
      " [ 0  0  0  0 56  0  0  0]\n",
      " [ 0  1  2  1  0 62  0  0]\n",
      " [ 0  0  0  0  0  0 60  0]\n",
      " [ 0  0  0  0  0  0  0 59]]\n",
      "classification_report\n",
      "               precision    recall  f1-score   support\n",
      "\n",
      "           0       0.97      0.96      0.97        72\n",
      "           1       0.81      0.79      0.80        61\n",
      "           2       0.82      0.83      0.83        60\n",
      "           3       0.88      0.86      0.87        66\n",
      "           4       0.97      1.00      0.98        56\n",
      "           5       0.93      0.94      0.93        66\n",
      "           6       1.00      1.00      1.00        60\n",
      "           7       1.00      1.00      1.00        59\n",
      "\n",
      "    accuracy                           0.92       500\n",
      "   macro avg       0.92      0.92      0.92       500\n",
      "weighted avg       0.92      0.92      0.92       500\n",
      "\n",
      "Average accuracy_score 0.922\n",
      "---------------------------------------------------------------------------------------------------------\n",
      "DecisionTreeClassifier() \n",
      "\n",
      "Accuracy score: 0.914 \n",
      "\n",
      "\"Confusion Matrix:\n",
      "\" [[67  3  2  0  0  0  0  0]\n",
      " [ 2 44  3  7  3  2  0  0]\n",
      " [ 0  2 53  1  0  4  0  0]\n",
      " [ 0  3  4 58  0  1  0  0]\n",
      " [ 0  0  0  2 54  0  0  0]\n",
      " [ 1  1  2  0  0 62  0  0]\n",
      " [ 0  0  0  0  0  0 60  0]\n",
      " [ 0  0  0  0  0  0  0 59]]\n",
      "classification_report\n",
      "               precision    recall  f1-score   support\n",
      "\n",
      "           0       0.96      0.93      0.94        72\n",
      "           1       0.83      0.72      0.77        61\n",
      "           2       0.83      0.88      0.85        60\n",
      "           3       0.85      0.88      0.87        66\n",
      "           4       0.95      0.96      0.96        56\n",
      "           5       0.90      0.94      0.92        66\n",
      "           6       1.00      1.00      1.00        60\n",
      "           7       1.00      1.00      1.00        59\n",
      "\n",
      "    accuracy                           0.91       500\n",
      "   macro avg       0.91      0.91      0.91       500\n",
      "weighted avg       0.91      0.91      0.91       500\n",
      "\n",
      "Average accuracy_score 0.914\n",
      "---------------------------------------------------------------------------------------------------------\n",
      "Maximun accuracy Score is shown by RandomForestClassifier() 0.928\n"
     ]
    }
   ],
   "source": [
    "def create_model(model):\n",
    "    m=model\n",
    "    m.fit(xtrain,ytrain)\n",
    "    p=m.predict(xtest)\n",
    "    score=m.score(xtest,ytest)\n",
    "    result = confusion_matrix(ytest,p)\n",
    "    result1 = classification_report(ytest,p)\n",
    "    result2 = accuracy_score(ytest,p)\n",
    "    scorelist.append(score)\n",
    "    acclist.append(result2)\n",
    "    \n",
    "    \n",
    "    print(m,\"\\n\")\n",
    "    \n",
    "    print('Accuracy score:',score,\"\\n\")\n",
    "    print('\"Confusion Matrix:\\n\"',result)\n",
    "    print('classification_report\\n',result1)\n",
    "    print('Average accuracy_score',result2)\n",
    "    print('---------------------------------------------------------------------------------------------------------')\n",
    "for i in models:\n",
    "    create_model(i)\n",
    "\n",
    "print('Maximun accuracy Score is shown by',models[acclist.index(max(acclist))],max(acclist))"
   ]
  },
  {
   "cell_type": "markdown",
   "metadata": {},
   "source": [
    "CROSS VALIDATION"
   ]
  },
  {
   "cell_type": "code",
   "execution_count": 77,
   "metadata": {},
   "outputs": [],
   "source": [
    "scorel=[]"
   ]
  },
  {
   "cell_type": "code",
   "execution_count": 78,
   "metadata": {},
   "outputs": [
    {
     "data": {
      "text/plain": [
       "array([0.9175, 0.9025, 0.935 , 0.9225, 0.93  ])"
      ]
     },
     "execution_count": 78,
     "metadata": {},
     "output_type": "execute_result"
    }
   ],
   "source": [
    "rf=RandomForestClassifier()\n",
    "scores=cross_val_score(rf,x,y,cv=5)\n",
    "scorel.append(scores)\n",
    "scores"
   ]
  },
  {
   "cell_type": "code",
   "execution_count": 79,
   "metadata": {},
   "outputs": [
    {
     "data": {
      "text/plain": [
       "array([0.8825, 0.865 , 0.87  , 0.89  , 0.8825])"
      ]
     },
     "execution_count": 79,
     "metadata": {},
     "output_type": "execute_result"
    }
   ],
   "source": [
    "kn=KNeighborsClassifier()\n",
    "scores=cross_val_score(kn,x,y,cv=5)\n",
    "scorel.append(scores)\n",
    "scores"
   ]
  },
  {
   "cell_type": "code",
   "execution_count": 80,
   "metadata": {},
   "outputs": [
    {
     "data": {
      "text/plain": [
       "array([0.8775, 0.9125, 0.935 , 0.915 , 0.9325])"
      ]
     },
     "execution_count": 80,
     "metadata": {},
     "output_type": "execute_result"
    }
   ],
   "source": [
    "gb=GradientBoostingClassifier()\n",
    "scores=cross_val_score(gb,x,y,cv=5)\n",
    "scorel.append(scores)\n",
    "scores"
   ]
  },
  {
   "cell_type": "code",
   "execution_count": 81,
   "metadata": {},
   "outputs": [
    {
     "data": {
      "text/plain": [
       "array([0.87  , 0.875 , 0.8925, 0.9025, 0.9075])"
      ]
     },
     "execution_count": 81,
     "metadata": {},
     "output_type": "execute_result"
    }
   ],
   "source": [
    "dt=DecisionTreeClassifier()\n",
    "scores=cross_val_score(dt,x,y,cv=5)\n",
    "scorel.append(scores)\n",
    "scores"
   ]
  },
  {
   "cell_type": "markdown",
   "metadata": {},
   "source": [
    "Difference of predicted model and crossvalidation score"
   ]
  },
  {
   "cell_type": "code",
   "execution_count": 82,
   "metadata": {},
   "outputs": [
    {
     "name": "stdout",
     "output_type": "stream",
     "text": [
      "RandomForestClassifier() difference is [-0.0105 -0.0255  0.007  -0.0055  0.002 ]\n",
      "KNeighborsClassifier() difference is [-0.0015 -0.019  -0.014   0.006  -0.0015]\n",
      "GradientBoostingClassifier() difference is [-0.0445 -0.0095  0.013  -0.007   0.0105]\n",
      "DecisionTreeClassifier() difference is [-0.044  -0.039  -0.0215 -0.0115 -0.0065]\n"
     ]
    }
   ],
   "source": [
    "models=[RandomForestClassifier(),KNeighborsClassifier(),GradientBoostingClassifier(),DecisionTreeClassifier()]\n",
    "for i in range(0,4):\n",
    "    print(models[i],\"difference is\",scorel[i]-acclist[i])"
   ]
  },
  {
   "cell_type": "markdown",
   "metadata": {},
   "source": [
    "RandomforestClassifier() has the least difference"
   ]
  },
  {
   "cell_type": "code",
   "execution_count": 83,
   "metadata": {},
   "outputs": [],
   "source": [
    "x=scaled\n",
    "y=y1\n",
    "xtrain,xtest,ytrain,ytest=train_test_split(x,y,test_size=0.25,random_state=7)"
   ]
  },
  {
   "cell_type": "code",
   "execution_count": 84,
   "metadata": {},
   "outputs": [
    {
     "name": "stdout",
     "output_type": "stream",
     "text": [
      "Fitting 5 folds for each of 72 candidates, totalling 360 fits\n",
      "Best param: {'bootstrap': True, 'max_depth': 45, 'max_features': 'log2', 'min_samples_split': 5, 'n_estimators': 100}\n"
     ]
    }
   ],
   "source": [
    "from sklearn.model_selection import GridSearchCV,KFold\n",
    "params = {\n",
    "    'max_features': ['auto', 'sqrt','log2'],\n",
    "    'n_estimators': [10, 100, 200, 500],\n",
    "    'bootstrap':[True],\n",
    "    'max_depth': [1, 23, 45],\n",
    " 'min_samples_split': [5, 10],\n",
    "}\n",
    "\n",
    "gs2 = GridSearchCV(RandomForestClassifier(), params, verbose = 1)\n",
    "gs2.fit(xtrain, ytrain)\n",
    "print('Best param:', gs2.best_params_)"
   ]
  },
  {
   "cell_type": "code",
   "execution_count": 85,
   "metadata": {},
   "outputs": [],
   "source": [
    "x=scaled\n",
    "y=y1"
   ]
  },
  {
   "cell_type": "code",
   "execution_count": 86,
   "metadata": {},
   "outputs": [
    {
     "data": {
      "text/plain": [
       "0.906"
      ]
     },
     "execution_count": 86,
     "metadata": {},
     "output_type": "execute_result"
    }
   ],
   "source": [
    "x_train, x_test, y_train, y_test = train_test_split(x, y,test_size=.25,random_state=7)\n",
    "model =RandomForestClassifier(bootstrap=True,max_depth=45,max_features='auto',min_samples_split=5,n_estimators=500)\n",
    "model.fit(x_train,y_train)\n",
    "model.score(x_test,y_test)"
   ]
  },
  {
   "cell_type": "code",
   "execution_count": 87,
   "metadata": {},
   "outputs": [],
   "source": [
    "y_pred_1 = model.predict(x_test)"
   ]
  },
  {
   "cell_type": "code",
   "execution_count": 88,
   "metadata": {},
   "outputs": [
    {
     "name": "stdout",
     "output_type": "stream",
     "text": [
      "Confusion Matrix:\n",
      "[[66  0  0  0  0  0  0  0]\n",
      " [ 7 37 11  3  6  1  0  0]\n",
      " [ 4  2 45  3  1  1  0  0]\n",
      " [ 0  1  3 56  0  2  0  0]\n",
      " [ 0  0  0  0 65  0  0  0]\n",
      " [ 0  1  1  0  0 54  0  0]\n",
      " [ 0  0  0  0  0  0 73  0]\n",
      " [ 0  0  0  0  0  0  0 57]]\n",
      "Classification Report:\n",
      "              precision    recall  f1-score   support\n",
      "\n",
      "           0       0.86      1.00      0.92        66\n",
      "           1       0.90      0.57      0.70        65\n",
      "           2       0.75      0.80      0.78        56\n",
      "           3       0.90      0.90      0.90        62\n",
      "           4       0.90      1.00      0.95        65\n",
      "           5       0.93      0.96      0.95        56\n",
      "           6       1.00      1.00      1.00        73\n",
      "           7       1.00      1.00      1.00        57\n",
      "\n",
      "    accuracy                           0.91       500\n",
      "   macro avg       0.91      0.91      0.90       500\n",
      "weighted avg       0.91      0.91      0.90       500\n",
      "\n",
      "Accuracy: 0.906\n"
     ]
    }
   ],
   "source": [
    "result = confusion_matrix(y_test, y_pred_1)\n",
    "print(\"Confusion Matrix:\")\n",
    "print(result)\n",
    "result1 = classification_report(y_test, y_pred_1)\n",
    "print(\"Classification Report:\",)\n",
    "print (result1)\n",
    "result2 = accuracy_score(y_test,y_pred_1)\n",
    "print(\"Accuracy:\",result2)"
   ]
  },
  {
   "cell_type": "markdown",
   "metadata": {},
   "source": [
    "After hyper tuning\n",
    "the accuracy for predicting primary fuel is  90.6% "
   ]
  },
  {
   "cell_type": "markdown",
   "metadata": {},
   "source": [
    "# Accuracy 90.6%"
   ]
  },
  {
   "cell_type": "markdown",
   "metadata": {},
   "source": [
    "target column is capacity_mw"
   ]
  },
  {
   "cell_type": "code",
   "execution_count": 89,
   "metadata": {},
   "outputs": [],
   "source": [
    "x2=data_new.drop('capacity_mw',axis=1)\n",
    "y2=data_new['capacity_mw']"
   ]
  },
  {
   "cell_type": "code",
   "execution_count": 90,
   "metadata": {},
   "outputs": [],
   "source": [
    "from sklearn.preprocessing import MinMaxScaler\n",
    "scaler=MinMaxScaler()\n",
    "scaled1 = scaler.fit_transform(x2)"
   ]
  },
  {
   "cell_type": "code",
   "execution_count": 91,
   "metadata": {},
   "outputs": [],
   "source": [
    "from sklearn.neighbors import KNeighborsRegressor\n",
    "from sklearn.svm import SVR\n",
    "from sklearn.tree import DecisionTreeRegressor\n",
    "from sklearn.linear_model import LinearRegression\n",
    "from sklearn.linear_model import Lasso\n",
    "from sklearn.ensemble import RandomForestRegressor\n",
    "from sklearn.ensemble import GradientBoostingRegressor\n",
    "from sklearn.model_selection import train_test_split"
   ]
  },
  {
   "cell_type": "code",
   "execution_count": 92,
   "metadata": {},
   "outputs": [],
   "source": [
    "x=scaled1\n",
    "y=y2"
   ]
  },
  {
   "cell_type": "code",
   "execution_count": 93,
   "metadata": {},
   "outputs": [],
   "source": [
    "xtrain,xtest,ytrain,ytest=train_test_split(x,y,test_size=0.25,random_state=7)\n",
    "from sklearn.metrics import mean_absolute_error,mean_squared_error,r2_score\n",
    "models=[KNeighborsRegressor(),SVR(),DecisionTreeRegressor(),LinearRegression(),Lasso(),\n",
    "        RandomForestRegressor(),GradientBoostingRegressor()]\n",
    "maelist=[]\n",
    "mselist=[]\n",
    "rmselist=[]\n",
    "r2list=[]"
   ]
  },
  {
   "cell_type": "code",
   "execution_count": 94,
   "metadata": {},
   "outputs": [
    {
     "name": "stdout",
     "output_type": "stream",
     "text": [
      "KNeighborsRegressor()\n",
      "Mean absolute error 0.38995945392256715\n",
      "Mean squared error 0.29028951880782206\n",
      "Root Mean squared error 0.5387852251201977\n",
      "R2 Score 0.6949945053636902\n",
      "---------------------------------------------------------------------------------------------------------\n",
      "SVR()\n",
      "Mean absolute error 0.4343299211234574\n",
      "Mean squared error 0.35131249053334196\n",
      "Root Mean squared error 0.5927161972928882\n",
      "R2 Score 0.6308780269191429\n",
      "---------------------------------------------------------------------------------------------------------\n",
      "DecisionTreeRegressor()\n",
      "Mean absolute error 0.37716664569114566\n",
      "Mean squared error 0.30062552183400654\n",
      "Root Mean squared error 0.5482932808579789\n",
      "R2 Score 0.6841345276128199\n",
      "---------------------------------------------------------------------------------------------------------\n",
      "LinearRegression()\n",
      "Mean absolute error 0.5665328134076502\n",
      "Mean squared error 0.5251562832380989\n",
      "Root Mean squared error 0.7246766749648418\n",
      "R2 Score 0.44822137365406556\n",
      "---------------------------------------------------------------------------------------------------------\n",
      "Lasso()\n",
      "Mean absolute error 0.8217287995476588\n",
      "Mean squared error 0.9519417404124484\n",
      "Root Mean squared error 0.975675017827375\n",
      "R2 Score -0.00019960276852004633\n",
      "---------------------------------------------------------------------------------------------------------\n",
      "RandomForestRegressor()\n",
      "Mean absolute error 0.3001593881714042\n",
      "Mean squared error 0.1853665920501512\n",
      "Root Mean squared error 0.430542207048451\n",
      "R2 Score 0.8052364090529472\n",
      "---------------------------------------------------------------------------------------------------------\n",
      "GradientBoostingRegressor()\n",
      "Mean absolute error 0.3246295615398372\n",
      "Mean squared error 0.20192419171300655\n",
      "Root Mean squared error 0.4493597575584696\n",
      "R2 Score 0.7878394362104573\n",
      "---------------------------------------------------------------------------------------------------------\n",
      "Minimum Mean Absolute error is shown by  RandomForestRegressor() 0.3001593881714042\n",
      "Minimum Mean squared error is shown by  RandomForestRegressor() 0.1853665920501512\n",
      "Minimum Root Mean squared error is shown by  RandomForestRegressor() 0.430542207048451\n",
      "Maximun R2 Score is shown by  RandomForestRegressor() 0.8052364090529472\n"
     ]
    }
   ],
   "source": [
    "def create_model(model):\n",
    "    m=model\n",
    "    m.fit(xtrain,ytrain)\n",
    "    p=m.predict(xtest)\n",
    "    \n",
    "    mae=mean_absolute_error(p,ytest)\n",
    "    mse=mean_squared_error(p,ytest)\n",
    "    rmse=np.sqrt(mean_squared_error(p,ytest))\n",
    "    r2=r2_score(ytest,p)\n",
    "    \n",
    "    maelist.append(mae)\n",
    "    mselist.append(mse)\n",
    "    rmselist.append(rmse)\n",
    "    r2list.append(r2)\n",
    "    \n",
    "    print(m)\n",
    "    \n",
    "    print('Mean absolute error',mae)\n",
    "    print('Mean squared error',mse)\n",
    "    print('Root Mean squared error',rmse)\n",
    "    print('R2 Score',r2)\n",
    "    print('---------------------------------------------------------------------------------------------------------')\n",
    "for i in models:\n",
    "    create_model(i)\n",
    "print('Minimum Mean Absolute error is shown by ',models[maelist.index(min(maelist))],min(maelist))\n",
    "print('Minimum Mean squared error is shown by ',models[mselist.index(min(mselist))],min(mselist))\n",
    "print('Minimum Root Mean squared error is shown by ',models[rmselist.index(min(rmselist))],min(rmselist))\n",
    "print('Maximun R2 Score is shown by ',models[r2list.index(max(r2list))],max(r2list))"
   ]
  },
  {
   "cell_type": "markdown",
   "metadata": {},
   "source": [
    "Cross Validation"
   ]
  },
  {
   "cell_type": "code",
   "execution_count": 95,
   "metadata": {},
   "outputs": [],
   "source": [
    "scorel=[]"
   ]
  },
  {
   "cell_type": "code",
   "execution_count": 96,
   "metadata": {},
   "outputs": [],
   "source": [
    "from sklearn.utils import shuffle\n",
    "x=scaled1\n",
    "y=y2"
   ]
  },
  {
   "cell_type": "code",
   "execution_count": 97,
   "metadata": {},
   "outputs": [
    {
     "data": {
      "text/plain": [
       "array([0.66135719, 0.64956796, 0.69099719, 0.68427117, 0.65202364])"
      ]
     },
     "execution_count": 97,
     "metadata": {},
     "output_type": "execute_result"
    }
   ],
   "source": [
    "from sklearn.model_selection import cross_val_score\n",
    "k=KNeighborsRegressor()\n",
    "scores=cross_val_score(k,x,y,scoring='r2',cv=5)\n",
    "scorel.append(scores)\n",
    "scores"
   ]
  },
  {
   "cell_type": "code",
   "execution_count": 98,
   "metadata": {},
   "outputs": [
    {
     "data": {
      "text/plain": [
       "array([0.67074297, 0.67828949, 0.69101084, 0.69941474, 0.59641296])"
      ]
     },
     "execution_count": 98,
     "metadata": {},
     "output_type": "execute_result"
    }
   ],
   "source": [
    "from sklearn.model_selection import cross_val_score\n",
    "svr=SVR()\n",
    "scores=cross_val_score(svr,x,y,scoring='r2',cv=5)\n",
    "scorel.append(scores)\n",
    "scores"
   ]
  },
  {
   "cell_type": "code",
   "execution_count": 99,
   "metadata": {},
   "outputs": [
    {
     "data": {
      "text/plain": [
       "array([0.59477777, 0.62377772, 0.59758669, 0.69006357, 0.66863429])"
      ]
     },
     "execution_count": 99,
     "metadata": {},
     "output_type": "execute_result"
    }
   ],
   "source": [
    "from sklearn.model_selection import cross_val_score\n",
    "dt=DecisionTreeRegressor()\n",
    "scores=cross_val_score(dt,x,y,scoring='r2',cv=5)\n",
    "scorel.append(scores)\n",
    "scores"
   ]
  },
  {
   "cell_type": "code",
   "execution_count": 100,
   "metadata": {},
   "outputs": [
    {
     "data": {
      "text/plain": [
       "array([0.54343294, 0.5704136 , 0.55191167, 0.53081194, 0.54252537])"
      ]
     },
     "execution_count": 100,
     "metadata": {},
     "output_type": "execute_result"
    }
   ],
   "source": [
    "from sklearn.model_selection import cross_val_score\n",
    "lr=LinearRegression()\n",
    "scores=cross_val_score(lr,x,y,scoring='r2',cv=5)\n",
    "scorel.append(scores)\n",
    "scores"
   ]
  },
  {
   "cell_type": "code",
   "execution_count": 101,
   "metadata": {},
   "outputs": [
    {
     "data": {
      "text/plain": [
       "array([-8.08546647e-07, -1.56747415e-04, -3.88947378e-04, -1.39131366e-02,\n",
       "       -1.03272258e-02])"
      ]
     },
     "execution_count": 101,
     "metadata": {},
     "output_type": "execute_result"
    }
   ],
   "source": [
    "from sklearn.model_selection import cross_val_score\n",
    "l=Lasso()\n",
    "scores=cross_val_score(l,x,y,scoring='r2',cv=5)\n",
    "scorel.append(scores)\n",
    "scores"
   ]
  },
  {
   "cell_type": "code",
   "execution_count": 102,
   "metadata": {},
   "outputs": [
    {
     "data": {
      "text/plain": [
       "array([0.75360232, 0.7744713 , 0.76956542, 0.82838784, 0.80245336])"
      ]
     },
     "execution_count": 102,
     "metadata": {},
     "output_type": "execute_result"
    }
   ],
   "source": [
    "from sklearn.model_selection import cross_val_score\n",
    "rf=RandomForestRegressor()\n",
    "scores=cross_val_score(rf,x,y,scoring='r2',cv=5)\n",
    "scorel.append(scores)\n",
    "scores"
   ]
  },
  {
   "cell_type": "code",
   "execution_count": 103,
   "metadata": {},
   "outputs": [
    {
     "data": {
      "text/plain": [
       "array([0.77071329, 0.78302747, 0.78998195, 0.82554543, 0.79780836])"
      ]
     },
     "execution_count": 103,
     "metadata": {},
     "output_type": "execute_result"
    }
   ],
   "source": [
    "from sklearn.model_selection import cross_val_score\n",
    "gb=GradientBoostingRegressor()\n",
    "scores=cross_val_score(gb,x,y,scoring='r2',cv=5)\n",
    "scorel.append(scores)\n",
    "scores"
   ]
  },
  {
   "cell_type": "markdown",
   "metadata": {},
   "source": [
    "Difference of predicted model and crossvalidation score"
   ]
  },
  {
   "cell_type": "code",
   "execution_count": 104,
   "metadata": {},
   "outputs": [
    {
     "name": "stdout",
     "output_type": "stream",
     "text": [
      "KNeighborsRegressor() difference is [-0.03363731 -0.04542655 -0.00399732 -0.01072333 -0.04297087]\n",
      "SVR() difference is [ 0.03986494  0.04741146  0.06013281  0.06853671 -0.03446506]\n",
      "DecisionTreeRegressor() difference is [-0.08935676 -0.06035681 -0.08654784  0.00592904 -0.01550024]\n",
      "LinearRegression() difference is [0.09521157 0.12219223 0.1036903  0.08259057 0.09430399]\n",
      "Lasso() difference is [ 1.98794222e-04  4.28553538e-05 -1.89344609e-04 -1.37135338e-02\n",
      " -1.01276230e-02]\n",
      "RandomForestRegressor() difference is [-0.05163409 -0.03076511 -0.03567099  0.02315143 -0.00278305]\n",
      "GradientBoostingRegressor() difference is [-0.01712615 -0.00481197  0.00214252  0.03770599  0.00996892]\n"
     ]
    }
   ],
   "source": [
    "models=[KNeighborsRegressor(),SVR(),DecisionTreeRegressor(),LinearRegression(),Lasso(),\n",
    "        RandomForestRegressor(),GradientBoostingRegressor()]\n",
    "for i in range(0,7):\n",
    "    print(models[i],\"difference is\",scorel[i]-r2list[i])"
   ]
  },
  {
   "cell_type": "markdown",
   "metadata": {},
   "source": [
    "Random forest regressor has least difference"
   ]
  },
  {
   "cell_type": "code",
   "execution_count": 105,
   "metadata": {},
   "outputs": [],
   "source": [
    "from sklearn.model_selection import GridSearchCV\n",
    "parameters = {\n",
    "    'max_features': ['auto', 'sqrt','log2'],\n",
    "    'n_estimators': [10, 100, 200, 500],\n",
    "    'bootstrap':[True],'criterion':['mse','mae']\n",
    "}\n",
    "grid = GridSearchCV(RandomForestRegressor(), param_grid = parameters, cv = 5, scoring = \"r2\")"
   ]
  },
  {
   "cell_type": "code",
   "execution_count": 106,
   "metadata": {},
   "outputs": [
    {
     "name": "stdout",
     "output_type": "stream",
     "text": [
      "Best_parameters {'bootstrap': True, 'criterion': 'mse', 'max_features': 'sqrt', 'n_estimators': 500}\n"
     ]
    }
   ],
   "source": [
    "xtrain,xtest,ytrain,ytest=train_test_split(x,y,test_size=0.25,random_state=7)\n",
    "grid.fit(xtrain,ytrain)\n",
    "\n",
    "print(\"Best_parameters\",grid.best_params_)"
   ]
  },
  {
   "cell_type": "markdown",
   "metadata": {},
   "source": [
    "MODELING USING BEST PARAMETERS"
   ]
  },
  {
   "cell_type": "code",
   "execution_count": 107,
   "metadata": {},
   "outputs": [],
   "source": [
    "x=scaled1\n",
    "y=y2"
   ]
  },
  {
   "cell_type": "code",
   "execution_count": 108,
   "metadata": {},
   "outputs": [
    {
     "name": "stdout",
     "output_type": "stream",
     "text": [
      "Accuracy 81.0\n",
      "Mean absolute error 0.30018503395385926\n",
      "Mean squared error 0.17821414613590705\n",
      "Root Mean squared error 0.42215417341998057\n",
      "r2 score 0.81\n"
     ]
    }
   ],
   "source": [
    "xtrain,xtest,ytrain,ytest=train_test_split(x,y,test_size=0.25,random_state=7)\n",
    "from sklearn.metrics import mean_absolute_error,mean_squared_error,r2_score,accuracy_score\n",
    "model1=RandomForestRegressor(n_estimators=100,max_features='sqrt',bootstrap=True,criterion='mse')\n",
    "model1.fit(xtrain,ytrain)\n",
    "p=model1.predict(xtest)\n",
    "acc=model1.score(xtest,ytest)\n",
    "mae=mean_absolute_error(p,ytest)\n",
    "mse=mean_squared_error(p,ytest)\n",
    "rmse=np.sqrt(mean_squared_error(p,ytest))\n",
    "r2=r2_score(ytest,p)\n",
    "print('Accuracy',(round(acc,2))*100)\n",
    "print('Mean absolute error',mae)\n",
    "print('Mean squared error',mse)\n",
    "print('Root Mean squared error',rmse)\n",
    "print('r2 score',round(r2,2))"
   ]
  },
  {
   "cell_type": "markdown",
   "metadata": {},
   "source": [
    "# Accuracy=81%"
   ]
  },
  {
   "cell_type": "markdown",
   "metadata": {},
   "source": [
    "Mean absolute error 0.30018503395385926 Mean squared error 0.17821414613590705 Root Mean squared error 0.42215417341998057"
   ]
  },
  {
   "cell_type": "code",
   "execution_count": 109,
   "metadata": {},
   "outputs": [
    {
     "data": {
      "text/plain": [
       "['model_global_power.joblib']"
      ]
     },
     "execution_count": 109,
     "metadata": {},
     "output_type": "execute_result"
    }
   ],
   "source": [
    "from joblib import dump\n",
    "dump(model, 'model_global_power.joblib')"
   ]
  },
  {
   "cell_type": "code",
   "execution_count": 110,
   "metadata": {},
   "outputs": [
    {
     "data": {
      "text/plain": [
       "['model_global_power_plant.joblib']"
      ]
     },
     "execution_count": 110,
     "metadata": {},
     "output_type": "execute_result"
    }
   ],
   "source": [
    "from joblib import dump\n",
    "dump(model1, 'model_global_power_plant.joblib')"
   ]
  },
  {
   "cell_type": "code",
   "execution_count": 111,
   "metadata": {},
   "outputs": [],
   "source": [
    "from joblib import load\n",
    "loaded = load('model_global_power.joblib')"
   ]
  },
  {
   "cell_type": "code",
   "execution_count": null,
   "metadata": {},
   "outputs": [],
   "source": []
  },
  {
   "cell_type": "code",
   "execution_count": null,
   "metadata": {},
   "outputs": [],
   "source": []
  },
  {
   "cell_type": "code",
   "execution_count": null,
   "metadata": {},
   "outputs": [],
   "source": []
  },
  {
   "cell_type": "code",
   "execution_count": null,
   "metadata": {},
   "outputs": [],
   "source": []
  },
  {
   "cell_type": "code",
   "execution_count": null,
   "metadata": {},
   "outputs": [],
   "source": []
  },
  {
   "cell_type": "code",
   "execution_count": null,
   "metadata": {},
   "outputs": [],
   "source": []
  }
 ],
 "metadata": {
  "kernelspec": {
   "display_name": "Python 3",
   "language": "python",
   "name": "python3"
  },
  "language_info": {
   "codemirror_mode": {
    "name": "ipython",
    "version": 3
   },
   "file_extension": ".py",
   "mimetype": "text/x-python",
   "name": "python",
   "nbconvert_exporter": "python",
   "pygments_lexer": "ipython3",
   "version": "3.7.6"
  }
 },
 "nbformat": 4,
 "nbformat_minor": 4
}
